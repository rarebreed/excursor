{
 "cells": [
  {
   "cell_type": "markdown",
   "metadata": {},
   "source": [
    "## Attention: part 1, motivation\n",
    "\n",
    "To understand why attention is needed, let's look at how RNN's worked with a language translator.  RNN's are split into\n",
    "two parts: an Encoder which reads in the entire text and processes it, and a Decoder that does the translation.\n",
    "\n",
    "- Problem 1: there is not a direct mapping of words 1 to 1 (eg it may take more than one word)\n",
    "- Problem 2: the ordering of the words may be different\n",
    "\n",
    "Given 1 and 2, there cant be a word by word translation, instead there needs to be a larger context at the sentence\n",
    "level."
   ]
  }
 ],
 "metadata": {
  "language_info": {
   "name": "python"
  }
 },
 "nbformat": 4,
 "nbformat_minor": 2
}
