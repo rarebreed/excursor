{
 "cells": [
  {
   "cell_type": "code",
   "execution_count": null,
   "metadata": {},
   "outputs": [],
   "source": [
    "from typing import Any, Final\n",
    "import torch.nn as nn\n",
    "import torch.nn.functional as F\n",
    "from torch import Tensor\n",
    "\n",
    "import numpy as np\n",
    "import matplotlib.pyplot as plot\n",
    "import matplotlib_inline\n",
    "matplotlib_inline.backend_inline.set_matplotlib_formats(\"svg\") #type: ignore"
   ]
  },
  {
   "cell_type": "markdown",
   "metadata": {},
   "source": [
    "## Setup and organize data"
   ]
  },
  {
   "cell_type": "code",
   "execution_count": null,
   "metadata": {},
   "outputs": [],
   "source": [
    "import seaborn as sns\n",
    "import torch\n",
    "\n",
    "# convert from pandas to tensor\n",
    "iris = sns.load_dataset(\"iris\")\n",
    "data = torch.tensor(iris[iris.columns[0:4]].values).float() # type: ignore\n",
    "\n",
    "# transform species to number\n",
    "labels = torch.zeros(len(data), dtype=torch.long)\n",
    "versicolors = iris.species == \"versicolor\"\n",
    "labels[versicolors] = 1\n",
    "labels[iris.species == \"virginica\"] = 2\n",
    "labels"
   ]
  },
  {
   "cell_type": "code",
   "execution_count": null,
   "metadata": {},
   "outputs": [],
   "source": [
    "class AnnMod(nn.Module):\n",
    "    def __init__(\n",
    "        self,\n",
    "        inputs: int,\n",
    "        in_outs: int,\n",
    "        outputs: int\n",
    "    ):\n",
    "        super().__init__()  # type: ignore\n",
    "        self.inputs = inputs\n",
    "        self.in_outs = in_outs\n",
    "        self.outputs = outputs\n",
    "        self._num_layers: int = 0\n",
    "        self.layers = nn.ModuleDict()\n",
    "        self.output_name: Final[str] = \"output\"\n",
    "        self._hidden: list[str] = []\n",
    "\n",
    "        self.layers[\"input\"] = nn.Linear(self.inputs, self.in_outs)\n",
    "\n",
    "    @property\n",
    "    def num_layers(self):\n",
    "        return self._num_layers\n",
    "    \n",
    "    @num_layers.setter\n",
    "    def num_layers(self, _val: int):\n",
    "        print(\"Can not set\")\n",
    "\n",
    "    def hidden_layer(self, name: str, mod: nn.Module):\n",
    "        self._hidden.append(name)\n",
    "        self.layers[name] = mod\n",
    "        self._num_layers += 1\n",
    "        return self\n",
    "    \n",
    "    def output_layer(self, mod: nn.Module):\n",
    "        self.layers[self.output_name] = mod\n",
    "        self._num_layers += 1\n",
    "        return self\n",
    "    \n",
    "    def forward(self, inputs: Any):\n",
    "        # input ayer\n",
    "        x: Tensor = self.layers[\"input\"](inputs)\n",
    "\n",
    "        # hidden layers\n",
    "        # TODO: associate non-linear activation with each hidden layer\n",
    "        for hidden in self._hidden:\n",
    "            lin: Tensor = self.layers[hidden](x)\n",
    "            x = F.relu(lin)\n",
    "        \n",
    "        # Output layer\n",
    "        x = self.layers[self.output_name](x)\n"
   ]
  },
  {
   "cell_type": "code",
   "execution_count": null,
   "metadata": {},
   "outputs": [],
   "source": [
    "am = AnnMod(4, 12, 3)\n",
    "for i in range(4):\n",
    "    am.hidden_layer(f\"hidden{i}\", nn.Linear(am.in_outs, am.in_outs))\n",
    "am.output_layer(nn.Linear(am.in_outs, am.outputs))"
   ]
  }
 ],
 "metadata": {
  "kernelspec": {
   "display_name": ".venv",
   "language": "python",
   "name": "python3"
  },
  "language_info": {
   "codemirror_mode": {
    "name": "ipython",
    "version": 3
   },
   "file_extension": ".py",
   "mimetype": "text/x-python",
   "name": "python",
   "nbconvert_exporter": "python",
   "pygments_lexer": "ipython3",
   "version": "3.12.2"
  }
 },
 "nbformat": 4,
 "nbformat_minor": 2
}
