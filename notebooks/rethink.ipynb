{
 "cells": [
  {
   "cell_type": "markdown",
   "metadata": {},
   "source": [
    "# Rethinking QA\n",
    "\n",
    "\"It takes an unusual mind to undertake an analysis of the obvious\" - Alfred North Whitehead\n",
    "\n",
    "- Many things seem obvious...until someone _really_ looks at it\n",
    "- Of course the Sun revolves around the Earth\n",
    "- Of course heavier objects fall faster than lighter objects\n",
    "- Of course running the same code should give you the same answer...\n",
    "- Of course if the above is not true, it's just \"flaky\"\n",
    "\n",
    "Things that make you go hmmm\n",
    "\n",
    "- what is \"flakiness\" really and truly?\n",
    "    - What can cause code to be non-deterministic?\n",
    "    - why does some code fail more than others?\n",
    "    - Can we just retry?\n",
    "    - Can \n",
    "- If code is stochastic, can we measure the likelihood of success?\n",
    "    - what if instead of a known _value_, we have a _distribution_?\n",
    "\n",
    "Prelude"
   ]
  }
 ],
 "metadata": {
  "language_info": {
   "name": "python"
  }
 },
 "nbformat": 4,
 "nbformat_minor": 2
}
