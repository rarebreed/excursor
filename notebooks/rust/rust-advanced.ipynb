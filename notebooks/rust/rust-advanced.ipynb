{
 "cells": [
  {
   "attachments": {},
   "cell_type": "markdown",
   "metadata": {},
   "source": [
    "## Advanced rust\n",
    "\n",
    "This notebook will go over some advanced rust concepts including:\n",
    "\n",
    "- impl vs dyn traits\n",
    "- Generic Associated Types\n",
    "- Higher Ranked Trait Bounds\n",
    "- PhantomData\n",
    "- Subtyping and variance\n",
    "- Send vs Sync\n",
    "- Mutexes\n",
    "- Cell vs RefCell\n",
    "- Sized\n",
    "- const vs static\n",
    "- Unbounded lifetimes\n",
    "- Implicit conversions\n",
    "- Async\n",
    "    - Future\n",
    "    - Pin\n",
    "    - Waker\n",
    "\n"
   ]
  }
 ],
 "metadata": {
  "kernelspec": {
   "display_name": "Rust",
   "language": "rust",
   "name": "rust"
  },
  "language_info": {
   "name": "rust"
  },
  "orig_nbformat": 4
 },
 "nbformat": 4,
 "nbformat_minor": 2
}
