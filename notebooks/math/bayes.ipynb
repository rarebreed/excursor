{
 "cells": [
  {
   "cell_type": "code",
   "execution_count": null,
   "metadata": {},
   "outputs": [],
   "source": [
    "import pymc as pm\n",
    "import preliz as pz\n",
    "import numpy as np\n",
    "\n",
    "np.random.seed(4567)\n",
    "trials = 6\n",
    "theta_real = 0.40\n",
    "data = pz.Binomial(n=1, p=theta_real).rvs(trials)\n",
    "\n",
    "with pm.Model() as mod:\n",
    "    Θ = pm.Beta(\"test_result\", alpha=1., beta=1.)\n",
    "    y = pm.Bernoulli(\"y\", p=0, observed=data)\n",
    "    idata = pm.sample(1000)"
   ]
  }
 ],
 "metadata": {
  "kernelspec": {
   "display_name": "default",
   "language": "python",
   "name": "python3"
  },
  "language_info": {
   "codemirror_mode": {
    "name": "ipython",
    "version": 3
   },
   "file_extension": ".py",
   "mimetype": "text/x-python",
   "name": "python",
   "nbconvert_exporter": "python",
   "pygments_lexer": "ipython3",
   "version": "3.12.9"
  }
 },
 "nbformat": 4,
 "nbformat_minor": 2
}
