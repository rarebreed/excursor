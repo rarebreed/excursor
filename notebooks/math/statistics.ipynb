{
 "cells": [
  {
   "cell_type": "markdown",
   "metadata": {},
   "source": [
    "## Probability\n",
    "\n",
    "We will cover basic probability theorems\n",
    "\n",
    "- Disjoint probability\n",
    "- Depende"
   ]
  },
  {
   "cell_type": "markdown",
   "metadata": {},
   "source": [
    "## Probability of Disjoint events\n",
    "\n",
    "The probability of P(A) **or** P(B) happening is\n",
    "\n",
    "$ \\large{P(A \\cup B) = P(A) + P(B)} $\n",
    "\n",
    "The probability of P(A) **and** P(B) happening is \n",
    "\n",
    "$ \\large{P(A \\cap B) = P(A) * P(B)} $"
   ]
  },
  {
   "cell_type": "markdown",
   "metadata": {},
   "source": [
    "## Probability of Non-disjoint events\n",
    "\n",
    "The probability of P(A) or P(B) happening is\n",
    "\n",
    "$ \\large{P(A \\cup B) = P(A) + P(B) - P(A \\cap B)} $\n",
    "\n",
    "This is almost the same as a union of disjoint events, except that we have to subtract events which are both in A and\n",
    "B, otherwise they would be counted twice.\n",
    "\n",
    "> Note that this rule applies to disjoint events too.  If the events are disjoint then:  \n",
    "> $ P(A \\cap B) = 0 $\n",
    ">\n",
    "> Since there are no events which are in both A and B\n",
    "\n",
    "### Intersection?\n",
    "\n",
    "But what about the intersection of A and B?  What is the probability of the intersection of two non-disjoint events?  In\n",
    "order to answer this, we need to know about conditional probabilities first.  Keep in mind that the only way to know "
   ]
  },
  {
   "cell_type": "markdown",
   "metadata": {},
   "source": [
    "## Conditional Probability\n",
    "\n",
    "A conditional probability is given as P(A|B) which is read as \"The probability of event A, given event B happens\".\n",
    "\n",
    "> What is the probability of getting an 8 on 2 dice, when the first die is greater than 4?  Can be written as:  \n",
    "> $ P(A) = sum\\space is \\space 8 $  \n",
    "> $ P(B) = first \\space die \\space > 4 $  \n",
    "> $ P(A | B) $\n",
    "\n",
    "If we did not have the given condition, then\n",
    "\n",
    "$ P(A) = \\frac{5}{36} $\n",
    "\n",
    "However, since it is given that the first die is > 4. we reduce our sample space.  Instead of 36 combinations, we have\n",
    "only look at the first die.  There are only two cases where the value is > 4, and the sum is 8: 5,3 and 6, 2. Therefore \n",
    "\n",
    "$ P(A|B) = \\frac{2}{36} $"
   ]
  },
  {
   "cell_type": "markdown",
   "metadata": {},
   "source": [
    "## Conditional Probability: Intersection\n",
    "\n",
    "Nowthat we know conditional probability, we can write the intersection of two events as\n",
    "\n",
    "$ \\large{P(A \\cap B) = P(A) \\cdot P(B|A)} $\n",
    "\n",
    "> When events are disjoint, then  \n",
    "> $ P(B|A) = P(B) $  \n",
    "> because in the conditional probabiliy of B given A, we can not reduce the population size since they are disjoint"
   ]
  },
  {
   "cell_type": "code",
   "execution_count": null,
   "metadata": {},
   "outputs": [],
   "source": [
    "def bday():\n",
    "    i = 1\n",
    "    prob = 1\n",
    "    while i < 365:\n",
    "        prob = prob * (1 - i/365)\n",
    "        yield prob\n",
    "        i += 1\n",
    "\n",
    "i = 0\n",
    "g = bday()\n",
    "while True:\n",
    "    if next(g) < .50:\n",
    "        break\n",
    "    i += 1\n",
    "print(i)"
   ]
  },
  {
   "cell_type": "markdown",
   "metadata": {},
   "source": [
    "## Probability Functions\n",
    "\n",
    "There are two major kinds of probability functions that we are concerned about in probability theory:\n",
    "\n",
    "- PMF: Probability Mass Functions map specific discrete value(s) to a probability\n",
    "- PDF: Probability Density Functions are used for a range of continuous values, and the sum of the area under the curve is the probability\n",
    "\n",
    "Related to these functions is the notion of a `distribution`, which is a way to describe all the possible events and the probability of each one happening.\n",
    "\n",
    "### The Binomial Distribution PMF\n",
    "\n",
    "A very important PMF is the binomial distribution.  It is used to calculate the probability of a certain number of outcomes.  The outcomes can only have two\n",
    "possible states: it happened, or it didn't happen.  For example, \"Getting two heads in a toss of 4 coins\" or \"getting at least 2 rolls of 8+ on 5d10\".  Either \n",
    "the event happens, or it didn't happen.\n",
    "\n",
    "A binomial distribution has 3 parameters:\n",
    "\n",
    "- k: The number of outcomes we want\n",
    "- n: The number of trials\n",
    "- p: The probability of the successful outcome for a single event\n",
    "\n",
    "So for example, in \"Getting two heads in a toss of 4 coins\" the values would be:\n",
    "\n",
    "- k = 2 because we are looking for 2 heads\n",
    "- n = 4 because we have 4 attempts\n",
    "- p = 1/2 since the odds of getting a single heads \n",
    "\n",
    "In the example of \"getting at least 3 rolls of 8+ on 5d10\"\n",
    "\n",
    "- k = 3 because we want 3 out of 5\n",
    "- n = 5 because we are rolling 5 dice\n",
    "- p = 3/10 since P(8+ on 1d10) = P(8 on 1d10) + P(9 on 1d10) + P(10 on 1d10) = 1/10 + 1/10 + 1/10\n",
    "\n",
    "The Binomial Distribution function can be written as \n",
    "\n",
    "$ B(k; n, p) $\n",
    "\n",
    "And it is equal to \n",
    "\n",
    "$ B(k; n, p) = N_{outcomes} * P(Desired Outcome) $ \n",
    "\n",
    "But how do we calculate $ N_{outcomes} $ and $ P(Desired Outcome) $?\n",
    "\n",
    "#### Binomial Coefficient for outcomes\n",
    "\n",
    "The $ N_{outcomes} $ can be calculated using the well known $ n \\choose k $ which is calcuated as\n",
    "\n",
    "$ \\binom{n}{k} = \\frac{n!}{k!(n-k)}! $\n",
    "\n",
    "So, lets solve the first problem.  The possible number of outcomes is\n",
    "\n",
    "$ \\binom{4}{2} = \\frac{4!}{2!(2!)} = \\frac{24}{4} = 6 $\n",
    "\n",
    "#### Calculating P(Desired Outcome)\n",
    "\n",
    "Now all we need to do is calculate the probability of the desired outcome.\n",
    "\n",
    "$ p^k * (1 - p)^{n-k} $\n",
    "\n",
    "How did we get this?  Imagine you want the case where you can get 3 8's or better on a roll of 5d10.  Let's look at the most simple example of 8,8,8,1,1.  If\n",
    "we define $ P(A) $ as _the probability of getting an 8 or better on a d10 roll_\n",
    "\n",
    "The odds of this are $ P(A) * P(A) * P(A) * \\neg{P(A)} * \\neg{P(A)} $\n"
   ]
  },
  {
   "cell_type": "code",
   "execution_count": null,
   "metadata": {},
   "outputs": [],
   "source": [
    "import math\n",
    "\n",
    "def binomial_pmf(\n",
    "    k: int,\n",
    "    n: int,\n",
    "    p: float\n",
    "):\n",
    "    num_outcomes = math.comb(n, k)\n",
    "    desired_outcome = math.pow(p, k) * math.pow(1-p, n-k)\n",
    "    print(f\"{k=}, {n=}, {p=}, {num_outcomes=}, {desired_outcome=}\")\n",
    "    return num_outcomes * desired_outcome\n",
    "\n",
    "def sum_binom(\n",
    "    k: int,\n",
    "    n: int,\n",
    "    p: float\n",
    "):\n",
    "    return sum(binomial_pmf(i, n, p) for i in range(k, n + 1))"
   ]
  },
  {
   "cell_type": "code",
   "execution_count": 21,
   "metadata": {},
   "outputs": [
    {
     "name": "stdout",
     "output_type": "stream",
     "text": [
      "k=3, n=5, p=0.3, num_outcomes=10, desired_outcome=0.013229999999999997\n",
      "k=4, n=5, p=0.3, num_outcomes=5, desired_outcome=0.00567\n",
      "k=5, n=5, p=0.3, num_outcomes=1, desired_outcome=0.0024299999999999994\n"
     ]
    },
    {
     "data": {
      "text/plain": [
       "0.16307999999999997"
      ]
     },
     "execution_count": 21,
     "metadata": {},
     "output_type": "execute_result"
    }
   ],
   "source": [
    "sum_binom(3, 5, .3)"
   ]
  }
 ],
 "metadata": {
  "kernelspec": {
   "display_name": "default",
   "language": "python",
   "name": "python3"
  },
  "language_info": {
   "codemirror_mode": {
    "name": "ipython",
    "version": 3
   },
   "file_extension": ".py",
   "mimetype": "text/x-python",
   "name": "python",
   "nbconvert_exporter": "python",
   "pygments_lexer": "ipython3",
   "version": "3.12.5"
  }
 },
 "nbformat": 4,
 "nbformat_minor": 2
}
