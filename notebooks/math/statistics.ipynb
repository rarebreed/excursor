{
 "cells": [
  {
   "cell_type": "markdown",
   "metadata": {},
   "source": [
    "## Probability\n",
    "\n",
    "We will cover basic probability theorems\n",
    "\n",
    "- Disjoint probability\n",
    "- Depende"
   ]
  },
  {
   "cell_type": "markdown",
   "metadata": {},
   "source": [
    "## Disjoint events\n",
    "\n",
    "The probability of P(A) or P(B) happening is\n",
    "\n",
    "$ \\large{P(A \\cup B) = P(A) + P(B)} $\n",
    "\n",
    "The probability of P(A) and P(B) happening is \n",
    "\n",
    "$ \\large{P(A \\cap B) = P(A) * P(B)} $"
   ]
  },
  {
   "cell_type": "markdown",
   "metadata": {},
   "source": [
    "## Non-disjoint events\n",
    "\n",
    "The probability of P(A) or P(B) happening is\n",
    "\n",
    "$ \\large{P(A \\cup B) = P(A) + P(B) - P(A \\cap B)} $\n",
    "\n",
    "This is almost the same as a union of disjoint events, except that we have to subtract events which are both in A and\n",
    "B, otherwise they would be counted twice.\n",
    "\n",
    "> Note that this rule applies to disjoint events too.  If the events are disjoint then:  \n",
    "> $ P(A \\cap B) = 0 $\n",
    ">\n",
    "> Since there are no events which are in both A and B\n",
    "\n",
    "### Intersection?\n",
    "\n",
    "But what about the intersection of A and B?  What is the probability of the intersection of two non-disjoint events?  In\n",
    "order to answer this, we need to know about conditional probabilities first.  Keep in mind that the only way to know "
   ]
  },
  {
   "cell_type": "markdown",
   "metadata": {},
   "source": [
    "## Conditional Probability\n",
    "\n",
    "A conditional probability is given as P(A|B) which is read as \"The probability of event A, given event B happens\".\n",
    "\n",
    "> What is the probability of getting an 8 on 2 dice, when the first die is greater than 4?  Can be written as:  \n",
    "> $ P(A) = sum\\space is \\space 8 $  \n",
    "> $ P(B) = first \\space die \\space > 4 $  \n",
    "> $ P(A | B) $\n",
    "\n",
    "If we did not have the given condition, then\n",
    "\n",
    "$ P(A) = \\frac{5}{36} $\n",
    "\n",
    "However, since it is given that the first die is > 4. we reduce our sample space.  Instead of 36 combinations, we have\n",
    "only look at the first die.  There are only two cases where the value is > 4, and the sum is 8: 5,3 and 6, 2. Therefore \n",
    "\n",
    "$ P(A|B) = \\frac{2}{36} $"
   ]
  },
  {
   "cell_type": "markdown",
   "metadata": {},
   "source": [
    "## Conditional Probability: Intersection\n",
    "\n",
    "Nowthat we know conditional probability, we can write the intersection of two events as\n",
    "\n",
    "$ \\large{P(A \\cap B) = P(A) \\cdot P(B|A)} $\n",
    "\n",
    "> When events are disjoint, then  \n",
    "> $ P(B|A) = P(B) $  \n",
    "> because in the conditional probabiliy of B given A, we can not reduce the population size since they are disjoint"
   ]
  },
  {
   "cell_type": "code",
   "execution_count": null,
   "metadata": {},
   "outputs": [],
   "source": [
    "def bday():\n",
    "    i = 1\n",
    "    prob = 1\n",
    "    while i < 365:\n",
    "        prob = prob * (1 - i/365)\n",
    "        yield prob\n",
    "        i += 1\n",
    "\n",
    "i = 0\n",
    "g = bday()\n",
    "while True:\n",
    "    if next(g) < .50:\n",
    "        break\n",
    "    i += 1\n",
    "print(i)"
   ]
  }
 ],
 "metadata": {
  "kernelspec": {
   "display_name": "default",
   "language": "python",
   "name": "python3"
  },
  "language_info": {
   "codemirror_mode": {
    "name": "ipython",
    "version": 3
   },
   "file_extension": ".py",
   "mimetype": "text/x-python",
   "name": "python",
   "nbconvert_exporter": "python",
   "pygments_lexer": "ipython3",
   "version": "3.12.4"
  }
 },
 "nbformat": 4,
 "nbformat_minor": 2
}
