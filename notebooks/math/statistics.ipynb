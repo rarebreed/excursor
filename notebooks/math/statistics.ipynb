{
 "cells": [
  {
   "cell_type": "markdown",
   "metadata": {},
   "source": [
    "## Probability\n",
    "\n",
    "We will cover basic probability theorems\n",
    "\n",
    "- Basics\n",
    "- Disjoint probability\n",
    "- Dependent probability\n",
    "\n",
    "## Basics\n",
    "\n",
    "The Sample Space or S, is the set of all possible events.  For example, in rolling a die, S would be {1, 2, 3, 4, 5, 6}.\n",
    " \n",
    "We can specify a subset of events, often with A.  For example, the events of rolling a die with an even value is\n",
    "A = {2, 4, 6}.  It is important to note when we say \"A happens\", that it is _any_ element within A.\n",
    "\n",
    "> The Sample Space of rolling two d6 is {2, 3, 4, 5, 6, 7, 8, 9, 10, 11, 12}, and the event A such that the roll of \n",
    "> 2d6 is greater than 8 is A = {9, 10, 11, 12}\n",
    "\n",
    "### Probability Function\n",
    "\n",
    "A probability function (or just \"probability\") is a function of $ P: F \\Rightarrow \\mathbb{R} $\n",
    "\n",
    "- The probability that A happens is given as $ P(A) >= 0, \\forall{A} \\in F $.\n",
    "- $ P(S) = 1 $ "
   ]
  },
  {
   "cell_type": "markdown",
   "metadata": {},
   "source": [
    "## Probability of Disjoint events\n",
    "\n",
    "We must carefully distinguish when events in A or B are disjoint (ie, the events are mutually exclusive). The \n",
    "probability of P(A) or P(B) happening is\n",
    "\n",
    "$ \\large{P(A \\cup B) = P(A) + P(B)} $\n",
    "\n",
    "The probability of P(A) **and** P(B) happening is \n",
    "\n",
    "$ \\large{P(A \\cap B) = P(A) * P(B)} $"
   ]
  },
  {
   "cell_type": "markdown",
   "metadata": {},
   "source": [
    "## Probability of Non-disjoint events\n",
    "\n",
    "Things get more complicated when events in A and B are not disjoint.  The probability of P(A) or P(B) happening then \n",
    "becomes:\n",
    "\n",
    "$ \\large{P(A \\cup B) = P(A) + P(B) - P(A \\cap B)} $\n",
    "\n",
    "This is almost the same as a union of disjoint events, except that we have to subtract events which are both in A and\n",
    "B, otherwise they would be counted twice.\n",
    "\n",
    "> Note that this rule applies to disjoint events too.  If the events are disjoint then:  \n",
    "> $ P(A \\cap B) = 0 $\n",
    ">\n",
    "> Since there are no events which are in both A and B\n",
    "\n",
    "### Intersection?\n",
    "\n",
    "But what about the intersection of A and B?  What is the probability of the intersection of two non-disjoint events?  In\n",
    "order to answer this, we need to know about conditional probabilities first."
   ]
  },
  {
   "cell_type": "markdown",
   "metadata": {},
   "source": [
    "## Conditional Probability\n",
    "\n",
    "A conditional probability is given as $ P(A|B) $ which is read as \"The probability of event A, given event B happens\".\n",
    "\n",
    "$ P(A | B) = \\frac{P(A \\cap B)}{P(B)} $\n",
    "\n",
    "> What is the probability of getting an 8 on 2 dice, when the first die is greater than 4?  Can be written as:  \n",
    "> $ P(A) = sum\\space is \\space 8 $  \n",
    "> $ P(B) = first \\space die \\space > 4 $  \n",
    "> $ P(A | B) $\n",
    "\n",
    "If we did not have the given condition, then\n",
    "\n",
    "$ P(A) = \\frac{5}{36} $\n",
    "\n",
    "However, since it is given that the first die is > 4. we reduce our sample space.  Instead of 36 combinations, we have\n",
    "only look at the first die.  There are only two cases where the value is > 4, and the sum is 8: 5,3 and 6, 2. Therefore \n",
    "\n",
    "$ P(A|B) = \\frac{2}{36} $"
   ]
  },
  {
   "cell_type": "markdown",
   "metadata": {},
   "source": [
    "## Conditional Probability: Intersection\n",
    "\n",
    "Now that we know conditional probability, we can write the intersection of two events as\n",
    "\n",
    "$ \\large{P(A \\cap B) = P(A) \\cdot P(B|A)} $\n",
    "\n",
    "> When events are disjoint, then  \n",
    "> $ P(B|A) = P(B) $  \n",
    "> because in the conditional probabiliy of B given A, we can not reduce the population size since they are disjoint"
   ]
  },
  {
   "cell_type": "code",
   "execution_count": null,
   "metadata": {},
   "outputs": [],
   "source": [
    "def bday():\n",
    "    i = 1\n",
    "    prob = 1\n",
    "    while i < 365:\n",
    "        prob = prob * (1 - i/365)\n",
    "        yield prob\n",
    "        i += 1"
   ]
  },
  {
   "cell_type": "code",
   "execution_count": null,
   "metadata": {},
   "outputs": [],
   "source": [
    "i = 0\n",
    "g = bday()\n",
    "while True:\n",
    "    if next(g) < .50:\n",
    "        break\n",
    "    i += 1\n",
    "print(i)"
   ]
  },
  {
   "cell_type": "markdown",
   "metadata": {},
   "source": [
    "## Probability Functions\n",
    "\n",
    "There are two major kinds of probability functions that we are concerned about in probability theory:\n",
    "\n",
    "- PMF: Probability Mass Functions map specific discrete value(s) to a probability\n",
    "    - \"What is the probability that event X will occur?\"\n",
    "- PDF: Probability Density Functions find the probabilty between a range of values.\n",
    "    - \"What is the probability that the value will be between 5 and 10?\" \n",
    "    - The sum of the area under the curve within this interval is the probability (integral)\n",
    "- CDF: Cumulative Distribution Function\n",
    "\n",
    "> You can think of a PMF as the instantaneous rate of change (derivative) at a specific value of x, and  PDF as the sum \n",
    "> of the two points (the definite inttegral)\n",
    "\n",
    "Related to these functions is the notion of a `distribution`, which is a way to describe all the possible events and the probability of each event happening.\n",
    "\n",
    "### The Binomial Distribution PMF\n",
    "\n",
    "A very important PMF is the binomial distribution.  It is used to calculate the probability of a certain number of\n",
    "outcomes.  The outcomes can only have two possible states: it happened, or it didn't happen (hence the binomial).  For  \n",
    "example, \"Getting two heads in a toss of 4 coins\" or \"getting at least 2 rolls of 8+ on 5d10\".  Either the event  \n",
    "happens, or it didn't happen.\n",
    "\n",
    "A binomial distribution has 3 parameters:\n",
    "\n",
    "- k: The number of outcomes we want\n",
    "- n: The number of trials\n",
    "- p: The probability of the successful outcome for a single event\n",
    "\n",
    "So for example, in \"Getting two heads in a toss of 4 coins\" the values would be:\n",
    "\n",
    "- k = 2 because we are looking for 2 heads\n",
    "- n = 4 because we have 4 attempts\n",
    "- p = 1/2 since the odds of getting a single heads \n",
    "\n",
    "In the example of \"getting at least 3 rolls of 8+ on 5d10\"\n",
    "\n",
    "- k = 3 because we want 3 out of 5\n",
    "- n = 5 because we are rolling 5 dice\n",
    "- p = 3/10 since P(8+ on 1d10) = P(8 on 1d10) + P(9 on 1d10) + P(10 on 1d10) = 1/10 + 1/10 + 1/10\n",
    "\n",
    "The Binomial Distribution function can be written as $ B(k; n, p) $ And it is equal to \n",
    "\n",
    "$$\n",
    "\\displaystyle B(k; n, p) = N_{outcomes} * P(Desired Outcome) \n",
    "$$ \n",
    "\n",
    "But how do we calculate $ N_{outcomes} $ and $ P(Desired Outcome) $?\n",
    "\n",
    "#### Binomial Coefficient for outcomes\n",
    "\n",
    "The $ N_{outcomes} $ can be calculated using the well known $ n \\choose k $ which is calcuated as\n",
    "\n",
    "$ \\large{\\binom{n}{k} = \\frac{n!}{k!(n-k)}!} $\n",
    "\n",
    "So, lets solve the first problem.  The possible number of outcomes is\n",
    "\n",
    "$ \\binom{4}{2} = \\frac{4!}{2!(2!)} = \\frac{24}{4} = 6 $\n",
    "\n",
    "#### Calculating P(Desired Outcome)\n",
    "\n",
    "Now all we need to do is calculate the probability of the desired outcome.\n",
    "\n",
    "$ p^k * (1 - p)^{n-k} $\n",
    "\n",
    "How did we get this?  Imagine you want the case where you can get 3 8's or better on a roll of 5d10.  Let's look at the  \n",
    "most simple example of 8,8,8,1,1.  If we define $ P(A) $ as _the probability of getting an 8 or better on a d10 roll_\n",
    "\n",
    "The odds of this are $ P(A) * P(A) * P(A) * \\neg{P(A)} * \\neg{P(A)} $\n"
   ]
  },
  {
   "cell_type": "code",
   "execution_count": null,
   "metadata": {},
   "outputs": [],
   "source": [
    "import math\n",
    "\n",
    "def binomial_pmf(\n",
    "    k: int,\n",
    "    n: int,\n",
    "    p: float\n",
    "):\n",
    "    num_outcomes = math.comb(n, k)\n",
    "    desired_outcome = math.pow(p, k) * math.pow(1-p, n-k)\n",
    "    print(f\"{k=}, {n=}, {p=}, {num_outcomes=}, {desired_outcome=}\")\n",
    "    return num_outcomes * desired_outcome\n",
    "\n",
    "def sum_binom(\n",
    "    k: int,\n",
    "    n: int,\n",
    "    p: float\n",
    "):\n",
    "    return sum(binomial_pmf(i, n, p) for i in range(k, n + 1))"
   ]
  },
  {
   "cell_type": "code",
   "execution_count": null,
   "metadata": {},
   "outputs": [],
   "source": [
    "sum_binom(3, 5, .4)"
   ]
  },
  {
   "cell_type": "code",
   "execution_count": null,
   "metadata": {},
   "outputs": [],
   "source": [
    "from random import randint\n",
    "from dataclasses import dataclass\n",
    "\n",
    "def die(size: int):\n",
    "    return randint(1, size)\n",
    "\n",
    "@dataclass\n",
    "class Pool:\n",
    "    amount: int\n",
    "    size: int\n",
    "    \n",
    "    def roll(self):\n",
    "        return sorted(die(self.size) for _ in range(self.amount))\n",
    "    \n",
    "p = Pool(5, 10)\n",
    "gte_8 = 0\n",
    "for i in range(1000):\n",
    "    if len([b for b in p.roll() if b >= 7]) >= 3:\n",
    "        gte_8 += 1\n",
    "\n",
    "print(gte_8)\n"
   ]
  },
  {
   "cell_type": "markdown",
   "metadata": {},
   "source": [
    "## Beta Distribution\n",
    "\n",
    "Where the binomial distribution is a PMF, the beta distribution is a PDF.  A PMF, like the binomial distribution, \n",
    "is for a discrete value.  A PDF, like the beta distribution, is for continuous values between a range.\n",
    "\n",
    "In the binomial distribution, we wanted `k` outcomes in `n` trials.  In a beta distribution, we have $ \\alpha $ which \n",
    "is how many times we observe what we are interested in, and $ \\beta $ number of times we didn't observe what we wanted.\n",
    "It is a subtle but important difference between `k` and $ \\alpha $ and `n` and $ \\beta $.  The total number of trials\n",
    "is $ \\alpha + \\beta $\n",
    "\n",
    "The beta distribution function is defined as follows\n",
    "\n",
    "$$ \n",
    "\\displaystyle B(p; \\alpha, \\beta) = \\frac{p^{\\alpha-1} \\cdot (1-p)^{\\beta-1}}{beta(\\alpha,\\beta)} \n",
    "$$\n",
    "\n",
    "Where:\n",
    "- p: the probability of an event\n",
    "- $ \\alpha $: how many times the event of interest occurs\n",
    "- $ \\beta $: how many times the event of interest did not occur\n",
    "\n",
    "\n",
    "The $ beta(\\alpha,\\beta) $ symbol in the denominator is called the `beta Function` needs a little explanation.  It is \n",
    "defined as:\n",
    "\n",
    "$$ \n",
    "\\int_0^1 p^{\\alpha-1} \\cdot (1-p)^{\\beta-1}\n",
    "$$\n",
    "\n"
   ]
  },
  {
   "cell_type": "code",
   "execution_count": null,
   "metadata": {},
   "outputs": [],
   "source": [
    "\n",
    "\n",
    "def betad(\n",
    "    p: float,\n",
    "    alpha: int,\n",
    "    beta: int\n",
    "):\n",
    "    ..."
   ]
  },
  {
   "cell_type": "markdown",
   "metadata": {},
   "source": [
    "## Bayes Theorem\n",
    "\n",
    "We can reverse the conditions, so that is we know $ P(A|B) $ then we can find $ P(B|A) $\n",
    "\n",
    "$$\n",
    "P(A|B) = \\frac{P(B|A) \\cdot P(A)}{P(B)}\n",
    "$$\n",
    "\n",
    "$$\n",
    "P(B|A) = \\frac{P(A|B) \\cdot P(B)}{P(A)}\n",
    "$$"
   ]
  },
  {
   "cell_type": "markdown",
   "metadata": {},
   "source": [
    "### Posterior, Likelihood, and Prior\n",
    "\n",
    "Bayes formula can be broken into 3 parts:\n",
    "\n",
    "- H is our hypothesis, eg, odds the service is good\n",
    "- E is the evidence, eg, the test result\n",
    "- P(H|E) _posterior distrivution_ (or posterior)\n",
    "- P(E|H) _likelihood_ \n",
    "- P(E) _prior_ or our prior belief "
   ]
  },
  {
   "cell_type": "markdown",
   "metadata": {},
   "source": [
    "## Parameter estimation\n",
    "\n",
    "Beta distribution examples"
   ]
  },
  {
   "cell_type": "code",
   "execution_count": null,
   "metadata": {},
   "outputs": [],
   "source": [
    "import preliz as pz\n",
    "\n",
    "pz.BetaBinomial(alpha=10, beta=10, n=6).rvs()"
   ]
  },
  {
   "cell_type": "code",
   "execution_count": null,
   "metadata": {},
   "outputs": [],
   "source": [
    "import matplotlib.pyplot as plt\n",
    "\n",
    "plt.hist(pz.BetaBinomial(alpha=3, beta=4, n=6).rvs(100))\n",
    "#pz.BetaBinomial(3,4,6).plot_pdf()"
   ]
  }
 ],
 "metadata": {
  "kernelspec": {
   "display_name": "default",
   "language": "python",
   "name": "python3"
  },
  "language_info": {
   "codemirror_mode": {
    "name": "ipython",
    "version": 3
   },
   "file_extension": ".py",
   "mimetype": "text/x-python",
   "name": "python",
   "nbconvert_exporter": "python",
   "pygments_lexer": "ipython3",
   "version": "3.12.9"
  }
 },
 "nbformat": 4,
 "nbformat_minor": 2
}
