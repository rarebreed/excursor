{
 "cells": [
  {
   "cell_type": "markdown",
   "metadata": {},
   "source": [
    "## Group\n",
    "\n",
    "A group in algebra has to satisfy the following properties\n",
    "\n",
    "- if a and b are in G, then a * b is in G\n",
    "    - after applying the operation *, the range is the same as the domain\n",
    "- if a, b and c are in G, then (a * b) * c = a * (b * c)\n",
    "    - associati"
   ]
  },
  {
   "cell_type": "code",
   "execution_count": null,
   "metadata": {},
   "outputs": [],
   "source": [
    "def savings(\n",
    "    salary: float, # 139500\n",
    "    r: float = .033, # .04\n",
    "    savings: float = 377000.0, # 377000\n",
    "    s: float = .07, # .08\n",
    "    inp: float = .17, # .17,\n",
    "    b: float = 1.0,\n",
    "    years: int = 14,\n",
    "    adjusted: bool = False,\n",
    "    inflation: float = .025\n",
    "):\n",
    "    \"\"\"_summary_\n",
    "\n",
    "    Parameters\n",
    "    ----------\n",
    "    salary : float\n",
    "        salary per year\n",
    "    r : float\n",
    "        raise per year\n",
    "    savings : float\n",
    "        starting savings\n",
    "    s : float\n",
    "        interest gained on average\n",
    "    inp : float\n",
    "        percentage of salary put into 401k\n",
    "    b : float, optional\n",
    "        bonus percent, by default 1.0\n",
    "    years : int, optional\n",
    "        _description_, by default 14\n",
    "    \"\"\"\n",
    "    bonus = 0\n",
    "    total_bonus = 0\n",
    "    for i in range(years):\n",
    "        salary = salary * (1.0 + r)\n",
    "        savings = (savings * (1.0 + s) ) + (salary * inp)\n",
    "        if adjusted:\n",
    "            savings = savings * (1 - inflation)\n",
    "        bonus = salary * .13 * b * .62\n",
    "        total_bonus += bonus\n",
    "        print(f\"{2025 + i}: {salary=}, {savings=}, {bonus=}, {total_bonus=}\")"
   ]
  },
  {
   "cell_type": "code",
   "execution_count": null,
   "metadata": {},
   "outputs": [],
   "source": [
    "savings(139500.0, r=.04, s=0.075, b=1.2, years=15, inp=.19, adjusted=False, inflation=.03)"
   ]
  }
 ],
 "metadata": {
  "kernelspec": {
   "display_name": "default",
   "language": "python",
   "name": "python3"
  },
  "language_info": {
   "codemirror_mode": {
    "name": "ipython",
    "version": 3
   },
   "file_extension": ".py",
   "mimetype": "text/x-python",
   "name": "python",
   "nbconvert_exporter": "python",
   "pygments_lexer": "ipython3",
   "version": "3.12.8"
  }
 },
 "nbformat": 4,
 "nbformat_minor": 2
}
