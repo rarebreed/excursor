{
 "cells": [
  {
   "cell_type": "markdown",
   "metadata": {},
   "source": [
    "## Group\n",
    "\n",
    "A group in algebra has to satisfy the following properties\n",
    "\n",
    "- if a and b are in G, then a * b is in G\n",
    "    - after applying the operation *, the range is the same as the domain\n",
    "- if a, b and c are in G, then (a * b) * c = a * (b * c)\n",
    "    - associati"
   ]
  }
 ],
 "metadata": {
  "kernelspec": {
   "display_name": "default",
   "language": "python",
   "name": "python3"
  },
  "language_info": {
   "codemirror_mode": {
    "name": "ipython",
    "version": 3
   },
   "file_extension": ".py",
   "mimetype": "text/x-python",
   "name": "python",
   "nbconvert_exporter": "python",
   "pygments_lexer": "ipython3",
   "version": "3.12.9"
  }
 },
 "nbformat": 4,
 "nbformat_minor": 2
}
