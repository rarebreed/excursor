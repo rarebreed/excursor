{
 "cells": [
  {
   "cell_type": "code",
   "execution_count": null,
   "metadata": {},
   "outputs": [],
   "source": [
    "import numpy as np\n",
    "\n",
    "# create a vector\n",
    "v1 = np.array([1, 2, 3])\n",
    "v2 = np.array([-1, 3, 6])\n",
    "v3 = v1 + v2  # Simple addition of vector\n",
    "print(v3) \n",
    "print(v1 * v2)\n",
    "print(2 * v1)\n",
    "\n",
    "d1 = v1.dot(v2) # dot product\n",
    "print(d1)\n",
    "\n",
    "# 3 x 3 matrix\n",
    "m1 = np.array([\n",
    "    [3, -1, 2],\n",
    "    [-2, 0, 4],\n",
    "    [3, 1, -2]\n",
    "])\n",
    "m2 = np.array([\n",
    "    [2, 3, -1],\n",
    "    [0, -1, 1],\n",
    "    [2, 4, 3]\n",
    "])\n",
    "m3 = m1 * m2\n",
    "print(m3)\n",
    "m4 = m2 * m1  # matmul is not commutative\n",
    "print(m4)\n",
    "\n",
    "# 2 x 2 x 3 dimensional array\n",
    "v2 = np.array([\n",
    "    [[1, 2, 3],\n",
    "     [4, 5, 6]],\n",
    "    [[0, 2, 4],\n",
    "     [1, 3, 5]]\n",
    "])\n",
    "\n",
    "np.exp(v1)"
   ]
  },
  {
   "cell_type": "code",
   "execution_count": null,
   "metadata": {},
   "outputs": [],
   "source": [
    "import torch as tch\n",
    "\n",
    "v1 = tch.tensor([1, 2, 3])\n",
    "v2 = tch.tensor([2, 3, 4])\n",
    "\n",
    "s = v1.dot(v2)\n",
    "print(s)\n",
    "v1.exp().sum()"
   ]
  },
  {
   "cell_type": "code",
   "execution_count": null,
   "metadata": {},
   "outputs": [],
   "source": [
    "def softmax(z: tch.Tensor):\n",
    "    \"\"\"Generate non-linear mapping of input to output of probability\n",
    "\n",
    "    the z values are the input values, which get mapped to a number representing the probability.  This\n",
    "    is often used for classification.  The sum of the output values will always = 1\n",
    "\n",
    "    Parameters\n",
    "    ----------\n",
    "    z : tch.Tensor\n",
    "        input values\n",
    "\n",
    "    Returns\n",
    "    -------\n",
    "    tch.Tensor\n",
    "        mapped probability of ith values\n",
    "    \"\"\"\n",
    "    num = z.exp()\n",
    "    denom = tch.sum(num)\n",
    "    return num / denom\n",
    "\n",
    "z = tch.rand(4)\n",
    "print(z)\n",
    "softmax(z)"
   ]
  }
 ],
 "metadata": {
  "kernelspec": {
   "display_name": ".venv",
   "language": "python",
   "name": "python3"
  },
  "language_info": {
   "codemirror_mode": {
    "name": "ipython",
    "version": 3
   },
   "file_extension": ".py",
   "mimetype": "text/x-python",
   "name": "python",
   "nbconvert_exporter": "python",
   "pygments_lexer": "ipython3",
   "version": "3.11.6"
  }
 },
 "nbformat": 4,
 "nbformat_minor": 2
}
