{
 "cells": [
  {
   "attachments": {},
   "cell_type": "markdown",
   "metadata": {},
   "source": [
    "## Calculus (and gradient descent) in ML\n",
    "\n",
    "Gradient descent along with autodifferentation are two of the most important mathematical entities in machine learning.\n",
    "This guide will go over the basics of calculus in order to understand, implement and use gradient descent and autodiff\n",
    "\n",
    "- What derivatives are\n",
    "- Derivative rules\n",
    "- Partial derivatives\n",
    "- How gradient descent works"
   ]
  },
  {
   "cell_type": "code",
   "execution_count": null,
   "metadata": {},
   "outputs": [],
   "source": []
  }
 ],
 "metadata": {
  "kernelspec": {
   "display_name": ".venv",
   "language": "python",
   "name": "python3"
  },
  "language_info": {
   "name": "python",
   "version": "3.11.6"
  },
  "orig_nbformat": 4
 },
 "nbformat": 4,
 "nbformat_minor": 2
}
