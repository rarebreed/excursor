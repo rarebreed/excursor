{
 "cells": [
  {
   "cell_type": "markdown",
   "id": "2ead7a58",
   "metadata": {},
   "source": [
    "# Probabilistic Programming Language\n",
    "\n",
    "These are notes from the scientific paper on creating your own PPL"
   ]
  },
  {
   "cell_type": "markdown",
   "id": "9abaec64",
   "metadata": {},
   "source": [
    "## Terminology\n",
    "\n",
    "- Random Variable: a numerical value representing a random event (eg height of a person chosen from a pool)\n",
    "- Latent Variable: an inferred variable.  it is not directly observed (eg bias of a die)\n",
    "- conditioning\n",
    "- distribution\n",
    "- joint distribution: a distribution where random variables x, y occur together.  This is not the same as a conditional\n",
    "    probability where Y is known and given. a joint distribution's variables may or may not be related\n",
    "- inference\n"
   ]
  }
 ],
 "metadata": {
  "language_info": {
   "name": "python"
  }
 },
 "nbformat": 4,
 "nbformat_minor": 5
}
