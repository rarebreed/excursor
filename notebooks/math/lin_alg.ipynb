{
 "cells": [
  {
   "attachments": {},
   "cell_type": "markdown",
   "metadata": {},
   "source": [
    "# Linear Algebra notes\n",
    "\n",
    "This notebook will be notes on linear algebra using numpy "
   ]
  },
  {
   "attachments": {},
   "cell_type": "markdown",
   "metadata": {},
   "source": [
    "## N-dimensional arrays\n",
    "\n",
    "In computer science, we tend to call them n-dimensional arrays, whereas in mathematics they are called tensors\n",
    "\n",
    "### Terminology\n",
    "\n",
    "| Math   | Computer Science    | Description\n",
    "|--------|---------------------|------------------------------------------------------------------\n",
    "| scalar | 0-dimensional array | Just a number or value\n",
    "| vector | 1-dimensional array | What we normally think of in python or rust as a list or Vec\n",
    "| matrix | 2-dimensional array | A table of rows and columns of m rows and n columns (mxn)\n",
    "| tensor | n-dimensional array | A cube would be a 3-dimensional array\n",
    "\n",
    "shape: Best explained with examples"
   ]
  },
  {
   "cell_type": "code",
   "execution_count": null,
   "metadata": {},
   "outputs": [],
   "source": [
    "import numpy as np\n",
    "\n",
    "# The shape is always an n-element tuple, where n is how many ['s it takes to get to the first value\n",
    "# Here, we can count 2 ['s until we get to the first number.  So we know the shape must have 2 elements\n",
    "#\n",
    "# For each [ after the first, how many elements are there?  \n",
    "# In this case, after the opening [, there are 2 elements.  After that [, there are also 2.\n",
    "# So the shape is (2, 2)\n",
    "n1 = np.array([\n",
    "    [1, 2],\n",
    "    [2, 3]\n",
    "])\n",
    "print(n1.shape)\n",
    "\n",
    "# We have three ['s until we get to our first number, so this is a shape with 3 elements\n",
    "# After the first [, we have one element\n",
    "# After the 2nd [, we have 2 elements\n",
    "# And in the array, we have 2 elements\n",
    "# So the shape is (1, 2, 2)\n",
    "n2 = np.array([\n",
    "    [\n",
    "        [1, 2],\n",
    "        [2, 3]\n",
    "    ]\n",
    "])\n",
    "print(n2.shape)\n",
    "\n",
    "# Here too, we have 3 ['s until we get to our first number, so it is a shape of 3 elements\n",
    "# After the first brace, we have 2 elements\n",
    "# After the 2nd, we also have 2, \n",
    "# and each inner array has 3\n",
    "# So our shape is (2, 2, 3)\n",
    "n3 = np.array([\n",
    "    [\n",
    "        [1, 2, 3],\n",
    "        [2, 3, 4]\n",
    "    ],\n",
    "    [\n",
    "        [3, 4, 5],\n",
    "        [4, 5, 6]   \n",
    "    ]\n",
    "])\n",
    "print(n3.shape)"
   ]
  },
  {
   "attachments": {},
   "cell_type": "markdown",
   "metadata": {},
   "source": [
    "## Notation\n",
    "\n",
    "For "
   ]
  },
  {
   "attachments": {},
   "cell_type": "markdown",
   "metadata": {},
   "source": [
    "## Vector operations\n",
    "\n",
    "There are several operations we can perform on a vector\n",
    "\n",
    "- addition\n",
    "- multiplication\n",
    "- dot product\n",
    "\n",
    "The dot product is equivalent to:\n",
    "\n",
    "```\n",
    "sum(i * v1[ind] for ind, i in enumerate(v0))\n",
    "```"
   ]
  },
  {
   "cell_type": "code",
   "execution_count": null,
   "metadata": {},
   "outputs": [],
   "source": [
    "v0 = np.array(range(4))\n",
    "print(v0 + 2)  # Addition\n",
    "print(v0 * 2)  # multiplication\n",
    "print(n2 + 3)\n",
    "\n",
    "v1 = np.array([1, 0, -1, 2])\n",
    "print(np.dot(v0, v1))\n",
    "sum(i * v1[ind] for ind, i in enumerate(v0))"
   ]
  },
  {
   "attachments": {},
   "cell_type": "markdown",
   "metadata": {},
   "source": [
    "## Matrices (2-dimensional arrays)\n",
    "\n",
    "It is very common to have 2-dimensional matrices.  They follow a couple of special rules. and have some interesting properties.  But first we need to talk about what matrices can model.\n",
    "\n",
    "### System of Linear Equations\n",
    "\n",
    "A linear equation looks something like\n",
    "\n",
    "```\n",
    "3a + 2b = 12\n",
    "2a + 3b = 13\n",
    "```\n",
    "\n",
    "So, how would you solve this?  You could just try to guess it by plugging in some numbers."
   ]
  },
  {
   "cell_type": "code",
   "execution_count": null,
   "metadata": {},
   "outputs": [],
   "source": [
    "A = np.random.randn(3, 4)\n",
    "print(A)\n",
    "A[:,2]"
   ]
  },
  {
   "cell_type": "markdown",
   "metadata": {},
   "source": [
    "## Linear Transformations and Matrices\n",
    "\n",
    "A matrix can be seen as a linear transformation, and a linear transformation can be seen as a matrix.  So, what then is\n",
    "a linear transformation?\n",
    "\n",
    "You can think of a linear transformation as a new representation of an n-dimensional space.  Imagine for example a 2d\n",
    "grid, with equally spaced lines.  A 2x2 matrix then can be thought of as a way to \"stretch\" or contort the grid in a \n",
    "new way.  If we think of a vector as a point in this 2d space, when we apply the matrix to this vector (through a normal\n",
    "matrix-vector multiplication), the vector is then translated to this new grid system."
   ]
  },
  {
   "cell_type": "markdown",
   "metadata": {},
   "source": []
  }
 ],
 "metadata": {
  "kernelspec": {
   "display_name": "excursor",
   "language": "python",
   "name": "python3"
  },
  "language_info": {
   "codemirror_mode": {
    "name": "ipython",
    "version": 3
   },
   "file_extension": ".py",
   "mimetype": "text/x-python",
   "name": "python",
   "nbconvert_exporter": "python",
   "pygments_lexer": "ipython3",
   "version": "3.12.2"
  },
  "orig_nbformat": 4
 },
 "nbformat": 4,
 "nbformat_minor": 2
}
