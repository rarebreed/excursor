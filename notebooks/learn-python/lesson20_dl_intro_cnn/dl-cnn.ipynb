{
 "cells": [
  {
   "cell_type": "markdown",
   "metadata": {},
   "source": [
    "## Deep Learning Into: CNN\n",
    "\n",
    "Convolution Neural Networks are important in vision tasks, and they have some relations with transformer models"
   ]
  }
 ],
 "metadata": {
  "language_info": {
   "name": "python"
  }
 },
 "nbformat": 4,
 "nbformat_minor": 2
}
