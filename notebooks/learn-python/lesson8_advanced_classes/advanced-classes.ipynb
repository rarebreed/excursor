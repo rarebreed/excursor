{
 "cells": [
  {
   "cell_type": "markdown",
   "metadata": {},
   "source": [
    "## Advanced Classes\n",
    "\n",
    "- metaclasses\n",
    "- abstract base class\n",
    "- multiple inheritance"
   ]
  }
 ],
 "metadata": {
  "language_info": {
   "name": "python"
  }
 },
 "nbformat": 4,
 "nbformat_minor": 2
}
