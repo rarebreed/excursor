{
 "cells": [
  {
   "cell_type": "markdown",
   "metadata": {},
   "source": [
    "# Small Http service to get datetime\n",
    "\n",
    "We will build a small HTTP REST service to gradually build up an understanding of several concepts\n",
    "\n",
    "- All the different ways you can declare parameters to a python function\n",
    "- The different python scopes\n",
    "- What namespaces are\n",
    "\n",
    "We will gradually add more functions to the little service including a small \"database\" which will be a set of local\n",
    "files that we can do simple CRUD operations on and some analytics."
   ]
  },
  {
   "cell_type": "code",
   "execution_count": null,
   "metadata": {},
   "outputs": [],
   "source": [
    "from typing import Literal, TypeAlias\n",
    "from fastapi import FastAPI, HTTPException\n",
    "from datetime import datetime, timedelta, timezone\n",
    "from pydantic import BaseModel\n",
    "\n",
    "app = FastAPI()\n",
    "\n",
    "TimeUnits: TypeAlias = Literal[\"days\", \"hours\", \"minutes\", \"seconds\"]\n",
    "TimeDelta: TypeAlias = dict[TimeUnits, float]\n",
    "\n",
    "\n",
    "class Interval(BaseModel):\n",
    "    from_delta: TimeDelta = {}\n",
    "    until_delta: TimeDelta = {}\n",
    "\n",
    "@app.get(\"/dt/time\")\n",
    "def date_now():\n",
    "    return {\"time\": datetime.now().isoformat()}\n",
    "\n",
    "@app.get(\"/dt/time_from\")\n",
    "def date_from(days_back: int):\n",
    "    now = datetime.now(tz=timezone.utc)\n",
    "    start = now - timedelta(days=days_back)\n",
    "    return {\"time\": start.isoformat()}\n",
    "\n",
    "@app.post(\"/dt/interval\")\n",
    "def get_interval(interval: Interval):\n",
    "    now = datetime.now(tz=timezone.utc)\n",
    "    start = now - timedelta(**interval.from_delta)\n",
    "    end = now - timedelta(**interval.until_delta)\n",
    "    if start > end:\n",
    "        raise HTTPException(status_code=400, detail=\"from_delta must be greater than until_delta\")\n",
    "    return {\"interval\": f\"{start.isoformat()}/{end.isoformat()}\"}\n",
    "\n",
    "import uvicorn\n",
    "\n",
    "if __name__ == \"__main__\":\n",
    "    config = uvicorn.Config(app)\n",
    "    server = uvicorn.Server(config)\n",
    "    await server.serve()"
   ]
  }
 ],
 "metadata": {
  "kernelspec": {
   "display_name": ".venv",
   "language": "python",
   "name": "python3"
  },
  "language_info": {
   "codemirror_mode": {
    "name": "ipython",
    "version": 3
   },
   "file_extension": ".py",
   "mimetype": "text/x-python",
   "name": "python",
   "nbconvert_exporter": "python",
   "pygments_lexer": "ipython3",
   "version": "3.12.3"
  },
  "orig_nbformat": 4
 },
 "nbformat": 4,
 "nbformat_minor": 2
}
