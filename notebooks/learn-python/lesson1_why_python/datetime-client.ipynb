{
 "cells": [
  {
   "cell_type": "markdown",
   "metadata": {},
   "source": [
    "## REST client for our service\n",
    "\n",
    "We will start with a synchronous (blocking) HTTP client that will invoke the REST methods on our service.  Eventually,\n",
    "we will add asynchronous requests."
   ]
  },
  {
   "cell_type": "code",
   "execution_count": null,
   "metadata": {},
   "outputs": [],
   "source": [
    "# Small synchronous Http Client\n",
    "\n",
    "import requests\n",
    "\n",
    "from excursor.services.datetime_svc import TimeDelta, Interval\n",
    "\n",
    "svc_host = \"http://127.0.0.1:8000/dt\"\n",
    "def dt_svc(endpoint):\n",
    "    return f\"{svc_host}/{endpoint}\"\n",
    "\n",
    "def get_time_now():\n",
    "    response = requests.get(dt_svc(\"time\"))\n",
    "    print(response.status_code)\n",
    "    return response.json()\n",
    "\n",
    "def get_time(days_back: int):\n",
    "    if days_back < 0:\n",
    "        raise Exception(\"days_back must be >= 0\")\n",
    "    response = requests.get(\n",
    "        dt_svc(\"time_from\"),\n",
    "        params=dict(days_back = days_back)\n",
    "    )\n",
    "    print(response.request.url)\n",
    "    return response.json()\n",
    "\n",
    "\n",
    "def interval():\n",
    "    from_d: TimeDelta = {\"days\": 7, \"hours\": 6}\n",
    "    until_d: TimeDelta = {\"days\": 1, \"hours\": 8}\n",
    "    interval = Interval(from_delta=from_d, until_delta=until_d)\n",
    "    response = requests.post(\n",
    "        dt_svc(\"interval\"),\n",
    "        data=interval.json()\n",
    "    )\n",
    "    print(response.status_code)\n",
    "    return response.json()\n",
    "\n",
    "# print(get_time(0))\n",
    "interval()"
   ]
  }
 ],
 "metadata": {
  "kernelspec": {
   "display_name": ".venv",
   "language": "python",
   "name": "python3"
  },
  "language_info": {
   "codemirror_mode": {
    "name": "ipython",
    "version": 3
   },
   "file_extension": ".py",
   "mimetype": "text/x-python",
   "name": "python",
   "nbconvert_exporter": "python",
   "pygments_lexer": "ipython3",
   "version": "3.11.5"
  },
  "orig_nbformat": 4
 },
 "nbformat": 4,
 "nbformat_minor": 2
}
