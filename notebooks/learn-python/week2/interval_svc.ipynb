{
 "cells": [
  {
   "cell_type": "markdown",
   "metadata": {},
   "source": [
    "## Why python?\n",
    "\n",
    "Python is one of the most in-demand languages in the market now as shown by Stack Overflow surveys.  This in turn is driven to a large degree by the rise of Big Data and Machine Learning.  Currently, Java is the king of Big Data with the likes of frameworks such as Spark and Flink.  This however is changing.\n",
    "\n",
    "### The basics are simple\n",
    "\n",
    "Python is relatively simple and thus can be adopted quickly.  This is a big disadvantage of rust, which has a reputation for being hard to learn.  Being simple makes python great for prototyping code.  Speed of development is much faster than most languages which is ideal for ad-hoc/exploratory testing and experiments\n",
    "\n",
    "### Python is challenging Java in data processing\n",
    "\n",
    "Python is starting to challenge Java in data _processing_.  Java rules the roost with spark and flink, but this is starting to change.  For example, OpenAI uses the ray framework to train GPT LLM's, because batch inference on spark was too slow.  Data scientists heavily use python frameworks like pandas, polars and duckdb for data analytics (polars can now lazy load data larger than disk size).  Even most spark tutorials use pyspark rather than scala to show how it works.  \n",
    "\n",
    "Python is also making good strides to make data processing work on data that can't fit on a local machine (a limitation of pandas)\n",
    "F rameworks like [fugue](https://fugue-tutorials.readthedocs.io/index.html) can distribute pandas/polars workloads across a distributed cluster much like spark now.\n",
    "\n",
    "### Python is the king of data compute\n",
    "\n",
    "Whereas data _processing_ is essentially a transformation of data (ie, querying, cleaning up or merging of data), data _compute_ is performing calculations on the data (ie, machine learning, games, etc).  Because of python's entrenchment in machine learning, it has a lot of libraries that can make use of hardware accelerators (GPU/TPU/NPU) like pytorch or tensorflow.  If you have compute heavy workloads (eg deserialiazation or calculations) then python will be very fast.\n",
    "\n",
    "### Modern type system\n",
    "\n",
    "Although the type checker is optional and only runs either from the IDE or through something like a mypy linter, python's type system is actually more powerful than Java 19.  It can for example, take care of None handling for you.  For example, unlike Java, where all types are effectively a union of the values of their type plus null (called a _bottom_ type in programming language theory), in the python type system, type `T` is distinct from type `T | None`\n",
    "\n",
    "\n",
    "### Defacto language for ML\n",
    "\n",
    "Python is the defacto language of all the most popular ML toolkits (pytorch, tensorflow, hugging faces, sci-kit-learn, numpy, etc).  While python has its warts (all languages do), you pretty much have to know python to do any ML in a collaborative effort, because almost everyone else's code will be using some python framework.\n",
    "\n",
    "### Mojo (a superset of python)\n",
    "\n",
    "A secret reason I want to get people to use python is as a gateway drug to the mojo language.  Mojo is an upcoming language that promises rust and C performance, and even faster for ML accelerators.  It is currently in a very alpha stage and has serious limitations (eg, it doesn't even have a list or dict type in its standard library).  But it shows a lot of promise because:\n",
    "\n",
    "- It should be faster than C or rust for parallelizable apps\n",
    "- It (currently) has no garbage collector making it ideal for performance/latenct sensitive apps\n",
    "- The syntax is very similar to typed python\n",
    "- You can run python code as-is\n",
    "- You can code in python (though you will only get a little performance boost)\n",
    "\n",
    "What this means, is that you can gradually port python code to mojo code over time, and get huge performance and infrastructure.  Since it is a superset of python, it also gets the entire python ecosystem for free.  These are huge advantages over rust for example."
   ]
  },
  {
   "cell_type": "markdown",
   "metadata": {},
   "source": [
    "## A small HTTP service\n",
    "\n",
    "Now that we have an idea of why python is good for you, we need a way to actually learn it!  I think that real-world examples are best, so we will start by creating a small HTTP service.  This will cover some essentials:\n",
    "\n",
    "- The myriad ways of declaring functions\n",
    "- Usefulness of the jupyter notebook\n"
   ]
  },
  {
   "cell_type": "code",
   "execution_count": null,
   "metadata": {},
   "outputs": [],
   "source": []
  }
 ],
 "metadata": {
  "language_info": {
   "name": "python"
  },
  "orig_nbformat": 4
 },
 "nbformat": 4,
 "nbformat_minor": 2
}
