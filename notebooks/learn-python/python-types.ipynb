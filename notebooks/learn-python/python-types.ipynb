{
 "cells": [
  {
   "attachments": {},
   "cell_type": "markdown",
   "metadata": {},
   "source": [
    "# Modern Python\n",
    "\n",
    "If you haven't been doing python for about the last 3 years, or you haven't been keeping up with all the changes\n",
    "since 3.7, then python may feel like a new language for you.\n",
    "\n",
    "This notebook will be a gentle introduction to python for engineers familiar with programming in another language. After\n",
    "the basics are out of the way, an in depth coverage of modern features will be covered.  This guide will also introduce\n",
    "you to popular python packages, and how to best manage your python project.\n",
    "\n",
    "- The basics\n",
    "    - Scopes\n",
    "    - Data types\n",
    "        - Maps, lists, sets, int, num, str, bytes, file-like, Iterables, Sequences\n",
    "    - Functions\n",
    "        - decorators\n",
    "    - Classes\n",
    "    - New classes (dataclass)\n",
    "    - Inheritance\n",
    "    - Modules, packages and imports\n",
    "- Advanced\n",
    "    - Type annotation basics\n",
    "    - TypeVar\n",
    "    - ParamSpec\n",
    "    - Generics\n",
    "    - Unions\n",
    "    - Callable"
   ]
  },
  {
   "attachments": {},
   "cell_type": "markdown",
   "metadata": {},
   "source": [
    "## Functions and basic types\n",
    "\n",
    "We will start with functions and basic types.  A function is declared with `def` followed by a name, and then a parenthesis\n",
    "with 0 or more parameters.\n",
    "\n",
    "Python functions has several special abilities with functions:\n",
    "\n",
    "- Can take default values for parameters\n",
    "- Can specify keyword at the calling of a function\n",
    "- Can take positional only parameters using `/`\n",
    "- Can take keyword only parameters using `*`\n",
    "- Can pass in a list for positional args with the `*` operator\n",
    "- Can pass in a dictionary for keyword args using the `**` operator"
   ]
  },
  {
   "attachments": {},
   "cell_type": "markdown",
   "metadata": {},
   "source": [
    "## Simple function\n",
    "\n",
    "Here is a basic function.  It takes two arguments, one is named `name` and takes a `str` type.  The second parameter\n",
    "is called `age` and takes an `int` type.  It returns a `str` denoted by `-> str`\n",
    "\n",
    "Note that in python, types are purely optional and are calculated by a static type checker.  But at runtime, the python\n",
    "interpreter does not use any of this information.  The annotations are available with reflection though.\n",
    "\n",
    "However, you should _always_ use types, even if they optional."
   ]
  },
  {
   "cell_type": "code",
   "execution_count": 1,
   "metadata": {},
   "outputs": [
    {
     "name": "stdout",
     "output_type": "stream",
     "text": [
      "sean is 51\n"
     ]
    }
   ],
   "source": [
    "def basic_with_args(name: str, age: int) -> str:\n",
    "    \"\"\"Returns name is age\"\"\"\n",
    "    return f\"{name} is {age}\"\n",
    "\n",
    "value = basic_with_args(\"sean\", 51)\n",
    "print(value)"
   ]
  },
  {
   "attachments": {},
   "cell_type": "markdown",
   "metadata": {},
   "source": [
    "## Calling by keyword\n",
    "\n",
    "You can also call by keyword as shown here"
   ]
  },
  {
   "cell_type": "code",
   "execution_count": 2,
   "metadata": {},
   "outputs": [
    {
     "name": "stdout",
     "output_type": "stream",
     "text": [
      "john is 40\n",
      "mary is 32\n",
      "jane is 29\n"
     ]
    }
   ],
   "source": [
    "value = basic_with_args(\"john\", age=40)\n",
    "print(value)\n",
    "# basic_with_args(name=\"john\", 40) # cant use keywordless args after using one earlier\n",
    "\n",
    "# Note I can reassign value\n",
    "value = basic_with_args(name=\"mary\", age=32)\n",
    "print(value)\n",
    "\n",
    "value = basic_with_args(\"jane\", age=\"29\")  # note that \"29\" is invalid type,and checker will complain but this will stull work\n",
    "print(value)"
   ]
  },
  {
   "attachments": {},
   "cell_type": "markdown",
   "metadata": {},
   "source": [
    "## Default parameters\n",
    "\n",
    "You can also set default values.  Some care has to be taken with mutable values.  Also, default parameters can only\n",
    "be declared after all non-default parameters\n",
    "\n",
    "The code below also shows an example of a Union type: a type that can be one of several choices.  In Algebraic types, \n",
    "it is a Sum type (classes are Product types).\n",
    "\n",
    "This example also shows how to import built in modules to get access to their functionality."
   ]
  },
  {
   "cell_type": "code",
   "execution_count": 3,
   "metadata": {},
   "outputs": [],
   "source": [
    "import os\n",
    "from pathlib import Path\n",
    "\n",
    "\n",
    "def writer(content: str | bytes, output: str | Path | None = None):\n",
    "    \"\"\"Writes content to output path\n",
    "\n",
    "    Parameters\n",
    "    ----------\n",
    "    content : str | bytes\n",
    "        the data to write to file\n",
    "    output : str | Path | None\n",
    "        path of file to write to (if none, current directory)\n",
    "    \"\"\"\n",
    "    # We defaulted to None, so we check for it\n",
    "    if output is None:\n",
    "        output = Path(os.getcwd()) / \"testdata\"\n",
    "    \n",
    "    # Example of pattern matching\n",
    "    match content:\n",
    "        case str():      # if content is a str type\n",
    "            mode = \"w+\"  # For text\n",
    "        case bytes():    # if content is a bytes type\n",
    "            mode = \"wb\"  # for binary add a 'b'\n",
    "    with open(output, mode) as f: \n",
    "        f.write(content)\n",
    "\n",
    "writer(\"just a test\")  # No argument passed to `output` parameter\n",
    "# Check your directory\n",
    "\n",
    "test_path = Path(\"testdata2\")\n",
    "writer(\"another test\", output=test_path)\n",
    "bin_path = \"binary_data\"\n",
    "writer(b'01234', bin_path)\n"
   ]
  },
  {
   "cell_type": "code",
   "execution_count": 4,
   "metadata": {},
   "outputs": [],
   "source": [
    "# delete data files\n",
    "test_path.unlink()\n",
    "Path(\"testdata\").unlink()\n",
    "Path(\"binary_data\").unlink()"
   ]
  },
  {
   "attachments": {},
   "cell_type": "markdown",
   "metadata": {},
   "source": [
    "## Passing lists and dicts\n",
    "\n",
    "A common (some might say too common) occurrence in python functions is the ability to pass in lists and dicts to\n",
    "python functions.  By convention, it's often called `*args` and `**kwargs`.\n",
    "\n",
    "It's best shown with examples"
   ]
  },
  {
   "cell_type": "code",
   "execution_count": 5,
   "metadata": {},
   "outputs": [
    {
     "name": "stdout",
     "output_type": "stream",
     "text": [
      "{1: 'foo'}\n",
      "(100, 200)\n",
      "None\n",
      "True\n",
      "2023-05-27 21:04:35.777374\n",
      "2023-05-27 21:04:35.777375\n",
      "1:00:00\n"
     ]
    },
    {
     "data": {
      "text/plain": [
       "datetime.datetime(2023, 5, 27, 22, 4, 35, 777375)"
      ]
     },
     "execution_count": 5,
     "metadata": {},
     "output_type": "execute_result"
    }
   ],
   "source": [
    "from datetime import datetime, timedelta\n",
    "from typing import Tuple\n",
    "\n",
    "\n",
    "def lots_of_args(\n",
    "    mapping: dict,\n",
    "    answers: Tuple[int, int],\n",
    "    cwd: str | None,\n",
    "    completed: bool,\n",
    "    start: datetime,\n",
    "    end: datetime,\n",
    "    timeout: timedelta\n",
    "):\n",
    "    print(mapping)\n",
    "    print(answers)\n",
    "    print(cwd)\n",
    "    print(completed)\n",
    "    print(start)\n",
    "    print(end)\n",
    "    print(timeout)\n",
    "    return end + timeout\n",
    "\n",
    "args = [\n",
    "    {1: \"foo\"},\n",
    "    (100, 200),\n",
    "    None\n",
    "]\n",
    "kwargs = {\n",
    "    \"completed\": True,\n",
    "    \"start\": datetime.now(),\n",
    "    \"end\": datetime.now(),\n",
    "    \"timeout\": timedelta(hours=1)\n",
    "}\n",
    "lots_of_args(*args, **kwargs)"
   ]
  },
  {
   "attachments": {},
   "cell_type": "markdown",
   "metadata": {},
   "source": [
    "## Another example\n",
    "\n",
    "This is a more generic way to write functions.  This is, IMHO poor style, and should only be done with decorators."
   ]
  },
  {
   "cell_type": "code",
   "execution_count": 6,
   "metadata": {},
   "outputs": [
    {
     "name": "stdout",
     "output_type": "stream",
     "text": [
      "arg 1 is john\n",
      "([1, 2], datetime.datetime(2023, 5, 27, 21, 4, 43, 720454))\n",
      "runnable = False\n"
     ]
    }
   ],
   "source": [
    "def generic(*args, **kwargs):\n",
    "    print(f\"arg 1 is {args[0]}\")\n",
    "    print(f\"{args[1:]}\")\n",
    "    # example of iteration\n",
    "    for k,v in kwargs.items():\n",
    "        print(f\"{k} = {v}\")\n",
    "\n",
    "\n",
    "generic(\"john\", [1, 2], datetime.now(), runnable=False)"
   ]
  },
  {
   "attachments": {},
   "cell_type": "markdown",
   "metadata": {},
   "source": [
    "## Typing out *args and **kwargs\n",
    "\n",
    "It is possible to type annotate *args and **kwargs which is more acceptable, but still not as clear."
   ]
  },
  {
   "cell_type": "code",
   "execution_count": null,
   "metadata": {},
   "outputs": [],
   "source": [
    "def typed_generic(*args: )"
   ]
  },
  {
   "attachments": {},
   "cell_type": "markdown",
   "metadata": {},
   "source": [
    "## Scopes\n",
    "\n",
    "This will be a very brief intro, but hopefully even people using python will learn a thing or two here.  The first thing\n",
    "we will go over is the concept of `scopes`.  Python, unlike most modern languages is not lexically scoped.\n",
    "\n",
    "What does `lexically scoped` mean?  Lexical means essentially, words, but it has to do with \"boundaries\" of your code.\n",
    "In many languages with curly braces, the braces define a scope.  Variables or other symbols introduced in that scope\n",
    "(eg the curly braces) only last inside the brace section.\n",
    "\n",
    "Python is not like that.  First off, it doesn't have curly braces.  But it does have indentation, so you might think\n",
    "that the indentation acts as a kind of scope, just like curly braces do.  This is incorrect.  Python really only has \n",
    "Method (or class) scope, and module scope.\n",
    "\n",
    "The code below illustrates"
   ]
  },
  {
   "cell_type": "code",
   "execution_count": 7,
   "metadata": {},
   "outputs": [
    {
     "name": "stdout",
     "output_type": "stream",
     "text": [
      "module_scoped is 10\n",
      "a_list is now [1, 2, 3]\n",
      "id of a_list is 140301618256000\n",
      "id of some_list = 140301618256000\n",
      "id of some_list is now = 140301618256192\n",
      "[1, 2, 3]\n"
     ]
    }
   ],
   "source": [
    "module_scoped = 10\n",
    "\n",
    "def lookup():\n",
    "    module_scoped = 100\n",
    "\n",
    "lookup()\n",
    "print(f\"module_scoped is {module_scoped}\") # it's still 10\n",
    "\n",
    "a_list = [1, 2]\n",
    "\n",
    "def adder(some_list: list[int], val: int):\n",
    "    some_list.append(val)\n",
    "\n",
    "def replacer(some_list: list[int]):\n",
    "    print(f\"id of some_list = {id(some_list)}\")\n",
    "    some_list = []\n",
    "    print(f\"id of some_list is now = {id(some_list)}\")\n",
    "\n",
    "adder(a_list, 3)\n",
    "print(f\"a_list is now {a_list}\") # this mutates a_list\n",
    "\n",
    "print(f\"id of a_list is {id(a_list)}\")\n",
    "replacer(a_list) # this is like lookup(), it creates a new binding, leaving the original alone\n",
    "print(a_list)"
   ]
  },
  {
   "cell_type": "code",
   "execution_count": null,
   "metadata": {},
   "outputs": [],
   "source": [
    "# the global and nonlocal are rarely used.  it's kind of a code smell if they are\n",
    "\n",
    "def globalizer():\n",
    "    global foo\n",
    "    foo = \"testing\"\n",
    "\n",
    "globalizer()\n",
    "print(\"here's foo {foo}\")\n",
    "\n",
    "name = \"sean\"\n",
    "\n",
    "def rename(to: str):\n",
    "    global name\n",
    "    name = to\n",
    "\n",
    "rename(\"john\") # because we use global, we reassign it\n",
    "print(name)\n",
    "\n",
    "def wrapper(name: str):\n",
    "    def inner(greet: str):\n",
    "        #nonlocal name # try uncommenting this\n",
    "        name = \"sean\"\n",
    "        return f\"{greet} {name}\"\n",
    "    print(inner(\"hi\"))\n",
    "    return name\n",
    "\n",
    "name = \"tony\"\n",
    "print(wrapper(name))\n"
   ]
  },
  {
   "attachments": {},
   "cell_type": "markdown",
   "metadata": {},
   "source": [
    "## More scoping gotchas\n",
    "\n",
    "This is a common source of confusion for new pythonistas"
   ]
  },
  {
   "cell_type": "code",
   "execution_count": null,
   "metadata": {},
   "outputs": [],
   "source": [
    "score = 50 # try setting this to 50\n",
    "\n",
    "def grader(check: int):\n",
    "    # dont have to create a \"default\" grade here,  grade is scoped to the entire function\n",
    "    # however, try changing score to 50, and commenting out the marked lines\n",
    "    if check > 90: \n",
    "        grade = \"A\"\n",
    "    elif check > 80:\n",
    "        grade = \"B\"\n",
    "    elif check > 70:\n",
    "        grade = \"C\"\n",
    "    elif check > 60:\n",
    "        grade = \"D\"\n",
    "    #else:              # try commenting this out\n",
    "    #    grade = \"F\"    # and this\n",
    "    return grade\n",
    "\n",
    "\n",
    "grader(score)"
   ]
  },
  {
   "attachments": {},
   "cell_type": "markdown",
   "metadata": {},
   "source": [
    "## Closures and Functions\n",
    "\n",
    "Understanding scopes is necessary to make use of closures and nested functions.  We already showed several examples\n",
    "of functions"
   ]
  }
 ],
 "metadata": {
  "kernelspec": {
   "display_name": "excursor",
   "language": "python",
   "name": "python3"
  },
  "language_info": {
   "codemirror_mode": {
    "name": "ipython",
    "version": 3
   },
   "file_extension": ".py",
   "mimetype": "text/x-python",
   "name": "python",
   "nbconvert_exporter": "python",
   "pygments_lexer": "ipython3",
   "version": "3.11.3"
  },
  "orig_nbformat": 4
 },
 "nbformat": 4,
 "nbformat_minor": 2
}
