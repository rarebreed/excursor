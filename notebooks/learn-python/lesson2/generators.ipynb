{
 "cells": [
  {
   "cell_type": "code",
   "execution_count": null,
   "metadata": {},
   "outputs": [],
   "source": [
    "class Channel:\n",
    "    # Without an initial value, this is a type hint\n",
    "    state: int\n",
    "\n",
    "    def __init__(self, start : int = 0):\n",
    "        self.state = start\n",
    "\n",
    "chan1 = Channel(1)\n",
    "chan2 = Channel(2)\n",
    "\n",
    "print(chan1.state)\n",
    "dir(Channel)\n",
    "hasattr(Channel, \"flow\")"
   ]
  },
  {
   "cell_type": "code",
   "execution_count": null,
   "metadata": {},
   "outputs": [],
   "source": [
    "\n",
    "from typing import Callable, TypeVar\n",
    "\n",
    "\n",
    "class Channel:\n",
    "    # Without an initial value, this is a type hint\n",
    "    state: int\n",
    "\n",
    "    def __init__(self, start : int = 0):\n",
    "        self.state = start\n",
    "\n",
    "    def send(self):\n",
    "        while True:\n",
    "            yield self.state\n",
    "\n",
    "\n",
    "T = TypeVar(\"T\")\n",
    "R = TypeVar(\"R\")\n",
    "    \n",
    "def channel(\n",
    "    init: T, \n",
    "    update: Callable[[T], R] = lambda x: x\n",
    "):\n",
    "    current = init\n",
    "    while True:\n",
    "        val = (yield init)\n",
    "        if val is not None:\n",
    "            current = update(val)\n",
    "        yield current\n"
   ]
  }
 ],
 "metadata": {
  "kernelspec": {
   "display_name": "venv",
   "language": "python",
   "name": "python3"
  },
  "language_info": {
   "codemirror_mode": {
    "name": "ipython",
    "version": 3
   },
   "file_extension": ".py",
   "mimetype": "text/x-python",
   "name": "python",
   "nbconvert_exporter": "python",
   "pygments_lexer": "ipython3",
   "version": "3.11.4"
  },
  "orig_nbformat": 4
 },
 "nbformat": 4,
 "nbformat_minor": 2
}
