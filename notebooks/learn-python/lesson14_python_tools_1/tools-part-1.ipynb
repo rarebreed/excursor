{
 "cells": [
  {
   "cell_type": "markdown",
   "metadata": {},
   "source": [
    "## python tooling\n",
    "\n",
    "Python is more than a language.  We also need other tooling.  We will briefly cover the following\n",
    "\n",
    "- uv for project management\n",
    "- ruff linter\n",
    "- autopep8 formatter"
   ]
  }
 ],
 "metadata": {
  "language_info": {
   "name": "python"
  }
 },
 "nbformat": 4,
 "nbformat_minor": 2
}
