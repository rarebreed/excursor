{
 "cells": [
  {
   "cell_type": "markdown",
   "id": "fa445519",
   "metadata": {},
   "source": [
    "# Query Engine\n",
    "\n",
    "Python is the king of data queries that can fit on a single computer (and even larger than RAM sizes). \n",
    "\n",
    "Here is an example of taking many separate JSON files, performing a query on them, and storing a result as parquet.\n",
    "While the example uses local files, it is trivial to use s3 URIs instead and (as long as your credentials are good) is\n",
    "exactly the same"
   ]
  },
  {
   "cell_type": "code",
   "execution_count": null,
   "id": "f218ad8f",
   "metadata": {},
   "outputs": [],
   "source": [
    "import daft\n",
    "\n",
    "# create some "
   ]
  }
 ],
 "metadata": {
  "kernelspec": {
   "display_name": ".venv",
   "language": "python",
   "name": "python3"
  },
  "language_info": {
   "name": "python",
   "version": "3.13.3"
  }
 },
 "nbformat": 4,
 "nbformat_minor": 5
}
