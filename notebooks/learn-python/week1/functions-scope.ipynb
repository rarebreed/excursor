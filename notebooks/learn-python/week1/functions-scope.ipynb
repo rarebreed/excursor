{
 "cells": [
  {
   "cell_type": "markdown",
   "metadata": {},
   "source": [
    "## Functions and basic types\n",
    "\n",
    "We will start with functions and basic types.  A function is declared with `def` followed by a name, and then a\n",
    "parenthesis with 0 or more parameters.\n",
    "\n",
    "Python functions has several special abilities with functions:\n",
    "\n",
    "- Can take default values for parameters\n",
    "- Can specify keyword at the calling of a function\n",
    "- Can take positional only parameters using `/`\n",
    "- Can take keyword only parameters using `*`\n",
    "- Can pass in a list for positional args with the `*indentifier` (typically `*args`) operator\n",
    "    - If specified, must come before the `*` marker\n",
    "- Can pass in a dictionary for keyword args using the `**identifier` (typically `**kwargs`) operator\n",
    "    - if `*args` is used, must come after it\n",
    "\n",
    "All these rules can make it pretty complicated pretty fast.  I recommend sticking to a subset of these.  It is often\n",
    "useful to specify by kw-only even if more verbose.  But to show you how complicated it can get here are some examples"
   ]
  },
  {
   "cell_type": "markdown",
   "metadata": {},
   "source": [
    "## Simple function\n",
    "\n",
    "Here is a basic function with type annotations.  It takes two arguments, one is named `name` and takes a `str` type.\n",
    "The second parameter is called `age` and takes an `int` type.  It returns a `str` denoted by `-> str`\n",
    "\n",
    "Note that in python, types are purely optional and are calculated by a static type checker.  But at runtime, the python\n",
    "interpreter does not use any of this information.  The annotations are available with reflection though.\n",
    "\n",
    "However, you should _always_ use types, even if they optional.\n",
    "\n",
    "### Our first real function\n",
    "\n",
    "We are going to start building an http REST client.  We will start with a very basic function, and slowly build it up with new parameters.  As an aside, python distinguishes parameters vs. arguments.  Parameters are the _declaration_ of the types in the function, and arguments are the values passed in to the function when it is called."
   ]
  },
  {
   "cell_type": "markdown",
   "metadata": {},
   "source": [
    "## A simple service\n",
    "\n",
    "In order to demonstrate all the different function parameter declarations, we will build a tiny http service, and a CLI\n",
    "client.  For now, there is no need to understand how the fastapi service works.  Over time, some of the features like\n",
    "the decorator being used will be explained.\n",
    "\n",
    "Due to the way that the fastapi works, this code can not be run in the notebook and it lives in a file service.py in\n",
    "the same folder as this notebook\n",
    "\n",
    "```python\n",
    "from fastapi import FastAPI\n",
    "from datetime import datetime\n",
    "\n",
    "app = FastAPI()\n",
    "\n",
    "\n",
    "@app.get(\"/time\")\n",
    "def date_now():\n",
    "    return {\"time\": datetime.now().isoformat() }\n",
    "```\n",
    "\n",
    "In a shell, run the following\n",
    "\n",
    "```sh\n",
    "uvicorn service:app --reload\n",
    "```"
   ]
  },
  {
   "cell_type": "code",
   "execution_count": 6,
   "metadata": {},
   "outputs": [
    {
     "name": "stdout",
     "output_type": "stream",
     "text": [
      "{'time': '2023-08-21T07:40:41.745046'}\n"
     ]
    }
   ],
   "source": [
    "import requests\n",
    "\n",
    "def basic_get():\n",
    "    \"\"\"Returns name is age\"\"\"\n",
    "    return requests.get(\n",
    "        \"http://127.0.0.1:8000/time\"\n",
    "    )\n",
    "\n",
    "value = basic_get()\n",
    "print(value.json())"
   ]
  }
 ],
 "metadata": {
  "kernelspec": {
   "display_name": "venv",
   "language": "python",
   "name": "python3"
  },
  "language_info": {
   "codemirror_mode": {
    "name": "ipython",
    "version": 3
   },
   "file_extension": ".py",
   "mimetype": "text/x-python",
   "name": "python",
   "nbconvert_exporter": "python",
   "pygments_lexer": "ipython3",
   "version": "3.11.4"
  },
  "orig_nbformat": 4
 },
 "nbformat": 4,
 "nbformat_minor": 2
}
