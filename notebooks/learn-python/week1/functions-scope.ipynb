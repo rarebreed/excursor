{
 "cells": [
  {
   "cell_type": "markdown",
   "metadata": {},
   "source": [
    "## Functions and basic types\n",
    "\n",
    "We will start with functions and basic types.  A function is declared with `def` followed by a name, and then a\n",
    "parenthesis with 0 or more parameters.\n",
    "\n",
    "Python functions has several special abilities with functions:\n",
    "\n",
    "- Can take default values for parameters\n",
    "- Can specify keyword at the calling of a function\n",
    "- Can take positional only parameters using `/`\n",
    "- Can take keyword only parameters using `*`\n",
    "- Can pass in a list for positional args with the `*indentifier` (typically `*args`) operator\n",
    "    - If specified, must come before the `*` marker\n",
    "- Can pass in a dictionary for keyword args using the `**identifier` (typically `**kwargs`) operator\n",
    "    - if `*args` is used, must come after it\n",
    "\n",
    "All these rules can make it pretty complicated pretty fast.  I recommend sticking to a subset of these.  It is often\n",
    "useful to specify by kw-only even if more verbose.  But to show you how complicated it can get here are some examples"
   ]
  },
  {
   "cell_type": "markdown",
   "metadata": {},
   "source": [
    "## Simple function\n",
    "\n",
    "Here is a basic function with type annotations.  It takes two arguments, one is named `name` and takes a `str` type.\n",
    "The second parameter is called `age` and takes an `int` type.  It returns a `str` denoted by `-> str`\n",
    "\n",
    "Note that in python, types are purely optional and are calculated by a static type checker.  But at runtime, the python\n",
    "interpreter does not use any of this information.  The annotations are available with reflection though.\n",
    "\n",
    "However, you should _always_ use types, even if they optional.\n",
    "\n",
    "### Our first real function\n",
    "\n",
    "We are going to start building an http REST client.  We will start with a very basic function, and slowly build it up with new parameters.  As an aside, python distinguishes parameters vs. arguments.  Parameters are the _declaration_ of the types in the function, and arguments are the values passed in to the function when it is called."
   ]
  },
  {
   "cell_type": "markdown",
   "metadata": {},
   "source": [
    "## A simple service\n",
    "\n",
    "In order to demonstrate all the different function parameter declarations, we will build a tiny http service, and a CLI\n",
    "client.  For now, there is no need to understand how the fastapi service works.  Over time, some of the features like\n",
    "the decorator being used will be explained"
   ]
  },
  {
   "cell_type": "code",
   "execution_count": null,
   "metadata": {},
   "outputs": [],
   "source": [
    "from fastapi import FastAPI\n",
    "from datetime import datetime\n",
    "\n",
    "app = FastAPI()\n",
    "\n",
    "\n",
    "@app.get(\"/time\")\n",
    "def date_now():\n",
    "    return {\"time\": datetime.now().isoformat() }\n",
    "\n"
   ]
  },
  {
   "cell_type": "code",
   "execution_count": null,
   "metadata": {},
   "outputs": [],
   "source": [
    "import requests\n",
    "\n",
    "def basic_with_args(name: str, age: int) -> str:\n",
    "    \"\"\"Returns name is age\"\"\"\n",
    "    return f\"{name} is {age}\"\n",
    "\n",
    "value = basic_with_args(\"sean\", 51)\n",
    "print(value)"
   ]
  }
 ],
 "metadata": {
  "kernelspec": {
   "display_name": "venv",
   "language": "python",
   "name": "python3"
  },
  "language_info": {
   "name": "python",
   "version": "3.11.4"
  },
  "orig_nbformat": 4
 },
 "nbformat": 4,
 "nbformat_minor": 2
}
