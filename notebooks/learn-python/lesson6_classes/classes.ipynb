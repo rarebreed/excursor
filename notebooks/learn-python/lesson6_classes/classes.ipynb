{
 "cells": [
  {
   "cell_type": "markdown",
   "metadata": {},
   "source": [
    "# Classes and types in python\n",
    "\n",
    "Python is actually a complicated language when it comes to classes.  It has true multiple inheritance, unlike Java where  \n",
    "a class may only extend one class, but implement many interfaces. Not only does it support true multiple inheritance,  \n",
    "but it also has a different form of subtyping than traditional OOP languages. \n",
    "\n",
    "> Users of other languages sometimes get confused about how to implement OOP in python because it doesn't have   \n",
    "> interfaces, traits or typeclasses.  Also, the infamous \"duck typing\" has a formal type equivalent called structural  \n",
    "> subtyping which is different than nominative typing (ie, inheritance trees) like in java\n",
    "\n",
    "So, to help understand all this, this lesson will cover the basics of python classes and its type system\n",
    "\n",
    "Basics \n",
    "\n",
    "- Class vars vs Instance vars\n",
    "- What is `object`\n",
    "- Unions\n",
    "- What is a `@dataclass`\n",
    "    - Prefer classes as `just immutable data`\n",
    "- Avoid inheritance trees and prefer composition, mixins, and protocols instead\n",
    "\n",
    "Advanced\n",
    "\n",
    "- How does multiple inheritance work?\n",
    "    - method resolution order\n",
    "- What is the equivalent of an `interface` in python then?\n",
    "    - ABC and abstractmethod\n",
    "- A brief mention of duck typing and Protocols\n"
   ]
  },
  {
   "cell_type": "markdown",
   "metadata": {},
   "source": [
    "## Class vars\n",
    "\n",
    "Class variables are similar to Java static fields in that they belong to the class, and not instances.  Be careful \n",
    "however, if you annotate them.  If you only annotate, and do not provide values, you actually haven't created class vars\n",
    "and have actually only added annotations"
   ]
  },
  {
   "cell_type": "code",
   "execution_count": null,
   "metadata": {},
   "outputs": [],
   "source": [
    "from pprint import pprint\n",
    "\n",
    "# Example of an empty class.  You may think it has class variables `region` and `bucket`, but you dont\n",
    "class S3Path:\n",
    "    region: str\n",
    "    bucket: str\n",
    "\n",
    "pprint(dir(S3Path))\n",
    "S3Path.__dict__"
   ]
  },
  {
   "cell_type": "markdown",
   "metadata": {},
   "source": [
    "### Remember scoping!\n",
    "\n",
    "The reason I taught about namespaces and scoping previously, was because namespaces applies to classes as well as\n",
    "functions.\n",
    "\n",
    "Run the code below, uncomment line 5 and run again.  Then try to understand why it failed"
   ]
  },
  {
   "cell_type": "code",
   "execution_count": null,
   "metadata": {},
   "outputs": [],
   "source": [
    "s3_1 = S3Path()\n",
    "\n",
    "s3_1.region = \"tca\"\n",
    "# Uncomment this, to see an error\n",
    "#print(S3Path.region)\n",
    "\n",
    "# So how come the above failed?  Didn't s3_1.region set the class's region?\n",
    "# To understand, look at all the fields of s3_1 by uncommenting the line below\n",
    "#dir(s3_1)\n",
    "\n",
    "# Now uncomment the below, and you will see it has a region field.\n",
    "#s3_1.__dict__\n",
    "#getattr(s3_1, \"region\")\n"
   ]
  },
  {
   "cell_type": "markdown",
   "metadata": {},
   "source": [
    "### Classes in python are dynamic\n",
    "\n",
    "To get a better handle on namespacing with classes, let's dynamically add fields\n",
    "\n",
    "> Please don't do this in real code.  I am showing you this so that you can \"monkey patch\" code.  About the only place  \n",
    "this should ever be done is when you need to mock out something for testing\n",
    "\n",
    "In the code above, when we did `s3_1.region = \"tca\"`, what we really did, was add the key \"region\" to `s3_1` hidden  \n",
    "`__dict__` field.  Essentially, the `s3_1.region` is in the `local` namespace of the instance.  It is not \"shared\" with  \n",
    "the field `region` inside the namespace of the class `S3Path`.  Python lets you dynamically build up the fields of the  \n",
    "class and instance.  This is a bad idea, but python lets you do it (it's also a huge reason why python is so slow)"
   ]
  },
  {
   "cell_type": "code",
   "execution_count": null,
   "metadata": {},
   "outputs": [],
   "source": [
    "# A class that basically has and does nothing\n",
    "class Foo:\n",
    "    ...\n",
    "\n",
    "f = Foo()\n",
    "type(f)\n",
    "f.blah = \"hi there\"\n",
    "print(f.blah)\n",
    "for i in dir(Foo):\n",
    "    print(i)\n",
    "\n",
    "def outside_method(self, count: int):\n",
    "    self.count = count\n",
    "    return self.count * 2\n",
    "\n",
    "Foo.outside_method = outside_method\n",
    "dir(Foo)\n",
    "f.outside_method(10)"
   ]
  },
  {
   "cell_type": "markdown",
   "metadata": {},
   "source": [
    "## The object type\n",
    "\n",
    "In python, you can think of `object` like `Object` in Java.  It's the ancestor of all class types.  A long time ago in\n",
    "2.7 and earlier, there used to be `Old` classes vs `New` classes.  To make a `New` type class, you had to subclass all\n",
    "your class types like this:\n",
    "\n",
    "```python\n",
    "class ExampleNewType(object):\n",
    "    ...\n",
    "```\n",
    "\n",
    "This is no longer needed since the 3.x days.\n",
    "\n",
    "Note that `object` instances are immutable in a sense.  You can not dynamically add fields to them"
   ]
  },
  {
   "cell_type": "code",
   "execution_count": null,
   "metadata": {},
   "outputs": [],
   "source": [
    "f = object()\n",
    "type(f)\n",
    "\n",
    "# Notice that there is not a __dict__ field, so you can't add any new fields to it\n",
    "dir(f)\n",
    "#f.age = 10"
   ]
  },
  {
   "cell_type": "markdown",
   "metadata": {},
   "source": [
    "## Create class variables\n",
    "\n",
    "In order to create class vars with annotations, you need to give them a default value, or create a `def __new__` \n",
    "method to initialize them.\n",
    "\n",
    "> I will not cover `__new__` vs `__init__` as that is a different topic.  `__new__` is rarely used unless you are  \n",
    "creating metaclasses (which is rare), you need to set class vars, or you somehow need to control that an object will be  \n",
    "created at all.  `__init__` is called when the object has been instantiated in memory, but its instance fields need to  \n",
    "to be set.  `__new__` controls creation of the class itself, and in turn calls `__init__`"
   ]
  },
  {
   "cell_type": "code",
   "execution_count": null,
   "metadata": {},
   "outputs": [],
   "source": [
    "# In order to create class variables (eg, similar to a Java static), you need to assign a value\n",
    "class S3Path:\n",
    "    region: str\n",
    "    bucket: str = \"inin-tca\"\n",
    "\n",
    "    def __init__(self, region: str):\n",
    "        self.region = region\n",
    "        #S3Path.region = self.region.upper()\n",
    "\n",
    "s3_1 = S3Path(\"tca\")\n",
    "# What do you think this will print if uncommented?\n",
    "#print(S3Path.region)\n",
    "\n",
    "# Uncomment the line S3Path.region in the __init__ above then uncomment this and run\n",
    "#print(s3_1.region)\n",
    "\n",
    "\n",
    "# s3_2 = S3Path(\"tca\")\n",
    "# s3_2.region = \"dca\"\n",
    "# print(f\"Now, s3_1.region = {s3_1.region} and S3Path.region = {S3Path.region}\"\")\n",
    "# s3_1.region = \"test\""
   ]
  },
  {
   "cell_type": "code",
   "execution_count": null,
   "metadata": {},
   "outputs": [],
   "source": []
  },
  {
   "cell_type": "markdown",
   "metadata": {},
   "source": [
    "## Instance fields\n",
    "\n",
    "Much more common than class vars, are instance vars (or fields).  This is the bread and butter of most class types.\n",
    "Let's redesign the `S3Path` with instance fields instead"
   ]
  },
  {
   "cell_type": "code",
   "execution_count": null,
   "metadata": {},
   "outputs": [],
   "source": [
    "class S3Path:\n",
    "    def __init__(self, region: str, bucket: str):\n",
    "        self.region = region\n",
    "        self.bucket = bucket\n",
    "\n",
    "s3_1 = S3Path(\"test\", \"inin-tca\")\n",
    "print(s3_1)\n"
   ]
  },
  {
   "cell_type": "markdown",
   "metadata": {},
   "source": [
    "### Dataclass class\n",
    "\n",
    "Python has recognized that very often, what you really want is _just data_. Python has a builtin decorator called a  \n",
    "dataclass that can perform some useful optimizations for you.  Unfortunately, it also makes it a bit confusing compared \n",
    "to regular classes."
   ]
  },
  {
   "cell_type": "code",
   "execution_count": null,
   "metadata": {},
   "outputs": [],
   "source": [
    "from dataclasses import dataclass\n",
    "\n",
    "\n",
    "@dataclass\n",
    "class S3Path:\n",
    "    # These are no longer annotations on the class S3Path, but are actually the types of the instance\n",
    "    # the decorator modifies the S3Path class, so that these are on the instances, \n",
    "    region: str\n",
    "    bucket: str\n",
    "\n",
    "#S3Path.__dict__\n",
    "\n",
    "s3_1 = S3Path(\"test\", \"inin-tca\")\n",
    "print(s3_1)\n",
    "s3_2 = S3Path(\"test\", \"inin-tca\")\n",
    "print(s3_1 == s3_2)\n",
    "id(s3_1) == id(s3_2)\n"
   ]
  },
  {
   "cell_type": "code",
   "execution_count": null,
   "metadata": {},
   "outputs": [],
   "source": [
    "from dataclasses import dataclass, field\n",
    "\n",
    "\n",
    "@dataclass(kw_only=True)\n",
    "class S3PathV2:\n",
    "    region: str\n",
    "    bucket: str = field(init=False)\n",
    "\n",
    "    def __post_init__(self):\n",
    "        self.bucket = f\"inin-{self.region}\"\n",
    "\n",
    "\n",
    "# s3_1 = S3PathV2(\"test\", \"inin-tca\")\n",
    "# print(s3_1)\n",
    "# s3_2 = S3Path(\"test\", \"inin-tca\")\n",
    "# s3_1 == s3_2"
   ]
  }
 ],
 "metadata": {
  "kernelspec": {
   "display_name": ".venv",
   "language": "python",
   "name": "python3"
  },
  "language_info": {
   "codemirror_mode": {
    "name": "ipython",
    "version": 3
   },
   "file_extension": ".py",
   "mimetype": "text/x-python",
   "name": "python",
   "nbconvert_exporter": "python",
   "pygments_lexer": "ipython3",
   "version": "3.11.6"
  }
 },
 "nbformat": 4,
 "nbformat_minor": 2
}
