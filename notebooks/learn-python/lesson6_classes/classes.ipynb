{
 "cells": [
  {
   "cell_type": "markdown",
   "metadata": {},
   "source": [
    "# Classes and types in python\n",
    "\n",
    "Python is actually a complicated language when it comes to classes.  It has true multiple inheritance, unlike Java where\n",
    "a class may only extend one class, but implement many interfaces. Not only does it support true multiple inheritance,\n",
    "but it also has a different form of subtyping than traditional OOP languages. Which then begs a couple of questions and\n",
    "uses of other languages sometimes get confused about how to implement OOP in python.\n",
    "\n",
    "So, to help understand all this, this lesson will cover the basics of python classes and its type system\n",
    "\n",
    "- What is `object`\n",
    "- Basic class definition\n",
    "- What is a `@dataclass`\n",
    "- How does multiple inheritance work?\n",
    "- What is the equivalent of an `interface` in python then?\n"
   ]
  }
 ],
 "metadata": {
  "language_info": {
   "name": "python"
  }
 },
 "nbformat": 4,
 "nbformat_minor": 2
}
