{
 "cells": [
  {
   "cell_type": "markdown",
   "metadata": {},
   "source": [
    "# Classes and types in python\n",
    "\n",
    "Python is actually a complicated language when it comes to classes.  It has true multiple inheritance, unlike Java where  \n",
    "a class may only extend one class, but implement many interfaces. Not only does it support true multiple inheritance,  \n",
    "but it also has a different form of subtyping than traditional OOP languages. \n",
    "\n",
    "> Users of other languages sometimes get confused about how to implement OOP in python because it doesn't have   \n",
    "> interfaces, traits or typeclasses.  Also, the infamous \"duck typing\" has a formal type equivalent called structural  \n",
    "> subtyping which is different than nominative typing (ie, inheritance trees) like in java\n",
    "\n",
    "So, to help understand all this, this lesson will cover the basics of python classes and its type system\n",
    "\n",
    "Basics \n",
    "\n",
    "- What is `object`\n",
    "- Basic class definition\n",
    "- Unions\n",
    "- What is a `@dataclass`\n",
    "    - Prefer classes as `just immutable data`\n",
    "- Avoid inheritance trees and prefer composition, mixins, and protocols instead\n",
    "\n",
    "Advanced\n",
    "\n",
    "- How does multiple inheritance work?\n",
    "    - method resolution order\n",
    "- What is the equivalent of an `interface` in python then?\n",
    "    - ABC and abstractmethod\n",
    "- A brief mention of duck typing and Protocols\n"
   ]
  },
  {
   "cell_type": "code",
   "execution_count": null,
   "metadata": {},
   "outputs": [],
   "source": [
    "\n",
    "class S3Path:\n",
    "    region: str\n",
    "    bucket: str\n",
    "    "
   ]
  },
  {
   "cell_type": "markdown",
   "metadata": {},
   "source": []
  }
 ],
 "metadata": {
  "kernelspec": {
   "display_name": ".venv",
   "language": "python",
   "name": "python3"
  },
  "language_info": {
   "name": "python",
   "version": "3.11.6"
  }
 },
 "nbformat": 4,
 "nbformat_minor": 2
}
