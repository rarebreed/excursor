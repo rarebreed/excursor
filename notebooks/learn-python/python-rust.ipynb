{
 "cells": [
  {
   "attachments": {},
   "cell_type": "markdown",
   "metadata": {},
   "source": [
    "# Using rust with python\n",
    "\n",
    "Python performance often leaves a lot to be desired.  Many popular python projects are actually C, C++ or rust libraries in disguise. Basically they are native programs with a python wrapper layer on top.  In this guide, we will learn how to use rust\n",
    "to speed up a common bottleneck.\n",
    "\n",
    "## Why use a native library?\n",
    "\n",
    "Typically we drop to a low-level language in python when one or more of the following are needed\n",
    "\n",
    "- A way to run true parallel processing to get around the GIL\n",
    "- CPU bound operations\n",
    "- There is a native library already written but not for python\n",
    "\n",
    "If some task is IO bound, rather than CPU bound, then it may be simpler to use an async approach to solve the problem.  Multiprocessing may or may not help you avoid the GIL problem.  Note that multiprocessing has some requirements that might preclude its use, like for example, data must be pickleable to the other processes.\n",
    "\n",
    "## Example use case: "
   ]
  },
  {
   "cell_type": "code",
   "execution_count": null,
   "metadata": {},
   "outputs": [],
   "source": []
  }
 ],
 "metadata": {
  "language_info": {
   "name": "python"
  },
  "orig_nbformat": 4
 },
 "nbformat": 4,
 "nbformat_minor": 2
}
