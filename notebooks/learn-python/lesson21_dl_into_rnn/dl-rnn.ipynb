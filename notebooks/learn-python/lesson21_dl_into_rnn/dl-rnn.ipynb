{
 "cells": [
  {
   "cell_type": "markdown",
   "metadata": {},
   "source": [
    "## Deep Learning Intro: RNN\n",
    "\n",
    "Recurrent Neural Networks are good at sequential data, such as text or time series data.  Although transformers have\n",
    "mostly supplanted them, there is a relationship between them.  Also RNNs and SSMs have some commonality."
   ]
  }
 ],
 "metadata": {
  "language_info": {
   "name": "python"
  }
 },
 "nbformat": 4,
 "nbformat_minor": 2
}
