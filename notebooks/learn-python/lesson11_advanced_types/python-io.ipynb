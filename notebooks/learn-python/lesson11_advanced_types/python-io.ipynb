{
 "cells": [
  {
   "cell_type": "markdown",
   "metadata": {},
   "source": [
    "## Advanced Types\n",
    "\n",
    "We will cover more advanced types\n",
    "\n",
    "- Multiple Inheritance\n",
    "    - MRO\n",
    "    - Abstract Base Classes\n",
    "- Protocols\n",
    "    - Nominal vs Structural types\n",
    "- Generics\n",
    "    - subtyping\n",
    "    - variance\n"
   ]
  }
 ],
 "metadata": {
  "language_info": {
   "name": "python"
  }
 },
 "nbformat": 4,
 "nbformat_minor": 2
}
