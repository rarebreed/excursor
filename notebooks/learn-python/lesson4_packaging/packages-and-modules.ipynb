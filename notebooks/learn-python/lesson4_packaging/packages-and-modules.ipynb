{
 "cells": [
  {
   "cell_type": "markdown",
   "metadata": {},
   "source": [
    "# Packages and modules\n",
    "\n",
    "All code in python ultimately lives in a module, and a module may or may not live in a package.  A plain script can also\n",
    "be considered a module, but at the top level (it is not nested inside a package).  In this lesson, we will learn:\n",
    "\n",
    "- what a module is\n",
    "- what a package is\n",
    "    - why `__init__` isn't required anymore\n",
    "- what the PYTHONPATH is\n",
    "- how modules get loaded\n",
    "    - relative imports\n",
    "    - absolute imports\n",
    "    - importlib\n",
    "    - sys.modules\n",
    "    - shadowing builtin modules\n",
    "- how to best lay out a project's code."
   ]
  }
 ],
 "metadata": {
  "language_info": {
   "name": "python"
  }
 },
 "nbformat": 4,
 "nbformat_minor": 2
}
