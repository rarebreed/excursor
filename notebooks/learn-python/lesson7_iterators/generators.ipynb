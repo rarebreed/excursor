{
 "cells": [
  {
   "cell_type": "code",
   "execution_count": 1,
   "metadata": {},
   "outputs": [
    {
     "name": "stdout",
     "output_type": "stream",
     "text": [
      "1\n"
     ]
    },
    {
     "data": {
      "text/plain": [
       "False"
      ]
     },
     "execution_count": 1,
     "metadata": {},
     "output_type": "execute_result"
    }
   ],
   "source": [
    "class Channel:\n",
    "    # Without an initial value, this is a type hint\n",
    "    state: int\n",
    "\n",
    "    def __init__(self, start : int = 0):\n",
    "        self.state = start\n",
    "\n",
    "chan1 = Channel(1)\n",
    "chan2 = Channel(2)\n",
    "\n",
    "print(chan1.state)\n",
    "dir(Channel)\n",
    "hasattr(Channel, \"flow\")"
   ]
  },
  {
   "cell_type": "code",
   "execution_count": 10,
   "metadata": {},
   "outputs": [
    {
     "name": "stdout",
     "output_type": "stream",
     "text": [
      "hi\n",
      "what?\n"
     ]
    },
    {
     "data": {
      "text/plain": [
       "'no way'"
      ]
     },
     "execution_count": 10,
     "metadata": {},
     "output_type": "execute_result"
    }
   ],
   "source": [
    "\n",
    "from typing import Callable, cast\n",
    "\n",
    "\n",
    "class Channel[T, R]:\n",
    "    # Without an initial value, this is a type hint\n",
    "    state: T\n",
    "\n",
    "    def __init__(self, start: T):\n",
    "        self.state = start\n",
    "\n",
    "    # def send(self):\n",
    "    #     while True:\n",
    "    #         yield self.state\n",
    "\n",
    "    def update(self, val: T):\n",
    "        return cast(R, val)\n",
    "    \n",
    "    def channel(\n",
    "        self,\n",
    "        update: Callable[[T], R] | None = None\n",
    "    ):\n",
    "        if update is None:\n",
    "            update = self.update\n",
    "        while True:\n",
    "            val = (yield self.state)\n",
    "            if val is not None:\n",
    "                val = update(val)\n",
    "            yield val\n",
    "\n",
    "chan1 = Channel(start=\"hi\")\n",
    "g = chan1.channel()\n",
    "print(next(g))\n",
    "print(g.send(\"what?\"))\n",
    "next(g)\n",
    "g.send('no way')"
   ]
  }
 ],
 "metadata": {
  "kernelspec": {
   "display_name": ".venv",
   "language": "python",
   "name": "python3"
  },
  "language_info": {
   "codemirror_mode": {
    "name": "ipython",
    "version": 3
   },
   "file_extension": ".py",
   "mimetype": "text/x-python",
   "name": "python",
   "nbconvert_exporter": "python",
   "pygments_lexer": "ipython3",
   "version": "3.13.3"
  },
  "orig_nbformat": 4
 },
 "nbformat": 4,
 "nbformat_minor": 2
}
