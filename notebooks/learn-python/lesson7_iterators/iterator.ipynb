{
 "cells": [
  {
   "cell_type": "markdown",
   "metadata": {},
   "source": [
    "# Iterators\n",
    "\n",
    "The concept of being able to iterate over a data structure is common to all languages. In the old days before a higher\n",
    "level concept of iterators, there was simply a `for` or `while` loop, that incremented a counter so that the counter\n",
    "could be used as a index into a data type that was indexable by an integer.\n",
    "\n",
    "In python, being able to access an item within a data structure typically follows 3 modes:\n",
    "\n",
    "- Using square brackets `[]` as an index\n",
    "- Using a `for` loop\n",
    "- destructuring"
   ]
  },
  {
   "cell_type": "code",
   "execution_count": null,
   "metadata": {},
   "outputs": [],
   "source": [
    "# In python, you can access a list or tuple by an int index starting at 0 for the first position\n",
    "numbers = [10, 20, 30]\n",
    "print(numbers[2])\n",
    "\n",
    "for num in numbers:\n",
    "    print(num)\n",
    "\n",
    "# destructuring a tuple examples\n",
    "data_points = (\"Sean\", \"B\", \"Calculus\", \"Dr. Cates\")\n",
    "name, grade, *extras = data_points\n",
    "\n",
    "# same but with a list\n",
    "data_points = [\"Sean\", \"B\", \"Calculus\", \"Dr. Cates\"]\n",
    "name, grade, *extras = data_points\n",
    "\n",
    "# Iterating a dict\n",
    "mapping = dict(a = \"a\", b = \"b\", c = \"c\")\n",
    "for k, v in mapping:  # same as mapping.items()\n",
    "    print(f\"{k} = {v}\")\n",
    "\n",
    "# Iterating a dict's keys\n",
    "for key in mapping.keys():\n",
    "    print(key)\n",
    "\n",
    "# iterating a dict's values\n",
    "for val in mapping.values():\n",
    "    print(val)"
   ]
  },
  {
   "cell_type": "markdown",
   "metadata": {},
   "source": [
    "## What is iterable?\n",
    "\n",
    "The concept of iteration is for more than just lists or tuples.  You can iterate dicts or sequence types like generators  \n",
    "So this begs the question, what makes something iterable?\n",
    "\n",
    "In python, it's the presence of at least one defined dunder method called `__iter__`"
   ]
  },
  {
   "cell_type": "code",
   "execution_count": null,
   "metadata": {},
   "outputs": [],
   "source": [
    "# a dict has an __iter__\n",
    "from dataclasses import dataclass, field\n",
    "from typing import Literal\n",
    "\n",
    "@dataclass\n",
    "class MyIterable:\n",
    "    name: str\n",
    "    grade: Literal[\"A\", \"B\", \"C\", \"D\", \"F\"]\n",
    "    course: str\n",
    "    prof: str\n",
    "    _index: int = 0\n",
    "    _fields: tuple[str, str, str, str] = (\"name\", \"grade\", \"course\", \"prof\")\n",
    "\n",
    "    def __iter__(self):\n",
    "        return self\n",
    "    \n",
    "    def __next__(self):\n",
    "        if self._index < len(self._fields):\n",
    "            fld_name = self._fields[self._index]\n",
    "            retval = fld_name, getattr(self, fld_name)\n",
    "            self._index += 1\n",
    "            return retval\n",
    "        else:\n",
    "            #self._index = 0\n",
    "            raise StopIteration\n",
    "        \n",
    "def tester():\n",
    "    myiter = MyIterable(\"Sean\", \"B\", \"Calculus\", \"Dr. Cates\")\n",
    "    for fld, val in myiter:\n",
    "        print(f\"{fld} = {val}\")\n",
    "\n",
    "tester()  "
   ]
  },
  {
   "cell_type": "markdown",
   "metadata": {},
   "source": [
    "## Using generators as Iterator\n",
    "\n",
    "The above was the old-school way of creating an Iterable type.  But with the advent of generators, it's possible to \n",
    "simplify making Iterators."
   ]
  },
  {
   "cell_type": "code",
   "execution_count": null,
   "metadata": {},
   "outputs": [],
   "source": [
    "@dataclass\n",
    "class MyIterable:\n",
    "    name: str\n",
    "    grade: Literal[\"A\", \"B\", \"C\", \"D\", \"F\"]\n",
    "    course: str\n",
    "    prof: str\n",
    "\n",
    "    def __iter__(self):\n",
    "        sorted_field = sorted(self.__dict__.items())\n",
    "        for k,v in sorted_field:\n",
    "            yield k,v\n",
    "\n",
    "\n",
    "tester()"
   ]
  },
  {
   "cell_type": "code",
   "execution_count": null,
   "metadata": {},
   "outputs": [],
   "source": [
    "# Examples of comprehensions\n",
    "\n",
    "# list comprehension\n",
    "print([i**2 for i in range(10)])\n",
    "\n",
    "# set comprehension\n",
    "{}"
   ]
  }
 ],
 "metadata": {
  "kernelspec": {
   "display_name": ".venv",
   "language": "python",
   "name": "python3"
  },
  "language_info": {
   "codemirror_mode": {
    "name": "ipython",
    "version": 3
   },
   "file_extension": ".py",
   "mimetype": "text/x-python",
   "name": "python",
   "nbconvert_exporter": "python",
   "pygments_lexer": "ipython3",
   "version": "3.11.6"
  }
 },
 "nbformat": 4,
 "nbformat_minor": 2
}
