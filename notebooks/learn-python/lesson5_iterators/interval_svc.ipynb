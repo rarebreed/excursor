{
 "cells": [
  {
   "cell_type": "markdown",
   "metadata": {},
   "source": [
    "## Practical Projects\n",
    "\n",
    "In order to help learn the subjects and mek things more interesting, there will be a couple of small projects throughout\n",
    "the training.  The first project will be a small HTTP service.  This project will cover\n",
    "\n",
    "- The myriad ways of declaring functions in python\n",
    "- An introduction to scoping rules\n",
    "- An introduction to basic type annotations\n",
    "\n",
    "### Interval Service\n",
    "\n",
    "We frequently need functionality"
   ]
  }
 ],
 "metadata": {
  "language_info": {
   "name": "python"
  },
  "orig_nbformat": 4
 },
 "nbformat": 4,
 "nbformat_minor": 2
}
