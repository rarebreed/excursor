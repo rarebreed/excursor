{
 "cells": [
  {
   "cell_type": "markdown",
   "metadata": {},
   "source": [
    "## Functions and basic types\n",
    "\n",
    "We will continue the RPG game from lesson 3 and dive deeper into functions and basic types.  \n",
    "\n",
    "Python functions have several special abilities and are defined as follows:\n",
    "\n",
    "- Can take default values for parameters\n",
    "- Can specify keyword at the calling of a function\n",
    "- Can take positional only parameters using `/`\n",
    "- Can take keyword only parameters using `*`\n",
    "- Can pass in a list for positional args with the `*identifier` (typically `*args`) operator\n",
    "    - If specified, must come before the `*` marker\n",
    "- Can pass in a dictionary for keyword args using the `**identifier` (typically `**kwargs`) operator\n",
    "    - if `*args` is used, must come after it\n",
    "\n",
    "> All these rules can make it pretty complicated pretty fast.  I recommend sticking to a subset of these.  It is often\n",
    "> useful to specify by kw-only even if more verbose.  But to show you how complicated it can get here are some examples\n",
    "> that we will progressively expand on"
   ]
  },
  {
   "cell_type": "markdown",
   "metadata": {},
   "source": [
    "## A word on types\n",
    "\n",
    "In python, types are purely optional:\n",
    "\n",
    "- They are are validated by a static type checker (in your IDE or as part of a CI check) \n",
    "- At runtime, the python interpreter does not use any of this information\n",
    "    - The annotations are available with reflection though\n",
    "    - a few python libraries actually require type annotations like FastApi and Pydantic.\n",
    "\n",
    "However, you should _always_ use types, even if they optional."
   ]
  },
  {
   "cell_type": "markdown",
   "metadata": {},
   "source": [
    "## Simple function\n",
    "\n",
    "- starts with keyword `def`\n",
    "- followed by the name of the function\n",
    "- has a list of parameters enclosed in parenthesis\n",
    "    - a parameter may be a `name: type` or `name: type = default_value`\n",
    "    - the latter is called a _keyword argument_,  _keyword parameter_, or rarely, a `named argument`\n",
    "- after the closing `)` it is followed by ` -> return_type:`\n",
    "- followed by an optional triple quoted string called a docstring\n",
    "- lastly the body of the function\n",
    "\n",
    "> Parameters vs arguments\n",
    ">\n",
    "> In python, the two are typically used synonymously.  I will take the mojo convention that parameters are compile time\n",
    "> or _definition_ time names and values, and arguments are the keyword names or values passed in at runtime.  This will\n",
    "> help you understand Parameterization in mojo when I get to that"
   ]
  },
  {
   "cell_type": "code",
   "execution_count": null,
   "metadata": {},
   "outputs": [],
   "source": [
    "import random as rand\n",
    "\n",
    "def die(size: int) -> int:\n",
    "    \"\"\"Generates a random number from 1 - size (inclusize)\n",
    "\n",
    "    Parameters\n",
    "    ----------\n",
    "    size : int\n",
    "        The size of the die (eg, 4, 6, 8, 10, 12, 20, etc)\n",
    "\n",
    "    Returns\n",
    "    -------\n",
    "    int\n",
    "        the random result of the roll\n",
    "    \"\"\"\n",
    "    return rand.randint(1, size)"
   ]
  },
  {
   "cell_type": "code",
   "execution_count": null,
   "metadata": {},
   "outputs": [],
   "source": [
    "# Can call it without naming the variable\n",
    "print(die(20))\n",
    "# or by naming the variable\n",
    "die(size=10)"
   ]
  },
  {
   "cell_type": "markdown",
   "metadata": {},
   "source": [
    "## Compared to Java\n",
    "\n",
    "So a couple of differences should stand out:\n",
    "\n",
    "- functions are standalone, they don't have to be members of a class\n",
    "- Java has no equivalent of default parameters (uses overloaded methods instead)\n",
    "    - starting with 3.10, python has a form of Java's overloaded methods\n",
    "- python does not have checked exceptions and doesn't force you to declare that it may throw an Exception\n",
    "- Java has no equivalent of keyword arguments\n",
    "- Java has no equivalent of **kwargs\n",
    "- Java's equivalent of *args, is a variadic arg (eg `void static main(String... args)`)\n",
    "    - but java doesn't have an equivalent of unpacking\n",
    "\n",
    "I will go over other differences like lambdas and types in a later lesson"
   ]
  },
  {
   "cell_type": "markdown",
   "metadata": {},
   "source": [
    "## Functions with default parameters\n",
    "\n",
    "The next functions we will look at have a default parameter"
   ]
  },
  {
   "cell_type": "code",
   "execution_count": null,
   "metadata": {},
   "outputs": [],
   "source": [
    "def die_w_default(size: int = 20) -> int:\n",
    "    \"\"\"Returns a random number from [1, size] inclusive\n",
    "\n",
    "    Parameters\n",
    "    ----------\n",
    "    size : int, optional\n",
    "        the die size, by default 20\n",
    "\n",
    "    Returns\n",
    "    -------\n",
    "    int\n",
    "        the result of the roll\n",
    "    \"\"\"\n",
    "    return die(size)\n",
    "\n",
    "def dice(number: int, size: int = 20) -> list[int]:\n",
    "    \"\"\"Rolls `number` of dice of type `size`\n",
    "\n",
    "    Parameters\n",
    "    ----------\n",
    "    number : int\n",
    "        the number of dice to roll\n",
    "    size : int, optional\n",
    "        the size of the die type, by default 20\n",
    "\n",
    "    Returns\n",
    "    -------\n",
    "    list[int]\n",
    "        the result of the die rolls\n",
    "    \"\"\"\n",
    "    # this is called a list comprehension.  it is defined as:\n",
    "    # [return_val for val in some_sequence]\n",
    "    # it is equivalent to\n",
    "    #\n",
    "    # collection = []\n",
    "    # for val in some_iterable:\n",
    "    #     collection.append(val)\n",
    "    return [die(size) for _ in range(number)]"
   ]
  },
  {
   "cell_type": "markdown",
   "metadata": {},
   "source": [
    "### How defaulted params work\n",
    "\n",
    "notice that after the `{name}: {type}` there is `= 20`.  This is how one defines a default value for a function or\n",
    "method.  Using default args comes with some caveats:\n",
    "\n",
    "- A defaulted arg must come after all non-defaulted args (see `dice` function)\n",
    "- Do not use a default arg which is a mutable reference (eg, an empty list)\n",
    "\n",
    "The latter caveat bears some explanation.  In python, the default argument is created **once** when the function is \n",
    "defined.  It is not generated each time a function is invoked.  Let's see what happens if we try"
   ]
  },
  {
   "cell_type": "code",
   "execution_count": null,
   "metadata": {},
   "outputs": [],
   "source": [
    "# Can call it without naming the variable\n",
    "print(f\"Calling die_w_default(10) = {die_w_default(10)}\")\n",
    "# Or with naming it\n",
    "print(f\"Calling die_w_default(size=12) = {die_w_default(size=12)}\")\n",
    "die_w_default()\n",
    "\n",
    "# same with dice\n",
    "print(f\"Rolling 3d6 = {dice(3, 6)}\")\n",
    "print(f\"Rolling 4d20 = {dice(number=4, size=20)}\")\n",
    "# However, if you name a variable, it must come positional only args\n",
    "#print(dice(number=4, 20)) # won't work\n",
    "print(dice(4, size=20))"
   ]
  },
  {
   "cell_type": "markdown",
   "metadata": {},
   "source": [
    "## Common mistake: default value is mutable\n",
    "\n",
    "A common mistake in python is to create a default value which is a mutable reference\n",
    "\n",
    "- what you think happens is on each invocation it is getting a new default value\n",
    "- what actually happens is python assigns the default value once when it instantiates the function"
   ]
  },
  {
   "cell_type": "code",
   "execution_count": null,
   "metadata": {},
   "outputs": [],
   "source": [
    "def mutable_default(num_rolls: int, rolls: list[int] = []) -> list[int]:\n",
    "    for _ in range(num_rolls):\n",
    "        result = dice(3, 6)\n",
    "        rolls.extend(result)\n",
    "    return rolls\n",
    "\n",
    "# Let's make 1 roll\n",
    "rolls = mutable_default(1)\n",
    "print(rolls)\n",
    "# and run again using the default\n",
    "second_roll = mutable_default(1)\n",
    "print(second_roll) # hmm, why does it contain the second?\n",
    "\n",
    "third = mutable_default(1, [])\n",
    "print(third)"
   ]
  },
  {
   "cell_type": "code",
   "execution_count": null,
   "metadata": {},
   "outputs": [],
   "source": [
    "# Fixed version\n",
    "def fixed_mutable_default(num_rolls: int, rolls: list[int] | None = None) -> list[int]:\n",
    "    if rolls is None:\n",
    "        rolls = []\n",
    "    for _ in range(num_rolls):\n",
    "        result = dice(3, 6)\n",
    "        rolls.extend(result)\n",
    "    return rolls\n",
    "\n",
    "# Let's make 1 roll\n",
    "rolls = fixed_mutable_default(1)\n",
    "print(rolls)\n",
    "# and run again using the default\n",
    "second_roll = fixed_mutable_default(1)\n",
    "print(second_roll) "
   ]
  },
  {
   "cell_type": "markdown",
   "metadata": {},
   "source": [
    "## Postional and keyword only arguments\n",
    "\n",
    "Sometimes, when there are many arguments to a function or method, it's good to specify which arguments are positional\n",
    "and which arguments must be specified by keyword.  As shown from the examples above, you could call any of the functions\n",
    "either positionally, or with the name of the keyword.  To change this behavior you can do this:\n",
    "\n",
    "- Use `/` in your argument list to specify that any _args to the left_ are positional only\n",
    "- Use `*` in your argument list to specify that any _args to the right_ are keyword only\n",
    "\n",
    "Let's modify dice so that you must specify the `number` as a positional arg, and size as a keyword arg"
   ]
  },
  {
   "cell_type": "code",
   "execution_count": null,
   "metadata": {},
   "outputs": [],
   "source": [
    "def dice(number: int, /, *, size: int = 20) -> list[int]:\n",
    "    return [die(size) for _ in range(number)]\n",
    "\n",
    "#dice(number=4, size=10) # WRONG: can not specify number as a keyword arg\n",
    "#dice(4, 10) # WRONG: must specify size as a keyword\n",
    "dice(4, size=10)"
   ]
  },
  {
   "cell_type": "markdown",
   "metadata": {},
   "source": [
    "## *args and **kwargs\n",
    "\n",
    "Now that you know what positional and keyword args are, we can talk about *args, and **kwargs in python. A common\n",
    "convention in python code is to specify all positional arguments as `*args` and all keyword arguments as `**kwargs`.\n",
    "While this is a common convention, the only place this should be used in modern python is when creating decorator \n",
    "functions (which will be a topic for a more advanced session).\n",
    "\n",
    "- `*args` is actually a list of arguments that are passed to the function\n",
    "- `**kwargs` is actually a dict, where the key is the name of the argument, and the value is whatever the value is.\n",
    "\n",
    "The problem with `*args` and especially `**kwargs` is knowing what the meaning of the arguments are.  Sadly, a lot of\n",
    "legacy code used these conventions and paid the price for it\n",
    "\n",
    "> I used to work at Red Hat on the Openstack nova team (the compute side) and 9 years ago, it was 3 million lines of \n",
    "code.  We saw so many TypeError or KeyError bugs it wasn't funny.  This is because too many devs were lazy and just\n",
    "created methods like `def foo(requird_arg1, *args, required_named_arg=10, **kwargs):`.  When you write code like this,\n",
    "not only do you not know what the types are, you don't even know how many arguments are required, and what the key \n",
    "values (the names) in the `kwargs` dict are.  So, you are forced to look at the source code to figure out what is \n",
    "actually supposed to be passed in"
   ]
  },
  {
   "cell_type": "code",
   "execution_count": null,
   "metadata": {},
   "outputs": [],
   "source": [
    "def bad_function(required_pos: int, *args, required_name: str, **kwargs):\n",
    "    print(f\"I am a required positional argument with value: {required_pos}\")\n",
    "    print(f\"These are all the rest of the positional args: {args}\")\n",
    "    print(f\"I am a required_named arg: {required_name}\")\n",
    "    named_args = [f\"{k} = {v}\" for k, v in kwargs.items()]\n",
    "    print(f\"and these are all the other named arguments: {named_args}\")\n",
    "\n",
    "bad_function(10, \"hi\", \"sean\", required_name=\"toner\", **{\"one\": 1, \"two\": \"TWO\"})\n",
    "\n",
    "# example of unpacking *\n",
    "args = (1, 2, 3)\n",
    "print(f\"\\nCalling with star unpacking\")\n",
    "bad_function(10, *args, required_name=\"toner\", **{\"one\": 1, \"two\": \"TWO\"})\n",
    "\n",
    "obj = {\"a\": 1, \"b\": 2}\n",
    "print(f\"\\nCalling with ** unpacking\")\n",
    "bad_function(10, \"hi\", \"sean\", required_name=\"toner\", **obj)\n",
    "\n",
    "print(f\"\\nCalling with extra keyword args\")\n",
    "bad_function(10, \"hi\", \"sean\", required_name=\"toner\", brand_new_arg = 10, another_kw_arg = [1, 2, 3])"
   ]
  },
  {
   "cell_type": "markdown",
   "metadata": {},
   "source": [
    "### When to use *args and **kwargs: Passing lists and dicts\n",
    "\n",
    "Sometimes, the amount of arguments in a function becomes very large, and it is easier to pass in the arguments either\n",
    "by a list (for positional args) or by a dict (for named arguments).  This is sometimes useful when you have a class\n",
    "with many fields that need to be initialized as is often the case when using a `dataclass` type."
   ]
  },
  {
   "cell_type": "code",
   "execution_count": null,
   "metadata": {},
   "outputs": [],
   "source": [
    "from dataclasses import dataclass\n",
    "from datetime import datetime, timedelta\n",
    "from typing import Tuple\n",
    "\n",
    "\n",
    "def lots_of_args(\n",
    "    mapping: dict,\n",
    "    answers: Tuple[int, int],\n",
    "    cwd: str | None,\n",
    "    completed: bool,\n",
    "    start: datetime,\n",
    "    end: datetime,\n",
    "    timeout: timedelta\n",
    "):\n",
    "    print(mapping)\n",
    "    print(answers)\n",
    "    print(cwd)\n",
    "    print(completed)\n",
    "    print(start)\n",
    "    print(end)\n",
    "    print(timeout)\n",
    "    return end + timeout\n",
    "\n",
    "args = [\n",
    "    {1: \"foo\"},\n",
    "    (100, 200),\n",
    "    None\n",
    "]\n",
    "kwargs = {\n",
    "    \"completed\": True,\n",
    "    \"start\": datetime.now(),\n",
    "    \"end\": datetime.now(),\n",
    "    \"timeout\": timedelta(hours=1)\n",
    "}\n",
    "lots_of_args(*args, **kwargs)\n"
   ]
  },
  {
   "cell_type": "markdown",
   "metadata": {},
   "source": [
    "## Scopes\n",
    "\n",
    "This will be a very brief intro, but hopefully even people using python will learn a thing or two here.  The first thing\n",
    "we will go over is the concept of `scopes`.  Python, unlike most modern languages is not lexically scoped.\n",
    "\n",
    "What does `lexically scoped` mean?  Lexical means essentially, words, but it has to do with \"boundaries\" of your code.\n",
    "In many languages with curly braces, the braces define a scope.  Variables or other symbols introduced in that scope\n",
    "(eg the curly braces) only last inside the brace section.\n",
    "\n",
    "Python is not like that.  First off, it doesn't have curly braces.  But it does have indentation, so you might think\n",
    "that the indentation acts as a kind of scope, just like curly braces do.  This is incorrect.  Python really only has \n",
    "Method, Class and Module scope (and with 3.12, a new generic scope).\n",
    "\n",
    "The code below illustrates how "
   ]
  },
  {
   "cell_type": "code",
   "execution_count": null,
   "metadata": {},
   "outputs": [],
   "source": [
    "module_scoped = 10\n",
    "\n",
    "def lookup():\n",
    "    module_scoped = 100\n",
    "    print(f\"In function scope: module_scoped = {module_scoped}\")\n",
    "\n",
    "    # people used to lexical scoping think this is a bug.  They think `msg` lives in a scope defined by the if/else\n",
    "    # block, and doesn't exist outside the if/else block.  Python only has a single scope at the function/method level\n",
    "    if module_scoped < 100:\n",
    "        msg = \"value wasless than 100\"\n",
    "    else:\n",
    "        msg = \"value is greater than or equal to 100\"\n",
    "    print(msg)\n",
    "\n",
    "lookup()\n",
    "print(f\"module_scoped is {module_scoped}\") # it's still 10\n"
   ]
  },
  {
   "cell_type": "code",
   "execution_count": null,
   "metadata": {},
   "outputs": [],
   "source": [
    "# Only a few things are immutable in python, like str, tuples, int, float.A list is mutable\n",
    "a_list = [1, 2]\n",
    "\n",
    "# Because a_list is a mutable reference and it's in the global (top-level) scope, the call here will mutate a_list\n",
    "def captured_a_list(val: int):\n",
    "    # Uncomment this to see what happens\n",
    "    #a_list = [1, 2]\n",
    "    a_list.append(val)\n",
    "    print(a_list)\n",
    "\n",
    "captured_a_list(10)\n",
    "print(a_list)"
   ]
  },
  {
   "cell_type": "code",
   "execution_count": 12,
   "metadata": {},
   "outputs": [
    {
     "name": "stdout",
     "output_type": "stream",
     "text": [
      "id of a_list is 1828966114176\n",
      "id of some_list = 1828966114176\n",
      "id of some_list after assignment is now = 1828992152064\n",
      "but id of a_list is still = 1828966114176\n",
      "[1, 2]\n"
     ]
    }
   ],
   "source": [
    "def replacer(some_list: list[int]):\n",
    "    print(f\"id of some_list = {id(some_list)}\")\n",
    "    some_list = []\n",
    "    print(f\"id of some_list after assignment is now = {id(some_list)}\")\n",
    "    print(f\"but id of a_list is still = {id(a_list)}\")\n",
    "\n",
    "print(f\"id of a_list is {id(a_list)}\")\n",
    "replacer(a_list) # this is like lookup(), it creates a new binding, leaving the original alone\n",
    "print(a_list)"
   ]
  },
  {
   "cell_type": "markdown",
   "metadata": {},
   "source": [
    "## Namespaces\n",
    "\n",
    "So far, I haven't talked about namespaces at all, but they play a critical role in python but they can easily trip even\n",
    "intermediate or advanced users because usually scopes are implicit, and so it's not obvious what they are.\n",
    "\n",
    "Scopes and namespaces go hand in hand with each other.  A namespace is a mapping of a symbol name to a value, for \n",
    "example, if a function uses a variable called `amount` in a calculation, python has to look up what `amount` is.  This\n",
    "value `amount` may have been declared in one of many _scopes_.  \n",
    "\n",
    "- module (global tothe module)\n",
    "- function\n",
    "- typing (introduced in 3.12)\n",
    "\n",
    "If you look carefully at what happened in the replacer function, you may have been puzzled.  Why did `some_list` get\n",
    "a new memory address?  Why didn't it just empty out what it was pointing to?\n",
    "\n",
    "We can kind of think of a namespace like a map that python looks up:\n",
    "\n",
    "```yaml\n",
    "global:\n",
    "  a_list:\n",
    "    value: [1, 2]\n",
    "    address: 1828966114176\n",
    "function:\n",
    "  replacer:\n",
    "    some_list:\n",
    "      value\n",
    "```"
   ]
  },
  {
   "cell_type": "markdown",
   "metadata": {},
   "source": [
    "## The global and nonlocal keywords\n",
    "\n",
    "Though rarely used, sometimes it is necessary to mark a variable in a non top-level scope (ie, declared inside of a \n",
    "function, method, or class) as being either `global` or `nonlocal`.\n",
    "\n",
    "Let's look at an example:"
   ]
  },
  {
   "cell_type": "code",
   "execution_count": null,
   "metadata": {},
   "outputs": [],
   "source": [
    "def globalizer():\n",
    "    global foo\n",
    "    foo = \"testing\"\n",
    "\n",
    "globalizer()\n",
    "# Where did `foo` come from?  It got inserted into the global namespace through the `global` keyword\n",
    "print(f\"foo = {foo}\")\n",
    "\n",
    "def change_foo():\n",
    "    foo = \"hello\"\n",
    "\n",
    "change_foo()\n",
    "print(f\"foo did not change and is still = {foo}\")"
   ]
  },
  {
   "cell_type": "markdown",
   "metadata": {},
   "source": [
    "### A mutable global\n",
    "\n",
    "As we can see, we tried to reassign the `global` variable foo inside of `change_foo` function, but it didn't work.  Is\n",
    "there a way to make it work?\n",
    "\n",
    "There is, but you have to create the variable"
   ]
  },
  {
   "cell_type": "code",
   "execution_count": 13,
   "metadata": {},
   "outputs": [
    {
     "name": "stdout",
     "output_type": "stream",
     "text": [
      "without global name, name is still = sean\n"
     ]
    }
   ],
   "source": [
    "name = \"sean\"\n",
    "\n",
    "def non_global_rename(to: str):\n",
    "    name = to\n",
    "\n",
    "non_global_rename(\"john\")\n",
    "print(f\"without global name, name is still = {name}\")"
   ]
  },
  {
   "cell_type": "code",
   "execution_count": 14,
   "metadata": {},
   "outputs": [
    {
     "name": "stdout",
     "output_type": "stream",
     "text": [
      "Before call to rename, name = sean\n",
      "after call to rename, name is now = john\n"
     ]
    }
   ],
   "source": [
    "def rename(to: str):\n",
    "    global name\n",
    "    name = to\n",
    "\n",
    "print(f\"Before call to rename, name = {name}\")\n",
    "rename(\"john\") # because we use global, we reassign it\n",
    "print(f\"after call to rename, name is now = {name}\")"
   ]
  },
  {
   "cell_type": "code",
   "execution_count": 17,
   "metadata": {},
   "outputs": [
    {
     "name": "stdout",
     "output_type": "stream",
     "text": [
      "hi sean\n",
      "tony\n"
     ]
    }
   ],
   "source": [
    "def wrapper(name: str):\n",
    "    def inner(greet: str):\n",
    "        #nonlocal name # try uncommenting this\n",
    "        name = \"sean\"\n",
    "        return f\"{greet} {name}\"\n",
    "    print(inner(\"hi\"))\n",
    "    return name\n",
    "\n",
    "name = \"tony\"\n",
    "print(wrapper(name))"
   ]
  },
  {
   "cell_type": "markdown",
   "metadata": {},
   "source": [
    "## More scoping gotchas\n",
    "\n",
    "This is a common source of confusion for new pythonistas"
   ]
  },
  {
   "cell_type": "code",
   "execution_count": 23,
   "metadata": {},
   "outputs": [
    {
     "data": {
      "text/plain": [
       "'C'"
      ]
     },
     "execution_count": 23,
     "metadata": {},
     "output_type": "execute_result"
    }
   ],
   "source": [
    "score = 75 # try setting this to 50 and uncommenting the other lines\n",
    "\n",
    "def grader(check: int):\n",
    "    # dont have to create a \"default\" grade here,  grade is scoped to the entire function\n",
    "    # however, try changing score to 50, and commenting out the marked lines\n",
    "    if check > 90:\n",
    "        grade = \"A\"\n",
    "    elif check > 80:\n",
    "        grade = \"B\"\n",
    "    elif check > 70:\n",
    "        grade = \"C\"\n",
    "    elif check > 60:\n",
    "        grade = \"D\"\n",
    "    #else:              # try commenting this out\n",
    "    #    grade = \"F\"    # and this\n",
    "    return grade\n",
    "\n",
    "\n",
    "grader(score)"
   ]
  },
  {
   "cell_type": "markdown",
   "metadata": {},
   "source": [
    "## Closures and Functions\n",
    "\n",
    "Understanding scopes is necessary to make use of closures and nested functions.  We already showed several examples\n",
    "of functions"
   ]
  }
 ],
 "metadata": {
  "kernelspec": {
   "display_name": "venv",
   "language": "python",
   "name": "python3"
  },
  "language_info": {
   "codemirror_mode": {
    "name": "ipython",
    "version": 3
   },
   "file_extension": ".py",
   "mimetype": "text/x-python",
   "name": "python",
   "nbconvert_exporter": "python",
   "pygments_lexer": "ipython3",
   "version": "3.11.6"
  },
  "orig_nbformat": 4
 },
 "nbformat": 4,
 "nbformat_minor": 2
}
