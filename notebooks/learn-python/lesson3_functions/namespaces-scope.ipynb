{
 "cells": [
  {
   "cell_type": "markdown",
   "metadata": {},
   "source": [
    "## Scopes\n",
    "\n",
    "This will be a very brief intro, but hopefully even people using python will learn a thing or two here.  The first thing\n",
    "we will go over is the concept of `scopes`.  Python, unlike most modern languages is not lexically scoped.\n",
    "\n",
    "> What does `lexically scoped` mean?  Lexical means essentially, words, but it has to do with \"boundaries\" of your code.\n",
    "> In many languages with curly braces, the braces define a scope.  Variables or other symbols introduced in that scope\n",
    "> (eg the curly braces) only last inside the brace section.\n",
    "\n",
    "Python is not like that.  Indentation does **not** create a new scope in python, they do however _bind_ a `symbol`. So\n",
    "we need to discuss what symbols are, and how they are mapped in `namespaces`.\n",
    "\n",
    "In short:\n",
    "\n",
    "```\n",
    "scopes -> namespaces -> symbols\n",
    "```"
   ]
  },
  {
   "cell_type": "markdown",
   "metadata": {},
   "source": [
    "## Namespaces and symbols\n",
    "\n",
    "Many people who program tend to forget or never truly learn what a `symbol` in a language is.  For example consider this\n",
    "one-liner:\n",
    "\n",
    "```python\n",
    "path = \"/tmp/some-data\"\n",
    "```\n",
    "\n",
    "As programmers, we think in our heads `path is a variable that has the value '/tmp/some-data'`.  But that's wrong in\n",
    "several ways.  More precisely:\n",
    "\n",
    "- `path` is a symbol...\n",
    "- that is a look up into a table...\n",
    "- where the key is the name `path`...\n",
    "- and the value is a reference to an object.  \n",
    "- The object that symbol points to:\n",
    "    - has a memory location \n",
    "    - and a type.  \n",
    "- The type of the object determines how we get the actual value it refers to"
   ]
  },
  {
   "cell_type": "markdown",
   "metadata": {},
   "source": [
    "## Namespace as a dict\n",
    "\n",
    "Conceptually, you can think of a namespace like a dictionary that python looks up to find symbols, so that when you make\n",
    "use of a symbol, python knows how to retrieve the value based on the symbol name.\n",
    "\n",
    "```yaml\n",
    "global-main: # This is the scope which is global (or module) level\n",
    "  path:      # this is the symbol name\n",
    "    id: 0x7f14297171b0,  # this is the object's memory location\n",
    "    type: str            # and this is the type\n",
    "```\n",
    "\n",
    "But, there's a potential problem.  What if we have two symbols with the same name, but in different parts of the code?"
   ]
  },
  {
   "cell_type": "code",
   "execution_count": null,
   "metadata": {},
   "outputs": [],
   "source": [
    "lookup_val = 10  # Global scoped.  Global is usually synonmous with module-scoped\n",
    "\n",
    "def lookup():\n",
    "    lookup_val = 100  # \n",
    "    print(locals())\n",
    "\n",
    "    def inner():\n",
    "        print(f\"in inner(): lookup_val = {lookup_val}\")\n",
    "\n",
    "    print(f\"In lookup: lookup_val = {lookup_val}\")\n",
    "    return inner\n",
    "\n",
    "inner = lookup()\n",
    "inner()  # which lookup_val is inner going to use?\n",
    "print(f\"In global scope: lookup_val is {lookup_val}\") # it's still 10\n"
   ]
  },
  {
   "cell_type": "code",
   "execution_count": null,
   "metadata": {},
   "outputs": [],
   "source": [
    "globals()"
   ]
  },
  {
   "cell_type": "code",
   "execution_count": null,
   "metadata": {},
   "outputs": [],
   "source": [
    "a_list = [1, 2]\n",
    "\n",
    "# Because a_list is a mutable reference and it's in the global (top-level) scope, the call here will mutate a_list\n",
    "def captured_a_list(val: int):\n",
    "    a_list.append(val)\n",
    "\n",
    "captured_a_list(10)"
   ]
  },
  {
   "cell_type": "code",
   "execution_count": null,
   "metadata": {},
   "outputs": [],
   "source": [
    "print(a_list)\n",
    "def replacer(some_list: list[int]):\n",
    "    print(f\"id of some_list = {id(some_list)}\")\n",
    "    some_list = []\n",
    "    print(f\"id of some_list after assignment is now = {id(some_list)}\")\n",
    "    print(f\"but id of a_list is still = {id(a_list)}\")\n",
    "\n",
    "print(f\"id of a_list is {id(a_list)}\")\n",
    "replacer(a_list) # this is like lookup(), it creates a new binding, leaving the original alone\n",
    "print(a_list)"
   ]
  },
  {
   "cell_type": "markdown",
   "metadata": {},
   "source": [
    "## Python scope lookup\n",
    "\n",
    "There are 4 kinds of scope in python in this order of lookup\n",
    "\n",
    "- local\n",
    "- enclosing\n",
    "- global\n",
    "- builtin\n",
    "\n",
    "You might wonder what is the difference between local and enclosing?"
   ]
  },
  {
   "cell_type": "markdown",
   "metadata": {},
   "source": [
    "## The global and nonlocal keywords\n",
    "\n",
    "Though rarely used, sometimes it is necessary to mark a variable in a non top-level scope (ie, declared inside of a \n",
    "function, method, or class) as being either `global` or `nonlocal`.\n",
    "\n",
    "Let's look at an example:"
   ]
  },
  {
   "cell_type": "code",
   "execution_count": null,
   "metadata": {},
   "outputs": [],
   "source": [
    "def globalizer():\n",
    "    global foo\n",
    "    foo = \"testing\"\n",
    "\n",
    "globalizer()\n",
    "# Where did `foo` come from?  It got inserted into the global namespace through the `global` keyword\n",
    "print(f\"foo = {foo}\")\n",
    "\n",
    "def change_foo():\n",
    "    foo = \"hello\"\n",
    "\n",
    "change_foo()\n",
    "print(f\"foo did not change and is still = {foo}\")"
   ]
  },
  {
   "cell_type": "markdown",
   "metadata": {},
   "source": [
    "### A mutable global\n",
    "\n",
    "As we can see, we tried to reassign the `global` variable foo inside of `change_foo` function, but it didn't work.  Is\n",
    "there a way to make it work?\n",
    "\n",
    "There is, but you have to create the variable at the global scope"
   ]
  },
  {
   "cell_type": "code",
   "execution_count": null,
   "metadata": {},
   "outputs": [],
   "source": [
    "name = \"sean\"\n",
    "\n",
    "def non_global_rename(to: str):\n",
    "    name = to\n",
    "\n",
    "non_global_rename(\"john\")\n",
    "print(f\"without global name, name is still = {name}\")\n",
    "\n",
    "def rename(to: str):\n",
    "    global name\n",
    "    name = to\n",
    "\n",
    "print(f\"Before call to rename, name = {name}\")\n",
    "rename(\"john\") # because we use global, we reassign it\n",
    "print(f\"after call to rename, name is now = {name}\")\n",
    "def wrapper(name: str):\n",
    "    def inner(greet: str):\n",
    "        #nonlocal name # try uncommenting this\n",
    "        name = \"sean\"\n",
    "        return f\"{greet} {name}\"\n",
    "    print(inner(\"hi\"))\n",
    "    return name\n",
    "\n",
    "name = \"tony\"\n",
    "print(wrapper(name))"
   ]
  },
  {
   "cell_type": "markdown",
   "metadata": {},
   "source": [
    "## More scoping gotchas\n",
    "\n",
    "This is a common source of confusion for new pythonistas\n",
    "score = 50 # try setting this to 50"
   ]
  },
  {
   "cell_type": "code",
   "execution_count": null,
   "metadata": {},
   "outputs": [],
   "source": [
    "def grader(check: int):\n",
    "    # dont have to create a \"default\" grade here,  grade is scoped to the entire function\n",
    "    # however, try changing score to 50, and commenting out the marked lines\n",
    "    if check > 90:\n",
    "        grade = \"A\"\n",
    "    elif check > 80:\n",
    "        grade = \"B\"\n",
    "    elif check > 70:\n",
    "        grade = \"C\"\n",
    "    elif check > 60:\n",
    "        grade = \"D\"\n",
    "    #else:              # try commenting this out\n",
    "    #    grade = \"F\"    # and this\n",
    "    return grade\n",
    "\n",
    "\n",
    "grader(score)"
   ]
  }
 ],
 "metadata": {
  "kernelspec": {
   "display_name": ".venv",
   "language": "python",
   "name": "python3"
  },
  "language_info": {
   "codemirror_mode": {
    "name": "ipython",
    "version": 3
   },
   "file_extension": ".py",
   "mimetype": "text/x-python",
   "name": "python",
   "nbconvert_exporter": "python",
   "pygments_lexer": "ipython3",
   "version": "3.11.6"
  }
 },
 "nbformat": 4,
 "nbformat_minor": 2
}
