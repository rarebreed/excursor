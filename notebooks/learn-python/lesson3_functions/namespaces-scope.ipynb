{
 "cells": [
  {
   "cell_type": "markdown",
   "metadata": {},
   "source": [
    "## Scopes\n",
    "\n",
    "This will be a very brief intro on scopes.  Python, unlike most modern languages is not lexically scoped.\n",
    "\n",
    "> What does `lexically scoped` mean?  Lexical means essentially, words, but it has to do with \"boundaries\" of your code.  \n",
    "> In many languages with curly braces, the braces define a scope.  Variables or other symbols introduced in that scope  \n",
    "> (eg the curly braces) only last inside the brace section.\n",
    "\n",
    "Python is not like that.  \n",
    "\n",
    "- Indentation does **not** create a new scope in python\n",
    "- a scope does however _bind_ a `symbol`. \n",
    "\n",
    "So we need to discuss what symbols are, and how they are mapped in `namespaces`.  In short:\n",
    "\n",
    "```\n",
    "scopes -> namespaces -> symbols\n",
    "```"
   ]
  },
  {
   "cell_type": "markdown",
   "metadata": {},
   "source": [
    "## Namespaces and symbols\n",
    "\n",
    "Many people who program tend to forget or never truly learn what a `symbol` in a language is.  For example consider this\n",
    "one-liner:\n",
    "\n",
    "```python\n",
    "path = \"/tmp/some-data\"\n",
    "```\n",
    "\n",
    "As programmers, we think in our heads:\n",
    "\n",
    "```\n",
    "path is a variable that has the value '/tmp/some-data'`\n",
    "```"
   ]
  },
  {
   "cell_type": "markdown",
   "metadata": {},
   "source": [
    "But that's wrong in several ways.  More precisely:\n",
    "\n",
    "- `path` is a symbol...\n",
    "- that is a look up into a table...\n",
    "- where the key is the name `path`...\n",
    "- and the value is a reference to an object.  \n",
    "- The object that symbol points to:\n",
    "    - has a memory location \n",
    "    - and a type.  \n",
    "- The type of the object determines how we get the actual value it refers to"
   ]
  },
  {
   "cell_type": "markdown",
   "metadata": {},
   "source": [
    "## Namespace as a dict\n",
    "\n",
    "Conceptually, you can think of a namespace like a dictionary that python looks up to find symbols, so that when you  \n",
    "make use of a symbol, python knows how to retrieve the value based on the symbol name.\n",
    "\n",
    "```yaml\n",
    "global-main: # This is the scope which is global (or module) level\n",
    "  path:      # this is the symbol name\n",
    "    id: 0x7f14297171b0,  # this is the object's memory location\n",
    "    type: str            # and this is the type\n",
    "```\n",
    "\n",
    "But, there's a potential problem.  What if we have two symbols with the same name, but in different parts of the code?"
   ]
  },
  {
   "cell_type": "code",
   "execution_count": null,
   "metadata": {},
   "outputs": [],
   "source": [
    "from pprint import pprint\n",
    "\n",
    "lookup_val = 10  # Global scoped.  Global is actually module-scoped (only builtins are truly global)\n",
    "\n",
    "def lookup():\n",
    "    lookup_val = 100  # local scoped (to )\n",
    "    print(f\"lookup(): {locals()}\")\n",
    "    #pprint(globals())\n",
    "\n",
    "    def inner():\n",
    "        print(f\"in inner(): lookup_val = {lookup_val}\")\n",
    "        #print(f\"inner(): {locals()}\")\n",
    "\n",
    "    print(f\"In lookup: lookup_val = {lookup_val}\")\n",
    "    return inner\n",
    "\n",
    "inner = lookup()\n",
    "inner()  # which lookup_val is inner going to use?\n",
    "print(f\"In global scope: lookup_val is {lookup_val}\") # it's still 10"
   ]
  },
  {
   "cell_type": "code",
   "execution_count": null,
   "metadata": {},
   "outputs": [],
   "source": [
    "globals()"
   ]
  },
  {
   "cell_type": "code",
   "execution_count": null,
   "metadata": {},
   "outputs": [],
   "source": [
    "a_list = [1, 2]\n",
    "\n",
    "# Because a_list is a mutable reference and it's in the global (top-level) scope, the call here will mutate a_list\n",
    "def captured_a_list(val: int):\n",
    "    a_list.append(val)\n",
    "    # print(locals())\n",
    "\n",
    "captured_a_list(10)"
   ]
  },
  {
   "cell_type": "code",
   "execution_count": null,
   "metadata": {},
   "outputs": [],
   "source": [
    "print(a_list)\n",
    "def replacer(some_list: list[int]):\n",
    "    print(f\"id of some_list = {id(some_list)}\")\n",
    "    some_list = []\n",
    "    print(f\"id of some_list after assignment is now = {id(some_list)}\")\n",
    "    print(f\"but id of a_list is still = {id(a_list)}\")\n",
    "\n",
    "print(f\"id of a_list is {id(a_list)}\")\n",
    "replacer(a_list) # this is like lookup(), it creates a new binding, leaving the original alone\n",
    "print(a_list)"
   ]
  },
  {
   "cell_type": "markdown",
   "metadata": {},
   "source": [
    "## Python scope lookup\n",
    "\n",
    "There are 4 kinds of scope in python in this order of lookup\n",
    "\n",
    "- local\n",
    "- enclosing\n",
    "- global\n",
    "- builtin\n",
    "\n",
    "```\n",
    "+-----------------------------------+\n",
    "| builtins                          |\n",
    "|                                   |\n",
    "| +-------------------------------+ |\n",
    "| | globals                       | |\n",
    "| |                               | |\n",
    "| | +---------------------------+ | |\n",
    "| | | enclosing/non-locals      | | |\n",
    "| | |                           | | |\n",
    "| | | +----------------------+  | | |\n",
    "| | | | locals               |  | | |\n",
    "| | | +----------------------+  | | |\n",
    "| | +---------------------------+ | |\n",
    "| +-------------------------------+ |\n",
    "+-----------------------------------+\n",
    "```\n",
    "\n",
    "You might wonder what is the difference between local and enclosing?"
   ]
  },
  {
   "cell_type": "markdown",
   "metadata": {},
   "source": [
    "## The global and nonlocal keywords\n",
    "\n",
    "Though rarely used, sometimes it is necessary to mark a variable in a non top-level scope (ie, declared inside of a \n",
    "function, method, or class) as being either `global` or `nonlocal`.\n",
    "\n",
    "Let's look at an example:"
   ]
  },
  {
   "cell_type": "code",
   "execution_count": null,
   "metadata": {},
   "outputs": [],
   "source": [
    "def globalizer():\n",
    "    global foo\n",
    "    foo = \"testing\"\n",
    "\n",
    "globalizer()\n",
    "# Where did `foo` come from?  It got inserted into the global namespace through the `global` keyword\n",
    "print(f\"foo = {foo}\")\n",
    "\n",
    "def change_foo():\n",
    "    foo = \"hello\"  # What do you think this will print?"
   ]
  },
  {
   "cell_type": "markdown",
   "metadata": {},
   "source": [
    "## What will change_foo print?"
   ]
  },
  {
   "cell_type": "code",
   "execution_count": null,
   "metadata": {},
   "outputs": [],
   "source": [
    "change_foo()\n",
    "print(f\"foo did not change and is still = {foo}\")\n",
    "\n",
    "# So how DO you change it then?"
   ]
  },
  {
   "cell_type": "markdown",
   "metadata": {},
   "source": [
    "### A mutable global\n",
    "\n",
    "As we can see, we tried to reassign the `global` variable foo inside of `change_foo` function, but it didn't work.  Is\n",
    "there a way to make it work?\n",
    "\n",
    "There is, but you have to add the `global` keyword to the function that will mutate the global variable."
   ]
  },
  {
   "cell_type": "code",
   "execution_count": null,
   "metadata": {},
   "outputs": [],
   "source": [
    "name = \"sean\"  # A global (aka module scoped) variable since it is not inside a function or class\n",
    "\n",
    "def non_global_rename(to: str):\n",
    "    name = to  # Question: what scope does `name` live in?\n",
    "\n",
    "non_global_rename(\"john\")\n",
    "print(f\"without `global name`, name is still = {name}\")\n",
    "\n",
    "def rename(to: str):\n",
    "    global name\n",
    "    name = to\n",
    "\n",
    "print(f\"Before call to rename, name = {name}\")\n",
    "rename(\"john\") # because we use global, we reassign it\n",
    "print(f\"after call to rename, name is now = {name}\")"
   ]
  },
  {
   "cell_type": "code",
   "execution_count": null,
   "metadata": {},
   "outputs": [],
   "source": [
    "def change_foo():\n",
    "    global foo\n",
    "    foo = \"hello\"  # What do you think this will print?\n",
    "\n",
    "change_foo()\n",
    "print(f\"foo is now {foo}\")"
   ]
  },
  {
   "cell_type": "markdown",
   "metadata": {},
   "source": [
    "## Mutable variables and scope\n",
    "\n",
    "But wait! you say.  I have written code like this that can change an outer variable."
   ]
  },
  {
   "cell_type": "code",
   "execution_count": null,
   "metadata": {},
   "outputs": [],
   "source": [
    "from datetime import datetime\n",
    "\n",
    "\n",
    "build_to_date = {}\n",
    "\n",
    "def add_to_map(key: int):\n",
    "    build_to_date[key] = datetime.now()\n",
    "    return build_to_date"
   ]
  },
  {
   "cell_type": "code",
   "execution_count": null,
   "metadata": {},
   "outputs": [],
   "source": [
    "import time\n",
    "\n",
    "\n",
    "for i in range(3):\n",
    "    print(add_to_map(i))\n",
    "    time.sleep(1)"
   ]
  },
  {
   "cell_type": "markdown",
   "metadata": {},
   "source": [
    "## What's going on??\n",
    "\n",
    "Notice, that when we tried to mutate `foo` which was a `str`, we couldn't do it and had to add the `global` keyword.\n",
    "So how did this work with a dict?  That's because in python a str type is immutable.  There's not many immutable types\n",
    "in python, and generally speaking, unless it's a str, int, tuple or something extending those classes, it's mutable.\n",
    "More importantly, it's a mutable _reference_.\n",
    "\n",
    "This means you are _directly_ changing the value of the argument, rather than passing in a _copy_.  In some languages,\n",
    "they call this _pass by reference_ as opposed to _pass by copy_."
   ]
  },
  {
   "cell_type": "markdown",
   "metadata": {},
   "source": [
    "## More scoping gotchas\n",
    "\n",
    "This is a common source of confusion for new pythonistas\n",
    "score = 50 # try setting this to 50"
   ]
  },
  {
   "cell_type": "code",
   "execution_count": null,
   "metadata": {},
   "outputs": [],
   "source": [
    "def grader(check: int):\n",
    "    # dont have to create a \"default\" grade here,  grade is scoped to the entire function\n",
    "    # however, try changing score to 50, and commenting out the marked lines\n",
    "    if check > 90:\n",
    "        grade = \"A\"\n",
    "    elif check > 80:\n",
    "        grade = \"B\"\n",
    "    elif check > 70:\n",
    "        grade = \"C\"\n",
    "    elif check > 60:\n",
    "        grade = \"D\"\n",
    "    #else:              # try commenting this out\n",
    "    #    grade = \"F\"    # and this\n",
    "    return grade\n",
    "\n",
    "\n",
    "grader(score)"
   ]
  },
  {
   "cell_type": "markdown",
   "metadata": {},
   "source": [
    "## Higher order functions\n",
    "\n",
    "Part of the reason that namespaces and scopes were covered, is to help better understand how higher order functions\n",
    "work.  In python, functions are:\n",
    "\n",
    "- first class citizens (unlike Java or C/C++) \n",
    "- can be used as arguments to functions or returned from functions\n",
    "- capture their namespace, namely, their local and enclosing scoped namespaces\n",
    "    - In a sense, you can think of functions as mini-objects that contain state.\n",
    "\n",
    "We will next cover:\n",
    "\n",
    "- nested functions\n",
    "- functions as return values\n",
    "- functions as arguments"
   ]
  },
  {
   "cell_type": "code",
   "execution_count": null,
   "metadata": {},
   "outputs": [],
   "source": [
    "# A common use case of a nested function, is to create a \"private\" function that handles some functionality\n",
    "\n",
    "import functools as ft\n",
    "from random import randint\n",
    "from typing import Callable, Generator, Sequence\n",
    "\n",
    "# Example of a function that returns a function\n",
    "# Question: what scope is `num` in? (hint: from whose perspective?)\n",
    "def die_pool(num: int):\n",
    "    if num < 1:\n",
    "        raise Exception(f\"num must be greater than 0\")\n",
    "    def inner(size: int):\n",
    "        if size < 2:\n",
    "            raise Exception(\"size must be >= 2\")\n",
    "        if size > 1000:\n",
    "            raise Exception(\"Only up to d1000 is possible\")\n",
    "        # Returns a generator, which I will cover when we go over the Iterator protocol.  Think of it as a lazy list\n",
    "        return (randint(1, size) for _ in range(num))\n",
    "    return inner\n",
    "\n",
    "# Example of a nested function\n",
    "def die_roll_v1(\n",
    "    num: int, \n",
    "    size: int, \n",
    "    target: int\n",
    "):\n",
    "    \"\"\"Rolls num of size dice.  Returns a 2 element tuple of rolls < target, and >= target\n",
    "\n",
    "    Parameters\n",
    "    ----------\n",
    "    num : int\n",
    "        number of dice to roll\n",
    "    size : int\n",
    "        size of the die\n",
    "    target : int\n",
    "        A number from 1 - size\n",
    "    \"\"\"\n",
    "    if target < 1 or target > size:\n",
    "        raise Exception(\"target must be: 1 <= target <= size\")\n",
    "\n",
    "    # Example of a nested function.  This is one way of making something \"private\" in python.  Technically, you can \n",
    "    # still access \n",
    "    def filter(acc: tuple[list[int], list[int]], next: int):\n",
    "        if next >= target:\n",
    "            acc[1].append(next)\n",
    "        else:\n",
    "            acc[0].append(next)\n",
    "        return acc\n",
    "    \n",
    "    roll = die_pool(num)(size)\n",
    "    result = ft.reduce(filter, roll, ([], []))\n",
    "    return sorted(result[0]), sorted(result[1])"
   ]
  },
  {
   "cell_type": "code",
   "execution_count": null,
   "metadata": {},
   "outputs": [],
   "source": [
    "failed, succeeded = die_roll_v1(6, 20, 12)\n",
    "print(failed, succeeded)"
   ]
  },
  {
   "cell_type": "code",
   "execution_count": null,
   "metadata": {},
   "outputs": [],
   "source": [
    "# This is an example of a function as a parameter.  Here, we are passing in `roll`, which is a function that takes no\n",
    "# arguments, and returns a Generator.  I will go more in depth in Generators when we cover the Iterator protocol.  For\n",
    "# now, think of it as a lazy list that yields one element at a time\n",
    "def die_roll_v2(\n",
    "    pool: Callable[[], Generator[int, None, None]], \n",
    "    target: int\n",
    "):\n",
    "    \"\"\"Takes a roll of dice (list of int) and finds all values >= to target.  If exploding is not None, if any value\n",
    "    is >= to exploding, roll another die (recursively)\n",
    "\n",
    "    []\n",
    "\n",
    "    Parameters\n",
    "    ----------\n",
    "    roll : list[int]\n",
    "        _description_\n",
    "    target : int\n",
    "        _description_\n",
    "    \"\"\"\n",
    "\n",
    "    def filter(acc: tuple[list[int], list[int]], next: int):\n",
    "        if next >= target:\n",
    "            acc[1].append(next)\n",
    "        else:\n",
    "            acc[0].append(next)\n",
    "        return acc\n",
    "    \n",
    "    roll = pool()\n",
    "    result = ft.reduce(filter, roll, ([], []))\n",
    "    return sorted(result[0]), sorted(result[1])"
   ]
  },
  {
   "cell_type": "code",
   "execution_count": null,
   "metadata": {},
   "outputs": [],
   "source": [
    "p5d20 = lambda: die_pool(5)(20)\n",
    "p7d20 = lambda: die_pool(7)(20)\n",
    "failed, successes = die_roll_v2(p7d20, 12)\n",
    "print(failed, successes)"
   ]
  },
  {
   "cell_type": "code",
   "execution_count": null,
   "metadata": {},
   "outputs": [],
   "source": [
    "# Example of a stateful closure.  And this is one reason I spent all that time going over scopes and namespaces\n",
    "\n",
    "def find(match: str):\n",
    "    count = 0\n",
    "\n",
    "    def search(text: str):\n",
    "        nonlocal count  # Try commenting this out\n",
    "        if match in text:\n",
    "            count += 1\n",
    "        return count\n",
    "\n",
    "    return search\n",
    "\n",
    "matcher = find(\"sean\")\n",
    "text = [\n",
    "    \"Hi sean how are you?\",\n",
    "    \"Did sean do his work today?\",\n",
    "    \"Why not?\",\n",
    "    \"Excuses excuses\",\n",
    "    \"Get cracking sean!\"\n",
    "]\n",
    "for line in text:\n",
    "    count = matcher(line)\n",
    "    print(f\"found {count} matches so far\")\n"
   ]
  }
 ],
 "metadata": {
  "kernelspec": {
   "display_name": ".venv",
   "language": "python",
   "name": "python3"
  },
  "language_info": {
   "codemirror_mode": {
    "name": "ipython",
    "version": 3
   },
   "file_extension": ".py",
   "mimetype": "text/x-python",
   "name": "python",
   "nbconvert_exporter": "python",
   "pygments_lexer": "ipython3",
   "version": "3.11.6"
  }
 },
 "nbformat": 4,
 "nbformat_minor": 2
}
