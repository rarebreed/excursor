{
 "cells": [
  {
   "cell_type": "markdown",
   "metadata": {},
   "source": [
    "# Packages and modules\n",
    "\n",
    "All code in python ultimately lives in a module, and a module may or may not live in a package.  A plain script can also  \n",
    "be considered a module, but at the top level (it is not nested inside a package).  In this lesson, we will learn:\n",
    "\n",
    "- what a module is\n",
    "- what is `__main__`?\n",
    "- how to control what symbols with a * import using `__all__`\n",
    "- what a package is\n",
    "    - why `__init__` isn't required anymore, but what you can use it for\n",
    "- what the PYTHONPATH is\n",
    "- how modules get loaded\n",
    "    - relative imports\n",
    "    - absolute imports\n",
    "    - importlib\n",
    "    - sys.modules\n",
    "    - shadowing builtin modules\n",
    "    - reloading a module with new changes\n",
    "- how to best lay out a project's code."
   ]
  },
  {
   "cell_type": "markdown",
   "metadata": {},
   "source": [
    "## What is a module?\n",
    "\n",
    "Like all programming languages, python has a way to group related and reuseble code together.  This relation might come  \n",
    "in many forms such as by services, model types, business units, or any other logical grouping you can think of.  At a  \n",
    "basic level, you can think of the hierarchy of code organization as:\n",
    "\n",
    "- package\n",
    "    - modules\n",
    "        - classes\n",
    "        - functions\n",
    "        - variables (global)\n",
    "        - type aliases\n",
    "        - generics (until 3.12)\n",
    "        - executable code (executed when imported)\n",
    "\n",
    "So as you can see, a module can be a container for many things.  Notice they are plural too.  A single module can have  \n",
    "multiple classes or functions.  It is not like Java that requires a single class per file."
   ]
  },
  {
   "cell_type": "markdown",
   "metadata": {},
   "source": [
    "## What uses modules?\n",
    "\n",
    "Before we talk about how to import a module to load the code, we need to ask ourselves, \"who does the importing?\".\n",
    "\n",
    "- Modules can import other modules\n",
    "- A script (the main entrypoint)\n",
    "\n",
    "What can be a little confusing is that there is a blurry line between a script and a module.  A module can contain\n",
    "executable code, and a script can have self-conained declarations of functions, classes, etc.  Typically though,  \n",
    "modules are meant as libraries, to be used by other code, and any executable code is just meant for initialization.  On  \n",
    "the other hand, there is a convention to be able to have executable code that is only run when the name of the module  \n",
    "is `__main__`\n",
    "\n",
    "> If you have created virtual environments with `python -m venv dir` then you executed the module `venv`.  Typically  \n",
    "the name of a module is it's file name, and is included in the field `__name__`.  However, if you run python with the\n",
    "`-m` option you can pass in the package.module path and the module name will then be `__main__`\n",
    "\n",
    "```python\n",
    "if __name__ == \"__main__\":\n",
    "    print(\"this code is executed when run with `python -m module_name`)\n",
    "```"
   ]
  },
  {
   "cell_type": "markdown",
   "metadata": {},
   "source": [
    "## Importing a module\n",
    "\n",
    "Loading a module is called importing, and there are many ways to import.  You can import a module"
   ]
  },
  {
   "cell_type": "code",
   "execution_count": null,
   "metadata": {},
   "outputs": [],
   "source": [
    "\"\"\"This is a module docstring, which is optional.  If used, it must the very first entry.  That means you can either  \n",
    "have a `from __future__ import foo` statement, or a docstring, but not both, since they both must be the first entry\"\"\"\n",
    "\n",
    "# builtin packages and modules\n",
    "# importing another module\n",
    "import os\n",
    "# import multiple modules from a package\n",
    "from datetime import datetime, timezone, timedelta\n",
    "\n",
    "\n",
    "# 3rd party packages\n",
    "# rename an import\n",
    "import duckdb as dd\n",
    "\n",
    "# Internal packages (locally in your directory tree)\n",
    "# Using package name\n",
    "from excursor.core.process import Run\n",
    "# Using relative imports (don't do this unless you can't run code from the base dir)\n",
    "from ....excursor.func import Functor"
   ]
  }
 ],
 "metadata": {
  "kernelspec": {
   "display_name": "venv",
   "language": "python",
   "name": "python3"
  },
  "language_info": {
   "codemirror_mode": {
    "name": "ipython",
    "version": 3
   },
   "file_extension": ".py",
   "mimetype": "text/x-python",
   "name": "python",
   "nbconvert_exporter": "python",
   "pygments_lexer": "ipython3",
   "version": "3.11.6"
  }
 },
 "nbformat": 4,
 "nbformat_minor": 2
}
