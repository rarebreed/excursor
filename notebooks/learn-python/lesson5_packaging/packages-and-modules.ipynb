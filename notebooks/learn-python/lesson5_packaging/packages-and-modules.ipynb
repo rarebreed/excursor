{
 "cells": [
  {
   "cell_type": "markdown",
   "metadata": {},
   "source": [
    "# Packages and modules\n",
    "\n",
    "All code in python ultimately lives in a module, and a module may or may not live in a package.  A plain script can also  \n",
    "be considered a module but at the top level (it is not nested inside a package).  In this lesson, we will learn:\n",
    "\n",
    "- What is a module good for?\n",
    "- Modularity and Code organization\n",
    "    - What a module is\n",
    "    - What a package is\n",
    "        - What`__init__` is for\n",
    "    - What is `__main__`?\n",
    "    - How to best lay out a project's code\n",
    "- How modules are searched for\n",
    "    - `sys.path` and site-packages\n",
    "    - What the PYTHONPATH is\n",
    "- How modules get loaded\n",
    "    - relative imports\n",
    "    - absolute imports\n",
    "    - importlib\n",
    "    - sys.modules\n",
    "    - shadowing builtin modules\n",
    "    - reloading a module with new changes"
   ]
  },
  {
   "cell_type": "markdown",
   "metadata": {},
   "source": [
    "## Code organization\n",
    "\n",
    "Like all programming languages, python has a way to group related and reuseable code together.  This relation might come  \n",
    "in many forms such as by services, model types, business units, or any other logical grouping you can think of.  At a  \n",
    "basic level, you can think of the hierarchy of code organization as:\n",
    "\n",
    "- package\n",
    "    - package\n",
    "    - modules\n",
    "        - classes\n",
    "        - functions\n",
    "        - variables (global)\n",
    "        - type aliases\n",
    "        - generics (until 3.12)\n",
    "        - executable code (executed when imported)\n",
    "\n",
    "So as you can see, a module can be a container for many things, and a package can contain subpackages. A single module  \n",
    "can have multiple classes or functions.  It is not like Java that requires a single class per file."
   ]
  },
  {
   "cell_type": "markdown",
   "metadata": {},
   "source": [
    "### Package vs Module vs Script\n",
    "\n",
    "Sadly, it can be confusing in python talking about packages, modules and scripts, because they all kind of have fuzzy   \n",
    "demarcation lines, and often they are used synonymously.  For example, the [Python Package Index](https://pypi.org/)  \n",
    "(PyPI) talks about python _packages_ and yet, what is there might be a single module.  There are however a few  \n",
    "distinctions generally:  \n",
    "\n",
    "- Packages are basically containers of modules and are defined as a directory\n",
    "    - The `__init__.py` file in the package directory root declares the directory as a _package_\n",
    "        - As an exception, you can omit the `__init__`, but it does have other uses (eg `__all__` or executable code)\n",
    "        - Namespace packages can omit `__init__`, because you can spread the package across multiple directories\n",
    "            - This is useful for example, to define _plugins_\n",
    "        - When a module in a _package_ is imported, it will execute any code in the `__init__` file (if any)\n",
    "            - It will execute this only once even if multiple modules are imported\n",
    "            - Similarly, if you `import` a module twice, it will not run executable code again (unless `reload` is used)\n",
    "- Modules and packages can both contain executable code\n",
    "    - Module executable code _should_ be relegated to initialization code only unless designed as an executable module\n",
    "    - Packages can also execute code from the `__init__.py` file\n",
    "        - The code in `__init__.py` is invoked, even if you import only a single submodule\n",
    "- Scripts can be imported\n",
    "    - A module is just a python file and can be loaded by the `import` statement"
   ]
  },
  {
   "cell_type": "markdown",
   "metadata": {},
   "source": [
    "## What uses modules?\n",
    "\n",
    "Before we talk about how to import a module to load the code, we need to ask ourselves, \"who does the importing?\".\n",
    "\n",
    "- Modules can import other modules\n",
    "- A script (the main entrypoint)\n",
    "\n",
    "### `__main__`\n",
    "\n",
    "As mentioned above, modules and scripts can have a blurry line.  Typically though, modules are meant as libraries, to be  \n",
    "used by other code, and any executable code is just meant for initialization.  On the other hand, there is a convention  \n",
    "to be able to have executable code that is only run when the name of the module  \n",
    "is `__main__`\n",
    "\n",
    "> If you have created virtual environments with `python -m venv dir` then you executed the module `venv`.  Typically  \n",
    "the name of a module is it's file name, and is included in the field `__name__`.  However, if you run python with the  \n",
    "`-m` option you can pass in the package.module path and the module name will then be `__main__`\n"
   ]
  },
  {
   "cell_type": "code",
   "execution_count": null,
   "metadata": {},
   "outputs": [],
   "source": [
    "print(__name__)\n",
    "\n",
    "if __name__ == \"__main__\":\n",
    "    print(\"you should see this print\")"
   ]
  },
  {
   "cell_type": "markdown",
   "metadata": {},
   "source": [
    "## How to organize your code\n",
    "\n",
    "Because packages are really just a directory structure, it's a good idea to structure your code in an intuitive way.\n",
    "\n",
    "First, the name of your project (what's uploaded to PyPI) should be the main package structure.  This is really the only\n",
    "hard fundamental rule.  From there, you can create other directories (subpackages) to group related modules together.\n",
    "\n",
    "Other common top-level directories include:\n",
    "\n",
    "| Folder         | .gitignore? | Purpose                                                                 |\n",
    "|----------------|-------------|-------------------------------------------------------------------------|\n",
    "| dist           | yes         | To hold the `whl` and `sdist` files generated by poetry or distutils\n",
    "| docker         | no          | Dockerfiles and scripts used in Dockerfiles\n",
    "| notebooks      | no          | Holds jupyter notebooks\n",
    "| tests          | no          | Hold test code\n",
    "| .venv          | yes         | the virtualenv folder used to isolate site-packages\n",
    "| .gitignore     | no          | your .gitignore\n",
    "| poetry.lock    | maybe       | the actual version dependencies used in your project\n",
    "| pyproject.toml | no          | PEP compliant file used by other tooling (pip, autopep, poetry, etc)\n",
    "| README.md      | no          | Project description  \n",
    "| {package}      | no          | The name of your package, usually the same name as the top-level folder\n",
    "\n",
    "Inside the actual package, sometimes it is useful to distinguish between executable scripts, and regular libraries.  \n",
    "So it is also common to see this layout:\n",
    "\n",
    "- {package}\n",
    "    - scripts: for executable \"apps\"\n",
    "    - config: for configuration files\n",
    "    - resources: things like default data files, images, etc\n",
    "\n",
    "\n",
    "> Note that it is relatively common to have both a subfolder with the same name as the top level folder.  For example,  \n",
    "in the excursor project, when you clone it, the project is named `excursor`, but inside that folder, is another folder  \n",
    "named excursor.  The reason why will be explained in a bit"
   ]
  },
  {
   "cell_type": "markdown",
   "metadata": {},
   "source": [
    "## Importing a module\n",
    "\n",
    "Loading a module is called importing, and there are many ways to import.  You can import a module"
   ]
  },
  {
   "cell_type": "code",
   "execution_count": null,
   "metadata": {},
   "outputs": [],
   "source": [
    "\"\"\"This is a module docstring, which is optional.  If used, it must the very first entry.  That means you can either  \n",
    "have a `from __future__ import foo` statement, or a docstring, but not both, since they both must be the first entry\"\"\"\n",
    "\n",
    "# builtin packages and modules\n",
    "# importing another module\n",
    "import os\n",
    "# import multiple modules from a package\n",
    "from datetime import datetime, timezone, timedelta\n",
    "\n",
    "\n",
    "# 3rd party packages\n",
    "# rename an import\n",
    "import duckdb as dd\n",
    "\n",
    "# Internal packages (locally in your directory tree)\n",
    "# Using package name\n",
    "from excursor.core.process import Run\n",
    "# Using relative imports (don't do this unless you can't run code from the base dir)\n",
    "#from ....excursor.func import Functor"
   ]
  },
  {
   "cell_type": "markdown",
   "metadata": {},
   "source": [
    "## Defining the path to modules\n",
    "\n",
    "Generally speaking, when we are coding in python, we think of modules as coming from one of three places:\n",
    "\n",
    "1. A builtin module like `datetime` or `os`\n",
    "2. Our own project's modules\n",
    "3. 3rd party dependencies that were installed by `pip` or `conda`\n",
    "\n",
    "Fundamentally however, all three look to the same paths; `sys.path`"
   ]
  },
  {
   "cell_type": "code",
   "execution_count": null,
   "metadata": {},
   "outputs": [],
   "source": [
    "import sys\n",
    "from pprint import pprint\n",
    "\n",
    "pprint(sys.path)"
   ]
  },
  {
   "cell_type": "code",
   "execution_count": null,
   "metadata": {},
   "outputs": [],
   "source": [
    "# Now we can look at loaded modules\n",
    "pprint(sys.modules, indent=2)"
   ]
  },
  {
   "cell_type": "markdown",
   "metadata": {},
   "source": [
    "## Package Management\n",
    "\n",
    "There are 2 big guns in the python world when it comes to packaging: pip and [conda](https://www.anaconda.com/).  I  \n",
    "haven't used conda, mostly because it's not truly free even though it's become extremely popular in the data science  \n",
    "world.  I'm going to only go over pypi, which is the repository of python packages that pip downloads from.\n",
    "\n",
    "I'm actually going to go over poetry rather than pip because it has a better dependency resolver than pip.  If you need  \n",
    "to use pip for your service, you can also look at [pipenv](https://pipenv.pypa.io/en/latest/) instead.\n",
    "\n",
    "Package management and creating python `whl` and `sdist` tarballs used to be an extremely complicated process involving  \n",
    "some rather arcane knowledge about setuptools, distutils, and other disparate topics.  To keep things short, I am only\n",
    "going to cover the basics of poetry:\n",
    "\n",
    "- Creating a virtualenv\n",
    "- Installing poetry\n",
    "- Creating a new poetry project\n",
    "- Adding a dependency\n",
    "- The poetry.lock file\n",
    "- Development dependencies\n",
    "- Private repos"
   ]
  },
  {
   "cell_type": "markdown",
   "metadata": {},
   "source": []
  }
 ],
 "metadata": {
  "kernelspec": {
   "display_name": "venv",
   "language": "python",
   "name": "python3"
  },
  "language_info": {
   "codemirror_mode": {
    "name": "ipython",
    "version": 3
   },
   "file_extension": ".py",
   "mimetype": "text/x-python",
   "name": "python",
   "nbconvert_exporter": "python",
   "pygments_lexer": "ipython3",
   "version": "3.11.6"
  }
 },
 "nbformat": 4,
 "nbformat_minor": 2
}
