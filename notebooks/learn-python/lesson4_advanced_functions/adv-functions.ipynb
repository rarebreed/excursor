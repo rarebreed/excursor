{
 "cells": [
  {
   "cell_type": "markdown",
   "metadata": {},
   "source": [
    "# Advanced functions in python\n",
    "\n",
    "In this lesson, we will dive even farther into the basic building blocks of functions and cover advanced forms of\n",
    "functions including:\n",
    "\n",
    "- The type annotation of a function\n",
    "    - Callable and Protocol\n",
    "- functions as parameters\n",
    "- functions as return types\n",
    "- nested functions\n",
    "    - closures\n",
    "    - what is cptured or \"closed over\"\n",
    "- decorators\n",
    "    - the Paramspec type\n",
    "- overloads"
   ]
  },
  {
   "cell_type": "markdown",
   "metadata": {},
   "source": [
    "## Python @overload\n",
    "\n",
    "A relatively new feature of python is the @overload decorator.  This is somewhat similar to how Java's or Mojo's \n",
    "function overloading works.  It's a little bit more painful, but does offer a useful feature.  It's most useful when\n",
    "you have arguments that can be of multiple types and multiple return types, where the type of the return value is\n",
    "dependent on the type of the argument(s).\n",
    "\n",
    "### A brief note on Union types\n",
    "\n",
    "Python's type system has the notion of a `Union` which means a type may either be one type or another.  Before 2.10,\n",
    "you wrote Unions like this in 2.10+:\n",
    "\n",
    "```python\n",
    "def add_to_date(time: str | datetime, delta: timedelta) -> datetime:\n",
    "    ...\n",
    "```\n",
    "\n",
    "Or this before 2.10\n",
    "\n",
    "```python\n",
    "from typing import Union\n",
    "\n",
    "def add_to_date(time: Union[str, datetime], delta: timedelta) -> datetime:\n",
    "    ...\n",
    "```\n",
    "\n",
    "The `time` argument can take _either_ a `str` or a `datetime`."
   ]
  },
  {
   "cell_type": "code",
   "execution_count": null,
   "metadata": {},
   "outputs": [],
   "source": [
    "import os\n",
    "from pathlib import Path\n",
    "\n",
    "# First, create the function that takes everything\n",
    "def writer(content: str | bytes, output: str | Path | None = None):\n",
    "    \"\"\"Writes content to output path\n",
    "\n",
    "    Parameters\n",
    "    ----------\n",
    "    content : str | bytes\n",
    "        the data to write to file\n",
    "    output : str | Path | None\n",
    "        path of file to write to (if none, current directory)\n",
    "    \"\"\"\n",
    "    # We defaulted to None, so we check for it\n",
    "    if output is None:\n",
    "        output = Path(os.getcwd()) / \"testdata\"\n",
    "    \n",
    "    # Example of pattern matching\n",
    "    match content:\n",
    "        case bytes() as _:    # if content is a bytes type\n",
    "            mode = \"wb\"  # for binary add a 'b'\n",
    "        case _:\n",
    "            mode = \"w+\"\n",
    "    with open(output, mode) as f: \n",
    "        f.write(content)\n",
    "\n",
    "# Then, write an overloaded method for each possible overloaded argument\n",
    "\n",
    "\n",
    "writer(\"just a test\")  # No argument passed to `output` parameter\n",
    "# Check your directory\n",
    "\n",
    "test_path = Path(\"testdata2\")\n",
    "writer(\"another test\", output=test_path)\n",
    "bin_path = \"binary_data\"\n",
    "writer(b'01234', bin_path)\n"
   ]
  },
  {
   "cell_type": "code",
   "execution_count": null,
   "metadata": {},
   "outputs": [],
   "source": [
    "# delete data files\n",
    "test_path.unlink()\n",
    "Path(\"testdata\").unlink()\n",
    "Path(\"binary_data\").unlink()"
   ]
  }
 ],
 "metadata": {
  "kernelspec": {
   "display_name": ".venv",
   "language": "python",
   "name": "python3"
  },
  "language_info": {
   "name": "python",
   "version": "3.11.6"
  }
 },
 "nbformat": 4,
 "nbformat_minor": 2
}
