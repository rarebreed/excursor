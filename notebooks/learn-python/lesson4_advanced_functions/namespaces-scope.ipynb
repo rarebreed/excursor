{
 "cells": [
  {
   "cell_type": "markdown",
   "metadata": {},
   "source": [
    "# Scopes\n",
    "\n",
    "Scopes can be a difficult topic.  For one, it requires understanding some details with how python deals with memory.  \n",
    "For another, it is a bit different from scoping in other languages.  \n",
    "\n",
    "The reason why learning about scopes and namespaces can also seem academic, because typically, you only need to think\n",
    "about it when:\n",
    "\n",
    "- You are working with closures\n",
    "- You are dealing with a subtle bugs"
   ]
  },
  {
   "cell_type": "markdown",
   "metadata": {},
   "source": [
    "## Python scopes\n",
    "\n",
    "Python, unlike most modern languages is not lexically scoped.\n",
    "\n",
    "> What does `lexically scoped` mean?  Lexical means essentially, words, but it has to do with \"boundaries\" of your code.  \n",
    "> In many languages with curly braces, the braces define a scope.  Variables or other symbols introduced in that scope  \n",
    "> (eg the curly braces) only last inside the brace section.\n",
    "\n",
    "Python is not like that:\n",
    "\n",
    "- Indentation does **not** create a new scope in python\n",
    "- a scope contains a namespace, which _binds_ a `symbol` to a value \n",
    "    - scopes -> namespaces -> symbols -> values"
   ]
  },
  {
   "cell_type": "markdown",
   "metadata": {},
   "source": [
    "## Namespaces and symbols\n",
    "\n",
    "Many people who program tend to forget or never truly learn what a `symbol` in a language is.  For example consider this\n",
    "one-liner:\n",
    "\n",
    "```python\n",
    "path = \"/tmp/some-data\"\n",
    "```\n",
    "\n",
    "As programmers, we think in our heads:\n",
    "\n",
    "```\n",
    "path is a variable that has the value '/tmp/some-data'`\n",
    "```"
   ]
  },
  {
   "cell_type": "markdown",
   "metadata": {},
   "source": [
    "But that's wrong in several ways.  More precisely:\n",
    "\n",
    "- `path` is a symbol...\n",
    "- in the global scope...\n",
    "- where `path` is a key into a table (a namespace) inside this scope...\n",
    "- and the value of the symbol is a reference to an object.  \n",
    "- The object that symbol points to:\n",
    "    - has a memory location \n",
    "    - and a type.  \n",
    "- The type of the object determines how we get the actual value it refers to\n",
    "\n",
    "The next cell shows several variables which live in different scopes"
   ]
  },
  {
   "cell_type": "code",
   "execution_count": null,
   "metadata": {},
   "outputs": [],
   "source": [
    "lookup_val = 10  # Global scoped.  Global is actually module-scoped (only builtins are truly global)\n",
    "\n",
    "def lookup():\n",
    "    lookup_val = 100\n",
    "    example = \"enclosed variable\"\n",
    "    print(f\"lookup() locals: {locals()}\")\n",
    "    #pprint(globals())\n",
    "    def inner():\n",
    "        example = \"local variable\"\n",
    "        print(f\"in inner(): lookup_val = {lookup_val}\")\n",
    "        #print(f\"inner() locals: {locals()}\")\n",
    "        #print(f\"inner() globals: {pformat(globals())}\")\n",
    "    print(f\"In lookup: lookup_val = {lookup_val}\")\n",
    "    return inner\n",
    "\n",
    "inn = lookup()\n",
    "inn()  # which lookup_val is inner going to use?\n",
    "print(f\"In global scope: lookup_val is {lookup_val}\") # it's still 10"
   ]
  },
  {
   "cell_type": "markdown",
   "metadata": {},
   "source": [
    "## Python scope lookup\n",
    "\n",
    "The code cell above introduces the 4 different kinds of scope. The order of lookup is:\n",
    "\n",
    "- local: from a function, method or class\n",
    "- enclosing: outer function, method or class wrapping a local scope\n",
    "- global: also known as module scope\n",
    "- builtin: the variables defined in the interpreter that need no import (eg, list, dict, locals)\n",
    "\n",
    "So from the code cell above:\n",
    "\n",
    "```\n",
    "+-----------------------------------+\n",
    "| builtins                          |\n",
    "| - locals()                        |\n",
    "| +-------------------------------+ |\n",
    "| | globals                       | |\n",
    "| | - lookup_val                  | |\n",
    "| | +---------------------------+ | |\n",
    "| | | enclosing                 | | |\n",
    "| | | - example                 | | |\n",
    "| | | +----------------------+  | | |\n",
    "| | | | locals(inner)        |  | | |\n",
    "| | | | - example            |  | | |               \n",
    "| | | +----------------------+  | | |\n",
    "| | +---------------------------+ | |\n",
    "| +-------------------------------+ |\n",
    "+-----------------------------------+\n",
    "```\n",
    "\n",
    "You might wonder what is the difference between local and enclosing?"
   ]
  },
  {
   "cell_type": "markdown",
   "metadata": {},
   "source": [
    "## Mutabilty and references\n",
    "\n",
    "Understanding mutability is important when trying to figure out how it plays with scoping rules. One of the more  \n",
    "important takeaway lessons is that:\n",
    "\n",
    "- **everything** in python is a reference (even an int or float is a reference not _just_ data)\n",
    "- in python, you **always** pass by reference\n",
    "    - However, some references are immutable\n",
    "\n",
    "> Thanks to garbage collected languages, many software engineers who didn't grow up with C(++) or learned a newer system  \n",
    "> programming language like rust no longer know what _pass by reference_ or _pass by copy/value_ means.  This will be a  \n",
    "> a huge presentation I will give in the future, but know for now that _pass by reference_ means you are directly  \n",
    "> operating on an object, and not a copy of an object\n",
    "\n",
    "In the code above, `lookup_val` is an int, and in python, `int` types are one of the few immutable types.  So, even  \n",
    "though you can pass an int like `lookup_val` to a function, python will not change the value it has _in memory_"
   ]
  },
  {
   "cell_type": "code",
   "execution_count": null,
   "metadata": {},
   "outputs": [],
   "source": [
    "# This won't do what you think.  It does **not** change whatever `age` is even though we pass by reference.  This is\n",
    "# because an int type is an immutable reference.  If you have a C/C++ background, it would be a pointer to a const.\n",
    "# You can change where the pointer points to, but you can't change the value at the address of the pointer\n",
    "def wont_change_arg(age: int):\n",
    "    print(f\"id of age is {hex(id(age))}\")\n",
    "    age = 100\n",
    "    print(f\"id of age is now {hex(id(age))}\")\n",
    "\n",
    "current_age = 20\n",
    "wont_change_arg(current_age)\n",
    "print(current_age)"
   ]
  },
  {
   "cell_type": "markdown",
   "metadata": {},
   "source": [
    "### Captured (outer scope) mutable references\n",
    "\n",
    "So what happens to _mutable_ references (which are most things in python)?"
   ]
  },
  {
   "cell_type": "code",
   "execution_count": null,
   "metadata": {},
   "outputs": [],
   "source": [
    "# Now let's declare a mutable reference\n",
    "a_list = [1, 2]\n",
    "print(f\"id of a_list is {hex(id(a_list))}\")\n",
    "\n",
    "# Because a_list is a mutable reference and it's in the global (top-level) scope, the call here will mutate a_list\n",
    "def captured_a_list(val: int):\n",
    "    a_list.append(val)\n",
    "    # print(locals())\n",
    "\n",
    "captured_a_list(10)  # what do you think a_list is now?"
   ]
  },
  {
   "cell_type": "markdown",
   "metadata": {},
   "source": [
    "## Common mistake\n",
    "\n",
    "90% of the time, python does what you think it should.  But it does get messy when you try to change captured variables  \n",
    "from a different scope.\n",
    "\n",
    "Some examples follow..."
   ]
  },
  {
   "cell_type": "code",
   "execution_count": null,
   "metadata": {},
   "outputs": [],
   "source": [
    "# Since we called captured_a_list(10), a_list should be [1, 2, 10] now\n",
    "print(a_list)\n",
    "\n",
    "# Mistake: you think you are resetting a_list to [], because you pass in a_list to the arg `some_list`\n",
    "def replacer(some_list: list[int]):\n",
    "    print(f\"id of some_list before assignment = {hex(id(some_list))}\")\n",
    "    some_list = []\n",
    "    print(f\"id of some_list after assignment is now = {hex(id(some_list))}\")\n",
    "    print(f\"but id of a_list is still = {hex(id(a_list))}\")\n",
    "\n",
    "print(f\"id of a_list is {hex(id(a_list))}\")\n",
    "replacer(a_list) # this is like lookup(), it creates a new binding, leaving the original alone\n",
    "print(a_list)"
   ]
  },
  {
   "cell_type": "markdown",
   "metadata": {},
   "source": [
    "### Wait...what happened?\n",
    "\n",
    "So can anyone explain what happened?\n",
    "\n",
    "Bueller?\n",
    "\n",
    "Bueller?\n",
    "\n",
    "> If you understood what happened there, great!  If not, it's too deep of a topic to talk about for now.  Wait for the  \n",
    "presentation on a deep dive on how memory in computers works!  This will be a standalone talk since it will not be  \n",
    "exclusive to python, and will benefit anyone."
   ]
  },
  {
   "cell_type": "markdown",
   "metadata": {},
   "source": [
    "## The global and nonlocal keywords\n",
    "\n",
    "Though rarely used, sometimes it is necessary to mark a variable in a non top-level scope (ie, declared inside of a   \n",
    "function, method, or class) as being either `global` or `nonlocal`.\n",
    "\n",
    "Let's look at an example:"
   ]
  },
  {
   "cell_type": "code",
   "execution_count": null,
   "metadata": {},
   "outputs": [],
   "source": [
    "def globalizer():\n",
    "    global foo\n",
    "    foo = \"testing\"\n",
    "\n",
    "globalizer()\n",
    "# Where did `foo` come from?  It got inserted into the global namespace through the `global` keyword\n",
    "print(f\"foo = {foo}\")\n",
    "\n",
    "def change_foo():\n",
    "    foo = \"hello\"  # What do you think this will print?"
   ]
  },
  {
   "cell_type": "markdown",
   "metadata": {},
   "source": [
    "### What will change_foo print?\n",
    "\n",
    "So what if we want to change the global?"
   ]
  },
  {
   "cell_type": "code",
   "execution_count": null,
   "metadata": {},
   "outputs": [],
   "source": [
    "change_foo()\n",
    "print(f\"foo did not change and is still = {foo}\")\n",
    "\n",
    "# So how DO you change it then?"
   ]
  },
  {
   "cell_type": "markdown",
   "metadata": {},
   "source": [
    "### How to \"change\" an immutable global\n",
    "\n",
    "As we can see, we tried to reassign the `global` variable foo inside of `change_foo` function, but it didn't work.  Is\n",
    "there a way to make it work?\n",
    "\n",
    "There is, but you have to add the `global` keyword to the function that will mutate the global variable."
   ]
  },
  {
   "cell_type": "code",
   "execution_count": null,
   "metadata": {},
   "outputs": [],
   "source": [
    "name = \"sean\"  # A global (aka module scoped) variable since it is not inside a function or class\n",
    "name_copy = name\n",
    "print(f\"id of name = {hex(id(name))}, id of name_copy = {hex(id(name_copy))}\")\n",
    "\n",
    "# name -----------------> 0x7fea364774b0\n",
    "# name_copy ---------/\n",
    "\n",
    "def rename(to: str):\n",
    "    global name\n",
    "    name = to\n",
    "    print(f\"id of name is now {hex(id(name))}\")\n",
    "\n",
    "# to --------------------> 0x7fea364578f0\n",
    "# name ---------------/\n",
    "# name_copy -------------> 0x7fea364774b0\n",
    "\n",
    "print(f\"Before call to rename, name = {name}\")\n",
    "new_name = \"john\"\n",
    "print(f\"id of new_name = {hex(id(new_name))}\")\n",
    "rename(\"john\") # because we use global, we reassign it\n",
    "print(f\"after call to rename, name is now = {name}\")\n",
    "print(f\"name_copy is {name_copy} and its id is {hex(id(name_copy))}\")"
   ]
  },
  {
   "cell_type": "markdown",
   "metadata": {},
   "source": [
    "## Extra Credit\n",
    "\n",
    "I won't go over these, because I will need to talk more about memory.  So how _would_ you zero out a global mutable  \n",
    "(or mutable) variable?\n",
    "\n",
    "One way to think about `global` or `nonlocal`, if you have a background in C, C++ or rust, is to think of it like a\n",
    "address operator.  You are telling python, \"I don't want the value the object is pointing to, I want the memory it's\n",
    "pointing to\".\n",
    "\n",
    "But feel free to play around with these examples and step through the code to see if you can understand what is going\n",
    "on."
   ]
  },
  {
   "cell_type": "code",
   "execution_count": null,
   "metadata": {},
   "outputs": [],
   "source": [
    "# What would happen here?  Let's redefine\n",
    "a_list = [1, 2]\n",
    "print(f\"id of a_list = {hex(id(a_list))}\")\n",
    "print(\"====================\")\n",
    "\n",
    "def replacer_1(some_list: list[int]):\n",
    "    print(f\"id of some_list before assignment = {hex(id(some_list))}\")\n",
    "    global a_list\n",
    "    some_list = a_list\n",
    "    some_list = []\n",
    "    print(f\"id of some_list after assignment is now = {hex(id(some_list))}\")\n",
    "    # What do you think?  is a_list = [] now?\n",
    "    print(f\"but id of a_list is now = {hex(id(a_list))}\")\n",
    "\n",
    "beginning_val = list()\n",
    "print(f\"id of beginning_val = {hex(id(beginning_val))}\")\n",
    "replacer_1(beginning_val)\n",
    "print(beginning_val, a_list)\n",
    "\n",
    "def replacer_2(arr: list[int]):\n",
    "    print(f\"id of arr before assignment = {hex(id(arr))}\")\n",
    "    global a_list\n",
    "    a_list = arr\n",
    "    print(f\"id of arr after assignment is now = {hex(id(arr))}\")\n",
    "    print(f\"but id of a_list is now = {hex(id(a_list))}\")\n",
    "\n",
    "print(\"====================\")\n",
    "\n",
    "beginning_val = list()\n",
    "print(f\"id of beginning_val = {hex(id(beginning_val))}\")\n",
    "replacer_2(beginning_val)\n",
    "print(beginning_val, a_list)\n",
    "\n",
    "print(\"====================\")\n",
    "print(f\"id of a_list is now {hex(id(a_list))}\")\n",
    "a_list"
   ]
  },
  {
   "cell_type": "markdown",
   "metadata": {},
   "source": [
    "## Another example of a Mutable variable\n",
    "\n",
    "Most python types are mutable, to the point that most documentation will only specify when a type is **not** mutable.  \n",
    "Major examples are `str`, `int`, `float` and `tuple` and anything inheriting from those classes."
   ]
  },
  {
   "cell_type": "code",
   "execution_count": null,
   "metadata": {},
   "outputs": [],
   "source": [
    "from datetime import datetime\n",
    "\n",
    "\n",
    "build_to_date = {}\n",
    "\n",
    "def add_to_map(key: int):\n",
    "    build_to_date[key] = datetime.now()\n",
    "    return build_to_date"
   ]
  },
  {
   "cell_type": "code",
   "execution_count": null,
   "metadata": {},
   "outputs": [],
   "source": [
    "import time\n",
    "\n",
    "\n",
    "for i in range(3):\n",
    "    print(add_to_map(i))\n",
    "    time.sleep(1)"
   ]
  },
  {
   "cell_type": "markdown",
   "metadata": {},
   "source": [
    "## More scoping gotchas\n",
    "\n",
    "This is a common source of confusion for new pythonistas\n",
    "score = 50 # try setting this to 50"
   ]
  },
  {
   "cell_type": "code",
   "execution_count": null,
   "metadata": {},
   "outputs": [],
   "source": [
    "def grader(check: int):\n",
    "    # dont have to create a \"default\" grade here,  grade is scoped to the entire function\n",
    "    # however, try changing score to 50, and commenting out the marked lines\n",
    "    if check > 90:\n",
    "        grade = \"A\"\n",
    "    elif check > 80:\n",
    "        grade = \"B\"\n",
    "    elif check > 70:\n",
    "        grade = \"C\"\n",
    "    elif check > 60:\n",
    "        grade = \"D\"\n",
    "    #else:              # try commenting this out\n",
    "    #    grade = \"F\"    # and this\n",
    "    return grade\n",
    "\n",
    "\n",
    "grader(score)"
   ]
  },
  {
   "cell_type": "markdown",
   "metadata": {},
   "source": [
    "## Higher order functions\n",
    "\n",
    "Part of the reason that namespaces and scopes were covered, is to help better understand how higher order functions  \n",
    "work.  In python, functions are:\n",
    "\n",
    "- first class citizens (unlike Java or C/C++) \n",
    "- can be used as arguments to functions or returned from functions\n",
    "- capture their namespace, namely, their local and enclosing scoped namespaces\n",
    "    - In a sense, you can think of functions as mini-objects that contain state.\n",
    "\n",
    "We will next cover:\n",
    "\n",
    "- nested functions\n",
    "- functions as return values\n",
    "- functions as arguments"
   ]
  },
  {
   "cell_type": "markdown",
   "metadata": {},
   "source": [
    "### The type of a function\n",
    "\n",
    "Functions, like everything else in python is an object.  However, from the perspective of type theory and to appease  \n",
    "a type checker, functions have a type.  There are two ways to type out a function:\n",
    "\n",
    "- Through the `typing.Callable`\n",
    "- Through a Protocol\n",
    "\n",
    "Protocols are an advanced subject and actually deal with subtyping.  They can cover more possibilities but are too  \n",
    "complex to talk about now.  The `Callable` type looks like this:\n",
    "\n",
    "```\n",
    "Callable[[arg_type1, arg_type2, ...], return_type]\n",
    "```"
   ]
  },
  {
   "cell_type": "markdown",
   "metadata": {},
   "source": [
    "### Function as a return value\n",
    "\n",
    "It is fairly common to see functions that return functions.  One common reason to do this is as a `closure` which is  \n",
    "basically a function, that has access to the `enclosing` scope variables."
   ]
  },
  {
   "cell_type": "code",
   "execution_count": null,
   "metadata": {},
   "outputs": [],
   "source": [
    "import functools as ft\n",
    "from random import randint\n",
    "from typing import Callable, Generator\n",
    "\n",
    "# Example of a function that returns a function\n",
    "# Question: what scope is `num` in? (hint: from whose perspective?)\n",
    "def die_pool(num: int) -> Callable[[int], Generator[int, None, None]]:\n",
    "    if num < 1:\n",
    "        raise Exception(\"num must be greater than 0\")\n",
    "    def inner(size: int):\n",
    "        if size < 2:\n",
    "            raise Exception(\"size must be >= 2\")\n",
    "        if size > 1000:\n",
    "            raise Exception(\"Only up to d1000 is possible\")\n",
    "        # Returns a generator, which I will cover when we go over the Iterator protocol.  Think of it as a lazy list\n",
    "        return (randint(1, size) for _ in range(num))\n",
    "    return inner"
   ]
  },
  {
   "cell_type": "markdown",
   "metadata": {},
   "source": [
    "### Nested functions\n",
    "\n",
    "It is also quite common to use nested functions.  This is one way to help make a function \"private\" though even this  \n",
    "technically isn't private (python _really_ doesn't like private).  Nested functions often occur when some other function  \n",
    "needs a function as an argument.\n",
    "\n",
    "Python has a `lambda`, but a lambda must fit on a single line.  For example:\n",
    "\n",
    "```python\n",
    "strip = lambda s: s.replace(\" \", \"-\")\n",
    "strip(\"this has some spaces\")\n",
    "```"
   ]
  },
  {
   "cell_type": "code",
   "execution_count": null,
   "metadata": {},
   "outputs": [],
   "source": [
    "# Example of a nested function\n",
    "def die_roll_v1(\n",
    "    num: int, \n",
    "    size: int, \n",
    "    target: int\n",
    "):\n",
    "    \"\"\"Rolls num of size dice.  Returns a 2 element tuple of rolls < target, and >= target\n",
    "\n",
    "    Parameters\n",
    "    ----------\n",
    "    num : int\n",
    "        number of dice to roll\n",
    "    size : int\n",
    "        size of the die\n",
    "    target : int\n",
    "        A number from 1 - size\n",
    "    \"\"\"\n",
    "    if target < 1 or target > size:\n",
    "        raise Exception(\"target must be: 1 <= target <= size\")\n",
    "\n",
    "    # Example of a nested function.  This is one way of making something \"private\" in python.  Technically, you can \n",
    "    # still access \n",
    "    def filter(acc: tuple[list[int], list[int]], next: int):\n",
    "        if next >= target:\n",
    "            acc[1].append(next)\n",
    "        else:\n",
    "            acc[0].append(next)\n",
    "        return acc\n",
    "    \n",
    "    roll = die_pool(num)(size)\n",
    "    result = ft.reduce(filter, roll, ([], []))\n",
    "    return sorted(result[0]), sorted(result[1])"
   ]
  },
  {
   "cell_type": "code",
   "execution_count": null,
   "metadata": {},
   "outputs": [],
   "source": [
    "failed, succeeded = die_roll_v1(6, 20, 12)\n",
    "print(failed, succeeded)"
   ]
  },
  {
   "cell_type": "markdown",
   "metadata": {},
   "source": [
    "### Function as an argument\n",
    "\n",
    "Lastly, functions can be an argument to another function.  This is useful when you want to be able to dynamically change  \n",
    "the behavior of a function, by passing in another function to do some work."
   ]
  },
  {
   "cell_type": "code",
   "execution_count": null,
   "metadata": {},
   "outputs": [],
   "source": [
    "# This is an example of a function as a parameter.  Here, we are passing in `roll`, which is a function that takes no\n",
    "# arguments, and returns a Generator.  I will go more in depth in Generators when we cover the Iterator protocol.  For\n",
    "# now, think of it as a lazy list that yields one element at a time\n",
    "def die_roll_v2(\n",
    "    pool: Callable[[], Generator[int, None, None]], \n",
    "    target: int\n",
    "):\n",
    "    \"\"\"Takes a roll of dice (list of int) and finds all values >= to target.  If exploding is not None, if any value\n",
    "    is >= to exploding, roll another die (recursively)\n",
    "\n",
    "    []\n",
    "\n",
    "    Parameters\n",
    "    ----------\n",
    "    roll : list[int]\n",
    "        _description_\n",
    "    target : int\n",
    "        _description_\n",
    "    \"\"\"\n",
    "\n",
    "    def filter(acc: tuple[list[int], list[int]], next: int):\n",
    "        if next >= target:\n",
    "            acc[1].append(next)\n",
    "        else:\n",
    "            acc[0].append(next)\n",
    "        return acc\n",
    "    \n",
    "    roll = pool()\n",
    "    result = ft.reduce(filter, roll, ([], []))\n",
    "    return sorted(result[0]), sorted(result[1])"
   ]
  },
  {
   "cell_type": "code",
   "execution_count": null,
   "metadata": {},
   "outputs": [],
   "source": [
    "p5d20 = lambda: die_pool(5)(20)\n",
    "p7d20 = lambda: die_pool(7)(20)\n",
    "failed, successes = die_roll_v2(p7d20, 12)\n",
    "print(failed, successes)"
   ]
  },
  {
   "cell_type": "markdown",
   "metadata": {},
   "source": [
    "## Combining scopes and HOF\n",
    "\n",
    "A common use case of returning a function, is that it can capture the state of the `enclosing` scope (this is why the  \n",
    "`nonlocal` scope is also called the `enclosing` scope).  A closure, is a function that has captured or \"closed over\"  \n",
    "an outer scope and has access to it every time the closure is invoked.\n",
    "\n",
    "Here's an example:"
   ]
  },
  {
   "cell_type": "code",
   "execution_count": null,
   "metadata": {},
   "outputs": [],
   "source": [
    "# Example of a stateful closure.  And this is one reason I spent all that time going over scopes and namespaces\n",
    "\n",
    "def find(match: str):\n",
    "    count = 0  # Remember, this is immutable, so recall how we can \"change\" it\n",
    "\n",
    "    def search(text: str):\n",
    "        nonlocal count  # Try commenting this out\n",
    "        if match in text:\n",
    "            count += 1\n",
    "        return count\n",
    "\n",
    "    return search\n",
    "\n",
    "matcher = find(\"sean\")\n",
    "text = [\n",
    "    \"Hi sean how are you?\",\n",
    "    \"Did sean do his work today?\",\n",
    "    \"Why not?\",\n",
    "    \"Excuses excuses\",\n",
    "    \"Get cracking sean!\"\n",
    "]\n",
    "for line in text:\n",
    "    count = matcher(line)\n",
    "    print(f\"found {count} matches so far\")\n"
   ]
  }
 ],
 "metadata": {
  "kernelspec": {
   "display_name": ".venv",
   "language": "python",
   "name": "python3"
  },
  "language_info": {
   "codemirror_mode": {
    "name": "ipython",
    "version": 3
   },
   "file_extension": ".py",
   "mimetype": "text/x-python",
   "name": "python",
   "nbconvert_exporter": "python",
   "pygments_lexer": "ipython3",
   "version": "3.12.0"
  }
 },
 "nbformat": 4,
 "nbformat_minor": 2
}
