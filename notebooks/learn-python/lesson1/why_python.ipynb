{
 "cells": [
  {
   "cell_type": "markdown",
   "metadata": {},
   "source": [
    "# Why python?\n",
    "\n",
    "Python is one of the most in-demand languages in the market now as shown by Stack Overflow surveys.  This in turn is driven to a large degree by the rise of Big Data and Machine Learning.  \n",
    "\n",
    "- The basics are easy to learn\n",
    "- Python is king of data analytics on local machines, and is starting to challenge Java in Big Data\n",
    "- \n"
   ]
  },
  {
   "cell_type": "markdown",
   "metadata": {},
   "source": [
    "## The basics are simple\n",
    "\n",
    "Python is relatively simple and thus can be adopted quickly.  This is a big disadvantage over rust, which has a reputation for being hard to learn.  Being simple makes python great for prototyping code.  Speed of development is much faster than most languages which is ideal for ad-hoc/exploratory testing and experiments"
   ]
  },
  {
   "cell_type": "code",
   "execution_count": null,
   "metadata": {},
   "outputs": [],
   "source": [
    "# Simple function, class and dataclass\n",
    "\n",
    "from dataclasses import dataclass\n",
    "from datetime import datetime, timezone\n",
    "from uuid import UUID, uuid4\n",
    "\n",
    "from pydantic import BaseModel\n",
    "\n",
    "# ymd is a string parameter, and the function returns a datetime object\n",
    "def to_datetime(ymd: str) -> datetime:\n",
    "    \"\"\"Returns a year_month_day str format as a datetime\"\"\"  # <- a docstring\n",
    "    return datetime.strptime(ymd, \"%Y_%m_%d\")  # python is not expression oriented, so you must use the return keyword\n",
    "\n",
    "print(to_datetime(\"2023_8_27\"))\n",
    "\n",
    "# A simple data type\n",
    "@dataclass\n",
    "class EventDetails:\n",
    "    uuid: UUID\n",
    "    created: datetime\n",
    "    s3_path: str\n",
    "\n",
    "# While dataclass is quick and easy, it's not always the best choice for JSON (de)serialization\n",
    "details = EventDetails(uuid=uuid4(), created=datetime.now(tz=timezone.utc), s3_path=\"s3://foo\")\n",
    "print(details)\n",
    "\n",
    "# For serde, sometimes it's better to use pydantic, as it offers validation, and more JSON serializable types\n",
    "class EventDetails2(BaseModel):\n",
    "    uuid: UUID\n",
    "    created: datetime\n",
    "    s3_path: str\n",
    "\n",
    "details = EventDetails2(uuid=uuid4(), created=datetime.now(tz=timezone.utc), s3_path=\"s3://foo\")\n",
    "print(details.json(indent=2))"
   ]
  },
  {
   "cell_type": "markdown",
   "metadata": {},
   "source": [
    "### Python is king of local data processing\n",
    "\n",
    "Data scientists heavily use python frameworks like pandas, polars and duckdb for data analytics (polars can now lazy\n",
    "load data larger than disk size).  Python is also starting to challenge Java in Big Data data _processing_.  Java rules\n",
    "the roost with spark and flink, but this is starting to change.Even most spark tutorials use pyspark rather than scala\n",
    "to show how it works.\n",
    "\n",
    "> **Data _Processing_ vs. _Compute_**\n",
    "> \n",
    "> Data _processing_ is where you do some kind of querying on data, or \"cleaning\" it to make it more structured or\n",
    "> useable. Data _compute_ is where calculations are performed on data, usually converting the data into a numerical form\n",
    "> first.  Data processing is typically IO bound, but can sometimes be compute bound (eg calculating new values for data\n",
    "> in a column).  Conversely, data compute is usually CPU bound but can be IO bound (eg, shuffling data to worker nodes)\n",
    "> Java has fared well at data _processing_, but python (with accelerators) is king of data _compute_\n",
    "\n",
    "Python is also making good strides to make data processing work on data that can't fit on a local machine (a limitation\n",
    "of pandas) Frameworks like [fugue](https://fugue-tutorials.readthedocs.io/index.html) can distribute pandas/polars\n",
    "workloads across a distributed cluster much like spark now.\n",
    "\n",
    "> For example, OpenAI uses the ray framework to train GPT LLM's, because batch inference on spark was too slow. "
   ]
  },
  {
   "cell_type": "code",
   "execution_count": null,
   "metadata": {},
   "outputs": [],
   "source": [
    "# TODO: Create some NDJSON data and some parquet files, and show how we can do queries"
   ]
  },
  {
   "cell_type": "code",
   "execution_count": null,
   "metadata": {},
   "outputs": [],
   "source": [
    "# TODO: Create a simple example of a ray frame work"
   ]
  },
  {
   "cell_type": "markdown",
   "metadata": {},
   "source": [
    "### Modern type system\n",
    "\n",
    "Although the type checker is optional and only runs either from the IDE or through something like a mypy linter,\n",
    "python's type system is actually more powerful than Java 19.  It can for example, take care of None handling for you.\n",
    "For example, unlike Java, where all types are effectively a union of the values of their type plus null (called a\n",
    "_bottom_ type in programming language theory), in the python type system, type `T` is distinct from type `T | None`\n",
    "\n",
    "> **Not your father's null**\n",
    ">\n",
    "> In many older languages, the null type is a value that is a member of all types.  It can be returned by any function\n",
    "> which means you must always check for its presence.  More modern type systems eschew null types altogether, and use\n",
    "> a Functional Programming concept like Haskell's Maybe, or Rust's Option.  Java's Optional is a bastardized attempt.\n",
    "> In python, the type system with strict checks can catch many (but not all) None type exceptions."
   ]
  },
  {
   "cell_type": "code",
   "execution_count": null,
   "metadata": {},
   "outputs": [],
   "source": [
    "# The IDE  (with pylance) tells that we said our return type was `int` but it caught that there is a return path\n",
    "# that can return a None.  So we should fix this.  Note that this will still run.  Type annotations are ignored at\n",
    "# runtime.  So we should always fix these issues in the IDE or with a mypy lint check\n",
    "from pathlib import Path\n",
    "\n",
    "\n",
    "def foo(x: int) -> int:\n",
    "    if x < 10:\n",
    "        return None\n",
    "    else:\n",
    "        return x * 2\n",
    "\n",
    "ans = foo(3)\n",
    "print(ans)\n",
    "\n",
    "# Example of a function returning a Union type\n",
    "# We can declare that a function can take a Union of types or return a Union\n",
    "def date_or_str(base_dir: str | Path) -> str | Path:\n",
    "    dt = datetime.now().strftime('%Y_%m_%d') \n",
    "    if isinstance(base_dir, str):\n",
    "        base_dir = Path(base_dir)\n",
    "        return f\"{base_dir}/{dt}\"\n",
    "    else:\n",
    "        return base_dir / Path(dt)\n",
    "    \n",
    "print(date_or_str(\"/tmp\"))\n",
    "print(date_or_str(Path(\"/tmp\")))"
   ]
  },
  {
   "cell_type": "markdown",
   "metadata": {},
   "source": [
    "### Defacto language for ML\n",
    "\n",
    "Python is the defacto language of all the most popular ML toolkits (pytorch, tensorflow, hugging faces, sci-kit-learn,\n",
    "numpy, etc).  While python has its warts (all languages do), you pretty much have to know python to do any ML in a\n",
    "collaborative effort, because almost everyone else's code will be using some python framework.\n",
    "\n",
    "> The future is AI\n",
    ">\n",
    "> Either AI will become a tool we have to learn as end-users, or it may even eventually replace us.  If the former,\n",
    "> knowing how it works under the hood will help you use it better.  If the latter, you will have better job security.\n",
    "> Either way, understanding how AI works is crucial to your career\n",
    "\n",
    "### Mojo (a superset of python)\n",
    "\n",
    "A secret reason I want to get people to use python is as a gateway drug to the mojo language.  Mojo is an upcoming\n",
    "language that promises rust and C performance, and even faster with hardware accelerators (ie GPU/TPU/NPU).  It is\n",
    "currently in a very alpha stage and has serious limitations.  For example, it doesn't even have a list or dict type in\n",
    "its standard library.  But it shows a lot of promise because:\n",
    "\n",
    "- It should be faster than C or rust for parallelizable apps\n",
    "- It has no garbage collector, making it ideal for performance or latency sensitive apps\n",
    "- The syntax is very similar to PEP-695 typed python\n",
    "- You can run python code as-is\n",
    "- You can code in python (though you will only get a little performance boost)\n",
    "\n",
    "What this means, is that you can gradually port python code to mojo code over time, and get huge performance and\n",
    "infrastructure.  Since it is a superset of python, it also gets the entire python ecosystem for free.  These are huge\n",
    "advantages over rust for example."
   ]
  },
  {
   "cell_type": "code",
   "execution_count": null,
   "metadata": {},
   "outputs": [],
   "source": []
  }
 ],
 "metadata": {
  "kernelspec": {
   "display_name": ".venv",
   "language": "python",
   "name": "python3"
  },
  "language_info": {
   "codemirror_mode": {
    "name": "ipython",
    "version": 3
   },
   "file_extension": ".py",
   "mimetype": "text/x-python",
   "name": "python",
   "nbconvert_exporter": "python",
   "pygments_lexer": "ipython3",
   "version": "3.11.4"
  },
  "orig_nbformat": 4
 },
 "nbformat": 4,
 "nbformat_minor": 2
}
