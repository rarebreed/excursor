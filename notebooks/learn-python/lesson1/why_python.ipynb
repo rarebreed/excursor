{
 "cells": [
  {
   "cell_type": "markdown",
   "metadata": {},
   "source": [
    "# Today's topics\n",
    "\n",
    "- Who am I?\n",
    "- Go over the prerequisites in the README file\n",
    "- Why python?\n",
    "    - Small demos"
   ]
  },
  {
   "cell_type": "markdown",
   "metadata": {},
   "source": [
    "## Who am I?\n",
    "\n",
    "For those that don't know me...\n",
    "\n",
    "- I am the Lead QA for the DPT team\n",
    "    - and I lead a team of one...me :)\n",
    "- I'm a language nerd that's programmed in something like 15+ languages\n",
    "    - java, c, c++, rust, python, javascript, typescript, haskell, clojure, perl to name the biggies\n",
    "- The first half of my career was in the hardware industry, including some linux kernel driver code\n",
    "- Spent about 60% of my career in QA, and 40% as a dev"
   ]
  },
  {
   "cell_type": "markdown",
   "metadata": {},
   "source": [
    "## Why python?\n",
    "\n",
    "Python is one of the most in-demand languages in the market now as shown by Stack Overflow surveys.  \n",
    "\n",
    "- The basics are easy to learn\n",
    "- Python is king of data analytics on local machines \n",
    "- Modern Type System like type literals, unions, and None handling\n",
    "- Python is the lingua franca of Machine Learning and AI in general"
   ]
  },
  {
   "cell_type": "markdown",
   "metadata": {},
   "source": [
    "## The basics are simple\n",
    "\n",
    "Python is relatively simple and thus can be adopted quickly.  This is a big disadvantage over rust, which has a reputation for being hard to learn.  \n",
    "\n",
    "- Being simple makes python great for prototyping code.  \n",
    "- Speed of development is much faster than most languages which is ideal for ad-hoc/exploratory testing and experiments"
   ]
  },
  {
   "cell_type": "code",
   "metadata": {},
   "outputs": [
    {
     "name": "stdout",
     "output_type": "stream",
     "text": [
     ]
    }
   ],
   "source": [
    "from dataclasses import dataclass\n",
    "from datetime import datetime, timezone\n",
    "from uuid import UUID, uuid4\n",
    "\n",
    "from pydantic import BaseModel\n",
    "\n",
    "# Without type annotations (Please don't do this!!)\n",
    "def to_datetime_bad(ymd):\n",
    "    return datetime.strptime(ymd, \"%Y_%m_%d\")\n",
    "\n",
    "# With type annotations, ymd is a string parameter, and the function returns a datetime object\n",
    "def to_datetime(ymd: str) -> datetime:\n",
    "    \"\"\"Returns a year_month_day str format as a datetime\"\"\"  # <- a docstring\n",
    "    return datetime.strptime(ymd, \"%Y_%m_%d\")  # python is not expression oriented, so you must use the return keyword\n",
    "\n",
    "print(to_datetime(\"2023_8_27\"))"
   ]
  },
  {
   "cell_type": "code",
   "execution_count": 17,
   "metadata": {},
   "outputs": [
    {
     "name": "stdout",
     "output_type": "stream",
     "text": [
      "EventDetails(uuid=UUID('1819574a-089e-4fe8-92a4-51eec7b9b5a2'), created=datetime.datetime(2023, 9, 11, 14, 46, 49, 837058, tzinfo=datetime.timezone.utc), s3_path='s3://foo')\n",
      "Does details1 have the same value as details2? True\n",
      "Is details1 the same object as details2? False\n",
      "Address of details1 = 5650290064, details2 = 5645234320\n",
      "{\n",
      "  \"uuid\": \"947c5694-d064-4bb7-82c6-0ebdb17db40d\",\n",
      "  \"created\": \"2023-09-11T14:46:49.852535+00:00\",\n",
      "  \"s3_path\": \"s3://foo\"\n",
      "}\n"
     ]
    }
   ],
   "source": [
    "# A dataclass is like a Java POJO and automatically generates methods like __eq__ and __hash__\n",
    "@dataclass\n",
    "class EventDetails:\n",
    "    uuid: UUID\n",
    "    created: datetime\n",
    "    s3_path: str\n",
    "\n",
    "# While dataclass is quick and easy, it's not always the best choice for JSON (de)serialization\n",
    "uid = uuid=uuid4()\n",
    "now = datetime.now(tz=timezone.utc)\n",
    "details1 = EventDetails(uuid=uid, created=now, s3_path=\"s3://foo\")\n",
    "details2 = EventDetails(uuid=uid, created=now, s3_path=\"s3://foo\")\n",
    "print(details1)\n",
    "print(f\"Does details1 have the same value as details2? {details1 == details2}\")\n",
    "print(f\"Is details1 the same object as details2? {details1 is details2}\")\n",
    "print(f\"Address of details1 = {id(details1)}, details2 = {id(details2)}\")\n",
    "\n",
    "# For serde, sometimes it's better to use pydantic, as it offers validation, and more JSON serializable types\n",
    "class EventDetails2(BaseModel):\n",
    "    uuid: UUID\n",
    "    created: datetime\n",
    "    s3_path: str\n",
    "\n",
    "details = EventDetails2(uuid=uuid4(), created=datetime.now(tz=timezone.utc), s3_path=\"s3://foo\")\n",
    "print(details.json(indent=2))"
   ]
  },
  {
   "cell_type": "markdown",
   "metadata": {},
   "source": [
    "### Python is king of local data processing\n",
    "\n",
    "Data scientists heavily use python frameworks like pandas, polars and duckdb for data analytics for Small Data \n",
    "\n",
    "- Python is also making good strides to make data processing work on data that can't fit on a local machine \n",
    "    - [polars](https://www.pola.rs/) can now lazy load data larger than disk size.\n",
    "    - Frameworks like [fugue](https://fugue-tutorials.readthedocs.io/index.html) can distribute pandas/polars workloads across a distributed cluster much like spark now.\n",
    "- Python is also starting to challenge Java in Big Data data _processing_.  \n",
    "    - Java rules the roost with spark and flink, but this is starting to change.\n",
    "    - Even most spark tutorials use pyspark rather than scala to show how it works.\n",
    "    - OpenAI uses the [ray framework](https://docs.ray.io/en/latest/) to train GPT LLM's, \n",
    "        - because batch inference on spark was too slow\n",
    "        - Partially due to a [better shuffle algorithm](https://www.anyscale.com/blog/ray-breaks-the-usd1-tb-barrier-as-the-worlds-most-cost-efficient-sorting)\n",
    "        - and not having to marshall data to accelerator libraries like pytorch or numpy\n",
    "\n",
    "> **Data _Processing_ vs. _Compute_**\n",
    "> \n",
    "> There's not really a standard definition of this, but this is what I mean by _compute_ vs _processing_.\n",
    "> Data _processing_ is where you do some kind of querying or \"cleaning\" of data it to make it more structured or\n",
    "> useable. Data _compute_ is where calculations are performed on data, usually converting the data into a numerical form\n",
    "> first.  Data processing is typically IO bound, but can sometimes be compute bound (eg calculating new values for data\n",
    "> in a column).  Conversely, data compute is usually CPU bound but can be IO bound (eg, shuffling data to worker nodes)\n",
    "> Java has fared well at data _processing_, but python (with accelerators) is king of data _compute_"
   ]
  },
  {
   "cell_type": "code",
   "metadata": {},
   "outputs": [
    {
     "name": "stdout",
     "output_type": "stream",
     "text": [
     ]
    }
   ],
   "source": [
    "import duckdb as dd\n",
    "from datetime import datetime\n",
    "\n",
    "conn = dd.connect()\n",
    "\n",
    "start = datetime.now()\n",
    "relation = conn.read_json(\"example_data/test-runs2.ndjson\")\n",
    "second = conn.sql(\"\"\"SELECT tests.* FROM relation\"\"\")\n",
    "print(second)\n",
    "\n",
    "result = conn.sql(\"\"\"SELECT test_dt_endpoint.* FROM second\n",
    "WHERE test_dt_endpoint.result = 'error'\n",
    "AND test_dt_endpoint.exception LIKE '%NullPointerException%'\"\"\")\n",
    "end = datetime.now()\n",
    "print(f\"Took {end - start}\")\n",
    "\n",
    "# import polars as pl \n",
    "# pl.Config.set_tbl_cols(10)\n",
    "# pl.Config.set_fmt_str_lengths(50)\n",
    "# pl.Config.set_tbl_width_chars(300)\n",
    "print(result.pl())\n",
    "\n",
    "relation.to_parquet(\"example_data/test-runs.parquet\")  # type: ignore"
   ]
  },
  {
   "cell_type": "markdown",
   "metadata": {},
   "source": [
    "### Modern type system\n",
    "\n",
    "Python now has a sophisticated type system that is more powerful than Java (20+)\n",
    "\n",
    "- The type checker is optional and only runs either from the IDE or through something like a [mypy](https://mypy-lang.org/) or pyright\n",
    "- It can take care of None handling for you (unlike Java where null is a member of all types)\n",
    "    - in the python type system, type `T` is distinct from type `T | None`\n",
    "- The type system can be both _nominal_ (like Java) or _structural_ (stricter duck typing) through [Protocols](https://peps.python.org/pep-0544/)\n",
    "- _Unions_ handle many of the same capabilities as _sealed_ classes and interfaces in Java 15+\n",
    "- Python 3.12 via [PEP-695](https://peps.python.org/pep-0695/) will auto-detect Generic Variance (no need to manually specify it)\n",
    "- The type system can have _Literal_ values which are more convenient than _Enum_ types\n",
    "    - Literals let you have some features of _dependent type_ systems\n",
    "\n",
    "> **Not your father's null**\n",
    ">\n",
    "> In many older languages, the null type is a value that is a member of all types.  It can be returned by any function\n",
    "> which means you must always check for its presence.  More modern type systems eschew null types altogether, and use\n",
    "> a Functional Programming concept like Haskell's Maybe, or Rust's Option.  Java's Optional is a bastardized attempt.\n",
    "> In python, the type system with strict checks can catch many (but not all) None type exceptions."
   ]
  },
  {
   "cell_type": "code",
   "execution_count": null,
   "metadata": {},
   "outputs": [],
   "source": [
    "# The IDE  (with pylance) tells that we said our return type was `int` but it caught that there is a return path\n",
    "# that can return a None.  So we should fix this.  Note that this will still run.  Type annotations are ignored at\n",
    "# runtime.  So we should always fix these issues in the IDE or with a mypy lint check\n",
    "from pathlib import Path\n",
    "from typing import Literal\n",
    "\n",
    "\n",
    "def foo(x: int) -> int:\n",
    "    if x < 10:\n",
    "        return None\n",
    "    else:\n",
    "        return x * 2\n",
    "\n",
    "ans = foo(3)\n",
    "print(ans)\n",
    "\n",
    "# Example of a function returning a Union type\n",
    "# We can declare that a function can take a Union of types or return a Union\n",
    "def date_or_str(base_dir: str | Path) -> str | Path:\n",
    "    dt = datetime.now().strftime('%Y_%m_%d') \n",
    "    if isinstance(base_dir, str):\n",
    "        base_dir = Path(base_dir)\n",
    "        return f\"{base_dir}/{dt}\"\n",
    "    else:\n",
    "        return base_dir / Path(dt)\n",
    "    \n",
    "print(date_or_str(\"/tmp\"))\n",
    "print(date_or_str(Path(\"/tmp\")))\n",
    "\n",
    "# Example of a function that can only take the Literal values of 1 or 2.  Any other int will be an error\n",
    "def only_1_or_2(data: Literal[1, 2]):\n",
    "    match data:\n",
    "        case 1:\n",
    "            return \"one\"\n",
    "        case 2:\n",
    "            return \"two\"\n",
    "        \n",
    "only_1_or_2(3)\n",
    "# can I trick it?\n",
    "arg = 3\n",
    "only_1_or_2(arg)\n",
    "# Hmm, what if I fake the type?\n",
    "arg: Literal[1] = 3\n",
    "# What about some other expression that evaluates to 1 or 2?\n",
    "arg2 = 1 + 1\n",
    "only_1_or_2(arg)\n",
    "arg3 = 0 + 1\n",
    "only_1_or_2(arg3)\n",
    "\n",
    "def i_return_a_1():\n",
    "    return 1\n",
    "\n",
    "only_1_or_2(i_return_a_1() + 1)"
   ]
  },
  {
   "cell_type": "markdown",
   "metadata": {},
   "source": [
    "### Defacto language for ML\n",
    "\n",
    "Like it or not, python is the defacto language for Machine learning\n",
    "\n",
    "- all the most popular ML toolkits (pytorch, tensorflow, hugging faces, sci-kit-learn, numpy, etc)\n",
    "- nearly all the examples you will see will be in python\n",
    "- you will need to collaborate with others who only know/use python\n",
    "\n",
    "> The future is AI\n",
    ">\n",
    "> Either AI will become a tool we have to learn as end-users, or it may even eventually replace us.  If the former,\n",
    "> knowing how it works under the hood will help you use it better.  If the latter, you will have better job security.\n",
    "> Either way, understanding how AI works is crucial to your career"
   ]
  },
  {
   "cell_type": "markdown",
   "metadata": {},
   "source": [
    "### Mojo (a superset of python)\n",
    "\n",
    "A secret reason I want to get people to use python is as a gateway drug to the mojo language.  \n",
    "\n",
    "- Mojo is an upcoming language that promises rust and C performance\n",
    "    - and even faster with hardware accelerators (ie GPU/TPU/NPU).  \n",
    "- It is currently in a very alpha stage and has serious limitations\n",
    "    - For example, it doesn't even have a dict type in its standard library\n",
    "    - The standard library has no File IO or any kind of networking\n",
    "    \n",
    "But it shows a lot of promise because:\n",
    "\n",
    "- It should be faster than C(++) or rust for parallelizable apps\n",
    "- It has no garbage collector, making it ideal for performance or latency sensitive apps\n",
    "    - less risk of OOM\n",
    "    - less GC stutters\n",
    "- The syntax is very similar to PEP-695 typed python with compile time Parameterized Expressions\n",
    "    - The Generic types are named (unlike Java or Rust), meaning you can treat them as variables in an expression\n",
    "- You can (eventually) run python code as-is\n",
    "- It can generate stand-alone binaries\n",
    "- you can gradually port python code to mojo code over time (no Rewrite it in Rust)\n",
    "- since it will be a superset of python (eventually), it also gets the entire python ecosystem for free \n",
    "\n",
    "These are huge advantages over rust for example."
   ]
  }
 ],
 "metadata": {
  "kernelspec": {
   "display_name": ".venv",
   "language": "python",
   "name": "python3"
  },
  "language_info": {
   "codemirror_mode": {
    "name": "ipython",
    "version": 3
   },
   "file_extension": ".py",
   "mimetype": "text/x-python",
   "name": "python",
   "nbconvert_exporter": "python",
   "pygments_lexer": "ipython3",
   "version": "3.11.5"
  },
  "orig_nbformat": 4
 },
 "nbformat": 4,
 "nbformat_minor": 2
}
