{
 "cells": [
  {
   "cell_type": "markdown",
   "metadata": {},
   "source": [
    "# Advanced functions in python\n",
    "\n",
    "In this lesson, we will dive even farther into the basic building blocks of functions and cover advanced forms of\n",
    "functions including:\n",
    "\n",
    "- The type annotation of a function\n",
    "    - Callable and Protocol\n",
    "- functions as parameters\n",
    "- functions as return types\n",
    "- nested functions\n",
    "    - closures\n",
    "    - what is cptured or \"closed over\"\n",
    "- decorators\n",
    "    - the Paramspec type"
   ]
  }
 ],
 "metadata": {
  "language_info": {
   "name": "python"
  }
 },
 "nbformat": 4,
 "nbformat_minor": 2
}
