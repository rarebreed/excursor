{
 "cells": [
  {
   "attachments": {},
   "cell_type": "markdown",
   "metadata": {},
   "source": [
    "# Python Project Management\n",
    "\n",
    "A project is more than code.  It should have linting, testing, CI/CD, package building and a host of other concerns\n",
    "often labeled as `releng` for release engineering.\n",
    "\n",
    "We will cover some tooling that helps with all of the above.  Some of this will be python specific, and some of it will\n",
    "apply to any programming language"
   ]
  },
  {
   "attachments": {},
   "cell_type": "markdown",
   "metadata": {},
   "source": [
    "## Poetry: a tool to manage your project\n",
    "\n",
    "poetry is a relatively new software project management tool for python.  It has been heavily inspired by rust's cargo\n",
    "tool.  Briefly, the main selling points of using poetry are the following:\n",
    "\n",
    "- Better dependency management and resolver than vanilla pip\n",
    "- Can manage `extras` which specify what set of dependencies to use\n",
    "- Integrates with many other tools like autopep8 and pytest\n",
    "- Super easy publishing\n",
    "- virtualenv creation if none is already specified\n",
    "\n",
    "We will cover installing poetry and basic use cases"
   ]
  },
  {
   "attachments": {},
   "cell_type": "markdown",
   "metadata": {},
   "source": [
    "### Installing poetry"
   ]
  },
  {
   "cell_type": "code",
   "execution_count": null,
   "metadata": {},
   "outputs": [],
   "source": [
    "import subprocess as sp \n",
    "\n",
    "sp.call"
   ]
  }
 ],
 "metadata": {
  "kernelspec": {
   "display_name": "excursor",
   "language": "python",
   "name": "python3"
  },
  "language_info": {
   "name": "python",
   "version": "3.11.3"
  },
  "orig_nbformat": 4
 },
 "nbformat": 4,
 "nbformat_minor": 2
}
