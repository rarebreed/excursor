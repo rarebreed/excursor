{
 "cells": [
  {
   "attachments": {},
   "cell_type": "markdown",
   "metadata": {},
   "source": [
    "# Modern python 101\n",
    "\n",
    "We will go over new features since python 3.9 and also cover new features in the upcoming 3.12 that will come out later\n",
    "in 2023.  Some of these feeatures are not only brand new to python, but if you are not familiar with functional\n",
    "programming languages may be totally new to you.\n",
    "\n",
    "A separate guide on python type annotations in in the python-types.ipynb notebook and should be the first notebook\n",
    "that you read since it covers some basic python for those brand new to the python language.  We will cover the following:\n",
    "\n",
    "| version | feature |\n",
    "|---------|---------|\n",
    "| 3.9     | f strings \n",
    "| 3.9     | asyncio   |\n",
    "| "
   ]
  }
 ],
 "metadata": {
  "language_info": {
   "name": "python"
  },
  "orig_nbformat": 4
 },
 "nbformat": 4,
 "nbformat_minor": 2
}
